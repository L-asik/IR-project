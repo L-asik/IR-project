{
 "cells": [
  {
   "cell_type": "code",
   "execution_count": 1,
   "metadata": {},
   "outputs": [],
   "source": [
    "from re import L\n",
    "from sklearn import metrics\n",
    "import rank_metric as metrics\n",
    "from sklearn.metrics.pairwise import pairwise_distances\n",
    "from sklearn.feature_extraction.text import TfidfVectorizer\n",
    "import xml.etree.ElementTree as ET\n",
    "import matplotlib as plt\n",
    "import pandas as pd\n",
    "import numpy as np\n",
    "import pprint as pp\n",
    "import tarfile\n",
    "from sklearn.feature_extraction.text import CountVectorizer\n",
    "import math\n",
    "import plotly.express as px"
   ]
  },
  {
   "cell_type": "code",
   "execution_count": 4,
   "metadata": {},
   "outputs": [
    {
     "name": "stdout",
     "output_type": "stream",
     "text": [
      "Number of trials to use: 3626\n"
     ]
    }
   ],
   "source": [
    "#parsing real patient cases\n",
    "import pickle\n",
    "import os\n",
    "trials = \"data/qrels-clinical_trials.txt\"\n",
    "trials = pd.read_csv(trials, sep='\\t', names=[\"query_id\", \"dummy\", \"docid\", \"rel\"])\n",
    "trials = trials.drop(\"dummy\", axis = 1)\n",
    "trials_to_use = set(trials['docid'])\n",
    "\n",
    "#parsing clinical trials\n",
    "tar = tarfile.open(\"data/clinicaltrials.gov-16_dec_2015.tgz\", \"r:gz\")\n",
    "clinical_trials = {}\n",
    "docs = []\n",
    "ids = []\n",
    "i = 0\n",
    "for element in tar:\n",
    "    if element.size > 500:\n",
    "        txt = tar.extractfile(element).read().decode(\"utf-8\", \"strict\")\n",
    "        root = ET.fromstring(txt)\n",
    "        for doc_id in root.iter('nct_id'):\n",
    "            temp_id = doc_id.text\n",
    "        if temp_id not in trials_to_use:\n",
    "            continue\n",
    "        i+=1\n",
    "        for brief_title in root.iter('brief_title'):\n",
    "            docs.append(brief_title.text)\n",
    "            ids.append(temp_id)\n",
    "            clinical_trials[temp_id] = brief_title.text\n",
    "print(f\"Number of trials to use: {i}\")\n",
    "\n",
    "pickle.dump(docs, open( \"data/documents.bin\", \"wb\" ) )\n",
    "pickle.dump(ids, open( \"data/doc_ids.bin\", \"wb\" ) )\n"
   ]
  },
  {
   "cell_type": "code",
   "execution_count": 5,
   "metadata": {},
   "outputs": [],
   "source": [
    "Queries = \"data/topics-2014_2015-summary.topics\"\n",
    "with open(Queries, 'r') as queries_reader:\n",
    "    txt = queries_reader.read()\n",
    "root = ET.fromstring(txt)\n",
    "cases = {}\n",
    "for q in root.iter('TOP'):\n",
    "    q_number = q.find(\"NUM\").text\n",
    "    q_title = q.find('TITLE').text\n",
    "    cases[q_number] = q_title"
   ]
  },
  {
   "attachments": {},
   "cell_type": "markdown",
   "metadata": {},
   "source": [
    "## Class for functions used by Language Model with Jelineck-Mercer smooting and Vector Space Model"
   ]
  },
  {
   "cell_type": "code",
   "execution_count": 6,
   "metadata": {},
   "outputs": [],
   "source": [
    "class NLP:\n",
    "    def __init__(self, eval_table: pd.DataFrame, cases: dict, ngram_range, docs, ids):\n",
    "        # self.docs = documents\n",
    "        self.eval_table = eval_table\n",
    "        self.docs = docs\n",
    "        self.ids = ids\n",
    "        self.cases = cases\n",
    "        self.vsm = TfidfVectorizer(ngram_range=ngram_range, analyzer='word', stop_words = None)\n",
    "        self.X = self.vsm.fit_transform(docs)\n",
    "        self.vectorizer = CountVectorizer(ngram_range=(1,1), analyzer='word', stop_words = None)\n",
    "        self.Y=self.vectorizer.fit_transform(docs)\n",
    "\n",
    "    def test_vsm(self, query):\n",
    "        tfidf = self.vsm.transform([query])\n",
    "        score = 1 - pairwise_distances(self.X, tfidf, metric='cosine')\n",
    "        results = pd.DataFrame(list(zip(self.ids, score)), columns=['_id', 'score'])\n",
    "        ordered_results = results.sort_values(by=['score'], ascending=False).reset_index(drop=True)\n",
    "        return ordered_results\n",
    "\n",
    "    def eval(self, result: pd.DataFrame, id):\n",
    "        def_sim = self.eval_table[self.eval_table[\"query_id\"] == int(id)]\n",
    "        def_sim = def_sim[def_sim[\"rel\"] != 0]\n",
    "        rel_ids = def_sim[\"docid\"]\n",
    "        num_of_rel = def_sim[\"rel\"].count()\n",
    "        num_of_results = result[\"_id\"].count()\n",
    "\n",
    "        if num_of_rel == 0:\n",
    "            return [0, 0, 0, 0, 0]\n",
    "\n",
    "        #precision@10\n",
    "        top10 = result['_id'][:10]\n",
    "        p10 = np.intersect1d(top10, rel_ids).size / 10\n",
    "\n",
    "        #recall\n",
    "        recall = np.size(np.intersect1d(result[\"_id\"][:100], rel_ids)) / num_of_rel\n",
    "        rel_res_vector = np.zeros((num_of_results,))\n",
    "        for index, row in def_sim.iterrows():\n",
    "            rel_res_vector = rel_res_vector + ((result['_id'] == row.docid)*row.rel).to_numpy()\n",
    "        #ndcg5\n",
    "        ndcg5 = metrics.ndcg_at_k(r = rel_res_vector, k = 5, method = 1)\n",
    "        ap = metrics.average_precision(rel_res_vector, num_of_rel)\n",
    "        mrr = metrics.mean_reciprocal_rank(rel_res_vector)\n",
    "\n",
    "        return [p10, 1 - recall, ndcg5, ap, mrr]\n",
    "\n",
    "    def evalPR(self, scores, query_id):\n",
    "\n",
    "        aux = self.eval_table.loc[self.eval_table['query_id'] == int(query_id)]\n",
    "        idx_rel_docs = aux.loc[aux['rel'] != (0)]\n",
    "\n",
    "        [dummyA, rank_rel, dummyB] = np.intersect1d(scores['_id'], idx_rel_docs['docid'], return_indices=True)\n",
    "        rank_rel = np.sort(rank_rel) + 1\n",
    "        total_relv_ret = rank_rel.shape[0]\n",
    "        if total_relv_ret == 0:\n",
    "            return [np.zeros(11, ), [], total_relv_ret]\n",
    "\n",
    "        recall = np.arange(1, total_relv_ret + 1) / idx_rel_docs.shape[0]\n",
    "        precision = np.arange(1, total_relv_ret + 1) / rank_rel\n",
    "\n",
    "        precision_interpolated = np.maximum.accumulate(precision)\n",
    "        recall_11point = [0.0, 0.1, 0.2, 0.3, 0.4, 0.5, 0.6, 0.7, 0.8, 0.9, 1.0]\n",
    "        precision_11point = np.interp(recall_11point, recall, precision)\n",
    "\n",
    "        if False:\n",
    "            print(total_relv_ret)\n",
    "            print(rank_rel)\n",
    "            print(recall)\n",
    "            print(precision)\n",
    "            plt.plot(recall, precision, color='b', alpha=1)  # Raw precision-recall\n",
    "            plt.plot(recall, precision_interpolated, color='r', alpha=1)  # Interpolated precision-recall\n",
    "            plt.plot(recall_11point, precision_11point, color='g', alpha=1)  # 11-point interpolated precision-recall\n",
    "\n",
    "        return [precision_11point, recall_11point, total_relv_ret]\n",
    "\n",
    "\n",
    "    def words_and_indexes_association(self,query):\n",
    "        q_words=[]\n",
    "        word_idx=[]\n",
    "        all_words=self.vectorizer.get_feature_names_out()\n",
    "        for x in range(len(query)):\n",
    "            for y in range(len(all_words)):\n",
    "                if query[x] == all_words[y]:\n",
    "                    q_words.append(query[x])\n",
    "                    word_idx.append(y)\n",
    "                    break\n",
    "        return word_idx\n",
    "\n",
    "    def JMS(self):\n",
    "        x_array=self.Y.toarray()\n",
    "        x_array=np.array(x_array)\n",
    "        #sum of rows\n",
    "        p1=np.sum(x_array,axis=0)\n",
    "        #sum of cols\n",
    "        p2=np.sum(x_array,axis=1)\n",
    "        #number of words in whole corpus\n",
    "        p3=np.sum(x_array)\n",
    "        #probability of term in corpus\n",
    "        matrix_corpus=np.divide(p1,p3)\n",
    "        #probability of term in document\n",
    "        p2=np.reshape(p2,(p2.size,1))\n",
    "        matrix_documents=np.divide(x_array,p2)  \n",
    "        return matrix_corpus,matrix_documents\n",
    "\n",
    "    def query_formating(self,query):\n",
    "        query=query[:-11]\n",
    "        for y in query:\n",
    "                if y in \".,\":\n",
    "                    query=query.replace(y,'')\n",
    "                \n",
    "        return query \n",
    "\n",
    "    def prob_with_JMS(self,index_word,index_doc,lamb,matrix_corp,matrix_doc):\n",
    "        prob=0\n",
    "        for x in index_word:\n",
    "            p_md=matrix_doc[index_doc][x]\n",
    "            p_mc=matrix_corp[x]\n",
    "            prob+=math.log(lamb*p_md+(1-lamb)*p_mc)\n",
    "        return prob\n",
    "\n",
    "    def JSM_test(self,query,lamb,matrix_corpus,matrix_documents):\n",
    "        scores_now=[]\n",
    "        q=query.split()\n",
    "        word_idx=self.words_and_indexes_association(q)\n",
    "\n",
    "        for x in range(len(self.ids)):\n",
    "            prob=self.prob_with_JMS(word_idx,x,lamb,matrix_corpus,matrix_documents)\n",
    "            scores_now.append(prob)\n",
    "        results = pd.DataFrame(list(zip(ids, scores_now)), columns=['_id', 'score'])\n",
    "        ordered_results = results.sort_values(by=['score'], ascending=False).reset_index(drop=True)\n",
    "        return ordered_results\n",
    "    \n",
    "\n"
   ]
  },
  {
   "cell_type": "markdown",
   "metadata": {},
   "source": [
    "# Dataset split"
   ]
  },
  {
   "cell_type": "code",
   "execution_count": 7,
   "metadata": {},
   "outputs": [],
   "source": [
    "import random\n",
    "ids_split = list(cases.keys())\n",
    "random.shuffle(ids_split)\n",
    "ids_training = ids_split[:math.ceil(0.8*len(ids_split))]\n",
    "ids_test = ids_split[math.ceil(0.8*len(ids_split)):]\n",
    "cases_training = {}\n",
    "cases_test = {}\n",
    "for id in ids_training:\n",
    "    cases_training[id] = cases[id]\n",
    "for id in ids_test:\n",
    "    cases_test[id] = cases[id]"
   ]
  },
  {
   "attachments": {},
   "cell_type": "markdown",
   "metadata": {},
   "source": [
    "# Vector Space Model with different range of n-grams"
   ]
  },
  {
   "cell_type": "code",
   "execution_count": 8,
   "metadata": {},
   "outputs": [],
   "source": [
    "records = []\n",
    "statistics = {}\n",
    "for ngram in [(1,1), (1, 2), (2, 2), (1, 3), (2, 3), (3, 3)]:\n",
    "    myNLP = NLP(trials, cases_training, ngram, docs, ids)\n",
    "    prec = np.zeros(11,)\n",
    "    test = np.zeros(5,)\n",
    "    for x in myNLP.cases.items():\n",
    "        results = myNLP.test_vsm(x[1])\n",
    "        p10, recall, ndcg5, ap, mrr = myNLP.eval(results, x[0])\n",
    "        test = test + np.array([p10, ndcg5, mrr, ap, recall])\n",
    "        prec_11point, recal_11point, tot_relv_ret = myNLP.evalPR(results, x[0])\n",
    "        prec = prec + prec_11point\n",
    "        \n",
    "    prec = prec / len(cases.keys())\n",
    "    test = test / len(cases.keys())\n",
    "    for p, r in zip(prec, recal_11point):\n",
    "        records.append((ngram, p, r))\n",
    "    statistics[ngram] = test\n",
    "\n",
    "df = pd.DataFrame.from_records(records, columns=[\"ngram\", \"precision_11\", \"recall_11\"])\n",
    "stats = pd.DataFrame.from_dict(statistics, orient=\"index\", columns=[\"p10\", \"ndcg5\", \"mrr\", \"ap\", \"recall\"])\n"
   ]
  },
  {
   "cell_type": "code",
   "execution_count": 9,
   "metadata": {},
   "outputs": [
    {
     "data": {
      "text/html": [
       "<div>\n",
       "<style scoped>\n",
       "    .dataframe tbody tr th:only-of-type {\n",
       "        vertical-align: middle;\n",
       "    }\n",
       "\n",
       "    .dataframe tbody tr th {\n",
       "        vertical-align: top;\n",
       "    }\n",
       "\n",
       "    .dataframe thead th {\n",
       "        text-align: right;\n",
       "    }\n",
       "</style>\n",
       "<table border=\"1\" class=\"dataframe\">\n",
       "  <thead>\n",
       "    <tr style=\"text-align: right;\">\n",
       "      <th></th>\n",
       "      <th>p10</th>\n",
       "      <th>ndcg5</th>\n",
       "      <th>mrr</th>\n",
       "      <th>ap</th>\n",
       "      <th>recall</th>\n",
       "    </tr>\n",
       "  </thead>\n",
       "  <tbody>\n",
       "    <tr>\n",
       "      <th>(1, 1)</th>\n",
       "      <td>0.060000</td>\n",
       "      <td>0.050604</td>\n",
       "      <td>0.004311</td>\n",
       "      <td>0.037722</td>\n",
       "      <td>0.619257</td>\n",
       "    </tr>\n",
       "    <tr>\n",
       "      <th>(1, 2)</th>\n",
       "      <td>0.050000</td>\n",
       "      <td>0.045838</td>\n",
       "      <td>0.004311</td>\n",
       "      <td>0.035708</td>\n",
       "      <td>0.626312</td>\n",
       "    </tr>\n",
       "    <tr>\n",
       "      <th>(2, 2)</th>\n",
       "      <td>0.031667</td>\n",
       "      <td>0.037646</td>\n",
       "      <td>0.004311</td>\n",
       "      <td>0.019977</td>\n",
       "      <td>0.727448</td>\n",
       "    </tr>\n",
       "    <tr>\n",
       "      <th>(1, 3)</th>\n",
       "      <td>0.048333</td>\n",
       "      <td>0.042775</td>\n",
       "      <td>0.004311</td>\n",
       "      <td>0.033755</td>\n",
       "      <td>0.623876</td>\n",
       "    </tr>\n",
       "    <tr>\n",
       "      <th>(2, 3)</th>\n",
       "      <td>0.031667</td>\n",
       "      <td>0.035369</td>\n",
       "      <td>0.004311</td>\n",
       "      <td>0.019659</td>\n",
       "      <td>0.726547</td>\n",
       "    </tr>\n",
       "    <tr>\n",
       "      <th>(3, 3)</th>\n",
       "      <td>0.006667</td>\n",
       "      <td>0.010705</td>\n",
       "      <td>0.004311</td>\n",
       "      <td>0.008469</td>\n",
       "      <td>0.750652</td>\n",
       "    </tr>\n",
       "  </tbody>\n",
       "</table>\n",
       "</div>"
      ],
      "text/plain": [
       "             p10     ndcg5       mrr        ap    recall\n",
       "(1, 1)  0.060000  0.050604  0.004311  0.037722  0.619257\n",
       "(1, 2)  0.050000  0.045838  0.004311  0.035708  0.626312\n",
       "(2, 2)  0.031667  0.037646  0.004311  0.019977  0.727448\n",
       "(1, 3)  0.048333  0.042775  0.004311  0.033755  0.623876\n",
       "(2, 3)  0.031667  0.035369  0.004311  0.019659  0.726547\n",
       "(3, 3)  0.006667  0.010705  0.004311  0.008469  0.750652"
      ]
     },
     "execution_count": 9,
     "metadata": {},
     "output_type": "execute_result"
    }
   ],
   "source": [
    "stats"
   ]
  },
  {
   "cell_type": "code",
   "execution_count": 10,
   "metadata": {},
   "outputs": [
    {
     "data": {
      "application/vnd.plotly.v1+json": {
       "config": {
        "plotlyServerURL": "https://plot.ly"
       },
       "data": [
        {
         "hovertemplate": "ngram=(1, 1)<br>recall_11=%{x}<br>precision_11=%{y}<extra></extra>",
         "legendgroup": "(1, 1)",
         "line": {
          "color": "#636efa",
          "dash": "solid"
         },
         "marker": {
          "symbol": "circle"
         },
         "mode": "lines",
         "name": "(1, 1)",
         "orientation": "v",
         "showlegend": true,
         "type": "scatter",
         "x": [
          0,
          0.1,
          0.2,
          0.3,
          0.4,
          0.5,
          0.6,
          0.7,
          0.8,
          0.9,
          1
         ],
         "xaxis": "x",
         "y": [
          0.15588131039370692,
          0.10049430408949396,
          0.06903582125531435,
          0.05289621093397813,
          0.03984283154728272,
          0.027401947150060203,
          0.021299230211052567,
          0.016997864981351106,
          0.01122898217464436,
          0.010571872478691745,
          0.006107321812246571
         ],
         "yaxis": "y"
        },
        {
         "hovertemplate": "ngram=(1, 2)<br>recall_11=%{x}<br>precision_11=%{y}<extra></extra>",
         "legendgroup": "(1, 2)",
         "line": {
          "color": "#EF553B",
          "dash": "solid"
         },
         "marker": {
          "symbol": "circle"
         },
         "mode": "lines",
         "name": "(1, 2)",
         "orientation": "v",
         "showlegend": true,
         "type": "scatter",
         "x": [
          0,
          0.1,
          0.2,
          0.3,
          0.4,
          0.5,
          0.6,
          0.7,
          0.8,
          0.9,
          1
         ],
         "xaxis": "x",
         "y": [
          0.15358967413873068,
          0.09154212620455145,
          0.06434725853611716,
          0.04764447949886343,
          0.037132551206364044,
          0.027320414991968647,
          0.02171976081627443,
          0.01665910732027401,
          0.010859306949097846,
          0.010342707357016324,
          0.005865018130591776
         ],
         "yaxis": "y"
        },
        {
         "hovertemplate": "ngram=(2, 2)<br>recall_11=%{x}<br>precision_11=%{y}<extra></extra>",
         "legendgroup": "(2, 2)",
         "line": {
          "color": "#00cc96",
          "dash": "solid"
         },
         "marker": {
          "symbol": "circle"
         },
         "mode": "lines",
         "name": "(2, 2)",
         "orientation": "v",
         "showlegend": true,
         "type": "scatter",
         "x": [
          0,
          0.1,
          0.2,
          0.3,
          0.4,
          0.5,
          0.6,
          0.7,
          0.8,
          0.9,
          1
         ],
         "xaxis": "x",
         "y": [
          0.10417510047385704,
          0.061235236601085014,
          0.03381191428246725,
          0.022032387033348963,
          0.017228464966788884,
          0.013075048414949084,
          0.006447979742018173,
          0.005838490708539335,
          0.0056472374458851555,
          0.0055742232820724215,
          0.005473511405208875
         ],
         "yaxis": "y"
        },
        {
         "hovertemplate": "ngram=(1, 3)<br>recall_11=%{x}<br>precision_11=%{y}<extra></extra>",
         "legendgroup": "(1, 3)",
         "line": {
          "color": "#ab63fa",
          "dash": "solid"
         },
         "marker": {
          "symbol": "circle"
         },
         "mode": "lines",
         "name": "(1, 3)",
         "orientation": "v",
         "showlegend": true,
         "type": "scatter",
         "x": [
          0,
          0.1,
          0.2,
          0.3,
          0.4,
          0.5,
          0.6,
          0.7,
          0.8,
          0.9,
          1
         ],
         "xaxis": "x",
         "y": [
          0.13620744099760823,
          0.08022916504401673,
          0.05815065926185992,
          0.04489554663754202,
          0.03728771094608471,
          0.027750143609595164,
          0.021946806508165013,
          0.01658024468666019,
          0.01079886141385325,
          0.010390971100844939,
          0.0058937130597595385
         ],
         "yaxis": "y"
        },
        {
         "hovertemplate": "ngram=(2, 3)<br>recall_11=%{x}<br>precision_11=%{y}<extra></extra>",
         "legendgroup": "(2, 3)",
         "line": {
          "color": "#FFA15A",
          "dash": "solid"
         },
         "marker": {
          "symbol": "circle"
         },
         "mode": "lines",
         "name": "(2, 3)",
         "orientation": "v",
         "showlegend": true,
         "type": "scatter",
         "x": [
          0,
          0.1,
          0.2,
          0.3,
          0.4,
          0.5,
          0.6,
          0.7,
          0.8,
          0.9,
          1
         ],
         "xaxis": "x",
         "y": [
          0.10066061932123918,
          0.061397675886319954,
          0.03377285380490972,
          0.022203727910875406,
          0.017177959916283837,
          0.013075048414949084,
          0.006447979742018173,
          0.005838490708539335,
          0.0056472374458851555,
          0.0055742232820724215,
          0.005473511405208875
         ],
         "yaxis": "y"
        },
        {
         "hovertemplate": "ngram=(3, 3)<br>recall_11=%{x}<br>precision_11=%{y}<extra></extra>",
         "legendgroup": "(3, 3)",
         "line": {
          "color": "#19d3f3",
          "dash": "solid"
         },
         "marker": {
          "symbol": "circle"
         },
         "mode": "lines",
         "name": "(3, 3)",
         "orientation": "v",
         "showlegend": true,
         "type": "scatter",
         "x": [
          0,
          0.1,
          0.2,
          0.3,
          0.4,
          0.5,
          0.6,
          0.7,
          0.8,
          0.9,
          1
         ],
         "xaxis": "x",
         "y": [
          0.04078529719441651,
          0.025417356558849993,
          0.007894248921759281,
          0.005761424400847846,
          0.00546899327405935,
          0.0054310777126210154,
          0.005547632378497716,
          0.0054867017230914505,
          0.005493903638861551,
          0.0054634812453778926,
          0.005474515504382412
         ],
         "yaxis": "y"
        }
       ],
       "layout": {
        "legend": {
         "title": {
          "text": "ngram"
         },
         "tracegroupgap": 0
        },
        "margin": {
         "t": 60
        },
        "template": {
         "data": {
          "bar": [
           {
            "error_x": {
             "color": "#2a3f5f"
            },
            "error_y": {
             "color": "#2a3f5f"
            },
            "marker": {
             "line": {
              "color": "#E5ECF6",
              "width": 0.5
             },
             "pattern": {
              "fillmode": "overlay",
              "size": 10,
              "solidity": 0.2
             }
            },
            "type": "bar"
           }
          ],
          "barpolar": [
           {
            "marker": {
             "line": {
              "color": "#E5ECF6",
              "width": 0.5
             },
             "pattern": {
              "fillmode": "overlay",
              "size": 10,
              "solidity": 0.2
             }
            },
            "type": "barpolar"
           }
          ],
          "carpet": [
           {
            "aaxis": {
             "endlinecolor": "#2a3f5f",
             "gridcolor": "white",
             "linecolor": "white",
             "minorgridcolor": "white",
             "startlinecolor": "#2a3f5f"
            },
            "baxis": {
             "endlinecolor": "#2a3f5f",
             "gridcolor": "white",
             "linecolor": "white",
             "minorgridcolor": "white",
             "startlinecolor": "#2a3f5f"
            },
            "type": "carpet"
           }
          ],
          "choropleth": [
           {
            "colorbar": {
             "outlinewidth": 0,
             "ticks": ""
            },
            "type": "choropleth"
           }
          ],
          "contour": [
           {
            "colorbar": {
             "outlinewidth": 0,
             "ticks": ""
            },
            "colorscale": [
             [
              0,
              "#0d0887"
             ],
             [
              0.1111111111111111,
              "#46039f"
             ],
             [
              0.2222222222222222,
              "#7201a8"
             ],
             [
              0.3333333333333333,
              "#9c179e"
             ],
             [
              0.4444444444444444,
              "#bd3786"
             ],
             [
              0.5555555555555556,
              "#d8576b"
             ],
             [
              0.6666666666666666,
              "#ed7953"
             ],
             [
              0.7777777777777778,
              "#fb9f3a"
             ],
             [
              0.8888888888888888,
              "#fdca26"
             ],
             [
              1,
              "#f0f921"
             ]
            ],
            "type": "contour"
           }
          ],
          "contourcarpet": [
           {
            "colorbar": {
             "outlinewidth": 0,
             "ticks": ""
            },
            "type": "contourcarpet"
           }
          ],
          "heatmap": [
           {
            "colorbar": {
             "outlinewidth": 0,
             "ticks": ""
            },
            "colorscale": [
             [
              0,
              "#0d0887"
             ],
             [
              0.1111111111111111,
              "#46039f"
             ],
             [
              0.2222222222222222,
              "#7201a8"
             ],
             [
              0.3333333333333333,
              "#9c179e"
             ],
             [
              0.4444444444444444,
              "#bd3786"
             ],
             [
              0.5555555555555556,
              "#d8576b"
             ],
             [
              0.6666666666666666,
              "#ed7953"
             ],
             [
              0.7777777777777778,
              "#fb9f3a"
             ],
             [
              0.8888888888888888,
              "#fdca26"
             ],
             [
              1,
              "#f0f921"
             ]
            ],
            "type": "heatmap"
           }
          ],
          "heatmapgl": [
           {
            "colorbar": {
             "outlinewidth": 0,
             "ticks": ""
            },
            "colorscale": [
             [
              0,
              "#0d0887"
             ],
             [
              0.1111111111111111,
              "#46039f"
             ],
             [
              0.2222222222222222,
              "#7201a8"
             ],
             [
              0.3333333333333333,
              "#9c179e"
             ],
             [
              0.4444444444444444,
              "#bd3786"
             ],
             [
              0.5555555555555556,
              "#d8576b"
             ],
             [
              0.6666666666666666,
              "#ed7953"
             ],
             [
              0.7777777777777778,
              "#fb9f3a"
             ],
             [
              0.8888888888888888,
              "#fdca26"
             ],
             [
              1,
              "#f0f921"
             ]
            ],
            "type": "heatmapgl"
           }
          ],
          "histogram": [
           {
            "marker": {
             "pattern": {
              "fillmode": "overlay",
              "size": 10,
              "solidity": 0.2
             }
            },
            "type": "histogram"
           }
          ],
          "histogram2d": [
           {
            "colorbar": {
             "outlinewidth": 0,
             "ticks": ""
            },
            "colorscale": [
             [
              0,
              "#0d0887"
             ],
             [
              0.1111111111111111,
              "#46039f"
             ],
             [
              0.2222222222222222,
              "#7201a8"
             ],
             [
              0.3333333333333333,
              "#9c179e"
             ],
             [
              0.4444444444444444,
              "#bd3786"
             ],
             [
              0.5555555555555556,
              "#d8576b"
             ],
             [
              0.6666666666666666,
              "#ed7953"
             ],
             [
              0.7777777777777778,
              "#fb9f3a"
             ],
             [
              0.8888888888888888,
              "#fdca26"
             ],
             [
              1,
              "#f0f921"
             ]
            ],
            "type": "histogram2d"
           }
          ],
          "histogram2dcontour": [
           {
            "colorbar": {
             "outlinewidth": 0,
             "ticks": ""
            },
            "colorscale": [
             [
              0,
              "#0d0887"
             ],
             [
              0.1111111111111111,
              "#46039f"
             ],
             [
              0.2222222222222222,
              "#7201a8"
             ],
             [
              0.3333333333333333,
              "#9c179e"
             ],
             [
              0.4444444444444444,
              "#bd3786"
             ],
             [
              0.5555555555555556,
              "#d8576b"
             ],
             [
              0.6666666666666666,
              "#ed7953"
             ],
             [
              0.7777777777777778,
              "#fb9f3a"
             ],
             [
              0.8888888888888888,
              "#fdca26"
             ],
             [
              1,
              "#f0f921"
             ]
            ],
            "type": "histogram2dcontour"
           }
          ],
          "mesh3d": [
           {
            "colorbar": {
             "outlinewidth": 0,
             "ticks": ""
            },
            "type": "mesh3d"
           }
          ],
          "parcoords": [
           {
            "line": {
             "colorbar": {
              "outlinewidth": 0,
              "ticks": ""
             }
            },
            "type": "parcoords"
           }
          ],
          "pie": [
           {
            "automargin": true,
            "type": "pie"
           }
          ],
          "scatter": [
           {
            "fillpattern": {
             "fillmode": "overlay",
             "size": 10,
             "solidity": 0.2
            },
            "type": "scatter"
           }
          ],
          "scatter3d": [
           {
            "line": {
             "colorbar": {
              "outlinewidth": 0,
              "ticks": ""
             }
            },
            "marker": {
             "colorbar": {
              "outlinewidth": 0,
              "ticks": ""
             }
            },
            "type": "scatter3d"
           }
          ],
          "scattercarpet": [
           {
            "marker": {
             "colorbar": {
              "outlinewidth": 0,
              "ticks": ""
             }
            },
            "type": "scattercarpet"
           }
          ],
          "scattergeo": [
           {
            "marker": {
             "colorbar": {
              "outlinewidth": 0,
              "ticks": ""
             }
            },
            "type": "scattergeo"
           }
          ],
          "scattergl": [
           {
            "marker": {
             "colorbar": {
              "outlinewidth": 0,
              "ticks": ""
             }
            },
            "type": "scattergl"
           }
          ],
          "scattermapbox": [
           {
            "marker": {
             "colorbar": {
              "outlinewidth": 0,
              "ticks": ""
             }
            },
            "type": "scattermapbox"
           }
          ],
          "scatterpolar": [
           {
            "marker": {
             "colorbar": {
              "outlinewidth": 0,
              "ticks": ""
             }
            },
            "type": "scatterpolar"
           }
          ],
          "scatterpolargl": [
           {
            "marker": {
             "colorbar": {
              "outlinewidth": 0,
              "ticks": ""
             }
            },
            "type": "scatterpolargl"
           }
          ],
          "scatterternary": [
           {
            "marker": {
             "colorbar": {
              "outlinewidth": 0,
              "ticks": ""
             }
            },
            "type": "scatterternary"
           }
          ],
          "surface": [
           {
            "colorbar": {
             "outlinewidth": 0,
             "ticks": ""
            },
            "colorscale": [
             [
              0,
              "#0d0887"
             ],
             [
              0.1111111111111111,
              "#46039f"
             ],
             [
              0.2222222222222222,
              "#7201a8"
             ],
             [
              0.3333333333333333,
              "#9c179e"
             ],
             [
              0.4444444444444444,
              "#bd3786"
             ],
             [
              0.5555555555555556,
              "#d8576b"
             ],
             [
              0.6666666666666666,
              "#ed7953"
             ],
             [
              0.7777777777777778,
              "#fb9f3a"
             ],
             [
              0.8888888888888888,
              "#fdca26"
             ],
             [
              1,
              "#f0f921"
             ]
            ],
            "type": "surface"
           }
          ],
          "table": [
           {
            "cells": {
             "fill": {
              "color": "#EBF0F8"
             },
             "line": {
              "color": "white"
             }
            },
            "header": {
             "fill": {
              "color": "#C8D4E3"
             },
             "line": {
              "color": "white"
             }
            },
            "type": "table"
           }
          ]
         },
         "layout": {
          "annotationdefaults": {
           "arrowcolor": "#2a3f5f",
           "arrowhead": 0,
           "arrowwidth": 1
          },
          "autotypenumbers": "strict",
          "coloraxis": {
           "colorbar": {
            "outlinewidth": 0,
            "ticks": ""
           }
          },
          "colorscale": {
           "diverging": [
            [
             0,
             "#8e0152"
            ],
            [
             0.1,
             "#c51b7d"
            ],
            [
             0.2,
             "#de77ae"
            ],
            [
             0.3,
             "#f1b6da"
            ],
            [
             0.4,
             "#fde0ef"
            ],
            [
             0.5,
             "#f7f7f7"
            ],
            [
             0.6,
             "#e6f5d0"
            ],
            [
             0.7,
             "#b8e186"
            ],
            [
             0.8,
             "#7fbc41"
            ],
            [
             0.9,
             "#4d9221"
            ],
            [
             1,
             "#276419"
            ]
           ],
           "sequential": [
            [
             0,
             "#0d0887"
            ],
            [
             0.1111111111111111,
             "#46039f"
            ],
            [
             0.2222222222222222,
             "#7201a8"
            ],
            [
             0.3333333333333333,
             "#9c179e"
            ],
            [
             0.4444444444444444,
             "#bd3786"
            ],
            [
             0.5555555555555556,
             "#d8576b"
            ],
            [
             0.6666666666666666,
             "#ed7953"
            ],
            [
             0.7777777777777778,
             "#fb9f3a"
            ],
            [
             0.8888888888888888,
             "#fdca26"
            ],
            [
             1,
             "#f0f921"
            ]
           ],
           "sequentialminus": [
            [
             0,
             "#0d0887"
            ],
            [
             0.1111111111111111,
             "#46039f"
            ],
            [
             0.2222222222222222,
             "#7201a8"
            ],
            [
             0.3333333333333333,
             "#9c179e"
            ],
            [
             0.4444444444444444,
             "#bd3786"
            ],
            [
             0.5555555555555556,
             "#d8576b"
            ],
            [
             0.6666666666666666,
             "#ed7953"
            ],
            [
             0.7777777777777778,
             "#fb9f3a"
            ],
            [
             0.8888888888888888,
             "#fdca26"
            ],
            [
             1,
             "#f0f921"
            ]
           ]
          },
          "colorway": [
           "#636efa",
           "#EF553B",
           "#00cc96",
           "#ab63fa",
           "#FFA15A",
           "#19d3f3",
           "#FF6692",
           "#B6E880",
           "#FF97FF",
           "#FECB52"
          ],
          "font": {
           "color": "#2a3f5f"
          },
          "geo": {
           "bgcolor": "white",
           "lakecolor": "white",
           "landcolor": "#E5ECF6",
           "showlakes": true,
           "showland": true,
           "subunitcolor": "white"
          },
          "hoverlabel": {
           "align": "left"
          },
          "hovermode": "closest",
          "mapbox": {
           "style": "light"
          },
          "paper_bgcolor": "white",
          "plot_bgcolor": "#E5ECF6",
          "polar": {
           "angularaxis": {
            "gridcolor": "white",
            "linecolor": "white",
            "ticks": ""
           },
           "bgcolor": "#E5ECF6",
           "radialaxis": {
            "gridcolor": "white",
            "linecolor": "white",
            "ticks": ""
           }
          },
          "scene": {
           "xaxis": {
            "backgroundcolor": "#E5ECF6",
            "gridcolor": "white",
            "gridwidth": 2,
            "linecolor": "white",
            "showbackground": true,
            "ticks": "",
            "zerolinecolor": "white"
           },
           "yaxis": {
            "backgroundcolor": "#E5ECF6",
            "gridcolor": "white",
            "gridwidth": 2,
            "linecolor": "white",
            "showbackground": true,
            "ticks": "",
            "zerolinecolor": "white"
           },
           "zaxis": {
            "backgroundcolor": "#E5ECF6",
            "gridcolor": "white",
            "gridwidth": 2,
            "linecolor": "white",
            "showbackground": true,
            "ticks": "",
            "zerolinecolor": "white"
           }
          },
          "shapedefaults": {
           "line": {
            "color": "#2a3f5f"
           }
          },
          "ternary": {
           "aaxis": {
            "gridcolor": "white",
            "linecolor": "white",
            "ticks": ""
           },
           "baxis": {
            "gridcolor": "white",
            "linecolor": "white",
            "ticks": ""
           },
           "bgcolor": "#E5ECF6",
           "caxis": {
            "gridcolor": "white",
            "linecolor": "white",
            "ticks": ""
           }
          },
          "title": {
           "x": 0.05
          },
          "xaxis": {
           "automargin": true,
           "gridcolor": "white",
           "linecolor": "white",
           "ticks": "",
           "title": {
            "standoff": 15
           },
           "zerolinecolor": "white",
           "zerolinewidth": 2
          },
          "yaxis": {
           "automargin": true,
           "gridcolor": "white",
           "linecolor": "white",
           "ticks": "",
           "title": {
            "standoff": 15
           },
           "zerolinecolor": "white",
           "zerolinewidth": 2
          }
         }
        },
        "xaxis": {
         "anchor": "y",
         "domain": [
          0,
          1
         ],
         "title": {
          "text": "recall_11"
         }
        },
        "yaxis": {
         "anchor": "x",
         "domain": [
          0,
          1
         ],
         "title": {
          "text": "precision_11"
         }
        }
       }
      }
     },
     "metadata": {},
     "output_type": "display_data"
    }
   ],
   "source": [
    "fig = px.line(df, x=\"recall_11\", y=\"precision_11\", color='ngram')\n",
    "fig.show()"
   ]
  },
  {
   "attachments": {},
   "cell_type": "markdown",
   "metadata": {},
   "source": [
    "# Jelineck-Mercer smoothing with different lambdas(smoothing variables)\n"
   ]
  },
  {
   "cell_type": "code",
   "execution_count": 11,
   "metadata": {},
   "outputs": [],
   "source": [
    "myNLP = NLP(trials, cases_training, (1, 1), docs, ids)\n",
    "records_jms = []\n",
    "statistics_jms = {}\n",
    "matrix_corpus,matrix_documents=myNLP.JMS()\n",
    "for lamb in [0.0, 0.1, 0.2, 0.3, 0.4, 0.5, 0.6, 0.7, 0.8, 0.9, 0.99]:\n",
    "    prec = np.zeros(11,)\n",
    "    test = np.zeros(5,)\n",
    "    \n",
    "\n",
    "    for x in myNLP.cases.items():\n",
    "        query=myNLP.query_formating(x[1])\n",
    "        results=myNLP.JSM_test(query,lamb,matrix_corpus,matrix_documents)\n",
    "        p10,recall,ndcg5,ap,mrr=myNLP.eval(results,x[0])\n",
    "        test = test + np.array([p10, ndcg5, mrr, ap, recall])\n",
    "        prec_11point, recal_11point, tot_relv_ret = myNLP.evalPR(results, x[0])\n",
    "        prec = prec + prec_11point\n",
    "    \n",
    "    prec = prec / len(cases.keys())\n",
    "    test = test / len(cases.keys())\n",
    "    for p, r in zip(prec, recal_11point):\n",
    "        records_jms.append((lamb, p, r))\n",
    "    statistics_jms[lamb] = test\n",
    "df_jms = pd.DataFrame.from_records(records_jms, columns=[\"lambda\", \"precision_11\", \"recall_11\"])\n",
    "stats = pd.DataFrame.from_dict(statistics_jms, orient=\"index\", columns=[\"p10\", \"ndcg5\", \"mrr\", \"ap\", \"recall\"])"
   ]
  },
  {
   "cell_type": "code",
   "execution_count": 12,
   "metadata": {},
   "outputs": [
    {
     "data": {
      "text/html": [
       "<div>\n",
       "<style scoped>\n",
       "    .dataframe tbody tr th:only-of-type {\n",
       "        vertical-align: middle;\n",
       "    }\n",
       "\n",
       "    .dataframe tbody tr th {\n",
       "        vertical-align: top;\n",
       "    }\n",
       "\n",
       "    .dataframe thead th {\n",
       "        text-align: right;\n",
       "    }\n",
       "</style>\n",
       "<table border=\"1\" class=\"dataframe\">\n",
       "  <thead>\n",
       "    <tr style=\"text-align: right;\">\n",
       "      <th></th>\n",
       "      <th>p10</th>\n",
       "      <th>ndcg5</th>\n",
       "      <th>mrr</th>\n",
       "      <th>ap</th>\n",
       "      <th>recall</th>\n",
       "    </tr>\n",
       "  </thead>\n",
       "  <tbody>\n",
       "    <tr>\n",
       "      <th>0.00</th>\n",
       "      <td>0.001667</td>\n",
       "      <td>0.005653</td>\n",
       "      <td>0.004311</td>\n",
       "      <td>0.006251</td>\n",
       "      <td>0.753521</td>\n",
       "    </tr>\n",
       "    <tr>\n",
       "      <th>0.10</th>\n",
       "      <td>0.060000</td>\n",
       "      <td>0.050654</td>\n",
       "      <td>0.004311</td>\n",
       "      <td>0.041675</td>\n",
       "      <td>0.614117</td>\n",
       "    </tr>\n",
       "    <tr>\n",
       "      <th>0.20</th>\n",
       "      <td>0.058333</td>\n",
       "      <td>0.052337</td>\n",
       "      <td>0.004311</td>\n",
       "      <td>0.041529</td>\n",
       "      <td>0.611727</td>\n",
       "    </tr>\n",
       "    <tr>\n",
       "      <th>0.30</th>\n",
       "      <td>0.056667</td>\n",
       "      <td>0.052342</td>\n",
       "      <td>0.004311</td>\n",
       "      <td>0.040904</td>\n",
       "      <td>0.614520</td>\n",
       "    </tr>\n",
       "    <tr>\n",
       "      <th>0.40</th>\n",
       "      <td>0.058333</td>\n",
       "      <td>0.055916</td>\n",
       "      <td>0.004311</td>\n",
       "      <td>0.040221</td>\n",
       "      <td>0.619632</td>\n",
       "    </tr>\n",
       "    <tr>\n",
       "      <th>0.50</th>\n",
       "      <td>0.056667</td>\n",
       "      <td>0.053753</td>\n",
       "      <td>0.004311</td>\n",
       "      <td>0.039135</td>\n",
       "      <td>0.621924</td>\n",
       "    </tr>\n",
       "    <tr>\n",
       "      <th>0.60</th>\n",
       "      <td>0.053333</td>\n",
       "      <td>0.049373</td>\n",
       "      <td>0.004311</td>\n",
       "      <td>0.037526</td>\n",
       "      <td>0.624772</td>\n",
       "    </tr>\n",
       "    <tr>\n",
       "      <th>0.70</th>\n",
       "      <td>0.053333</td>\n",
       "      <td>0.049307</td>\n",
       "      <td>0.004311</td>\n",
       "      <td>0.036721</td>\n",
       "      <td>0.628207</td>\n",
       "    </tr>\n",
       "    <tr>\n",
       "      <th>0.80</th>\n",
       "      <td>0.051667</td>\n",
       "      <td>0.048195</td>\n",
       "      <td>0.004311</td>\n",
       "      <td>0.035847</td>\n",
       "      <td>0.638779</td>\n",
       "    </tr>\n",
       "    <tr>\n",
       "      <th>0.90</th>\n",
       "      <td>0.041667</td>\n",
       "      <td>0.046643</td>\n",
       "      <td>0.004311</td>\n",
       "      <td>0.032979</td>\n",
       "      <td>0.656997</td>\n",
       "    </tr>\n",
       "    <tr>\n",
       "      <th>0.99</th>\n",
       "      <td>0.038333</td>\n",
       "      <td>0.039141</td>\n",
       "      <td>0.004311</td>\n",
       "      <td>0.027603</td>\n",
       "      <td>0.668871</td>\n",
       "    </tr>\n",
       "  </tbody>\n",
       "</table>\n",
       "</div>"
      ],
      "text/plain": [
       "           p10     ndcg5       mrr        ap    recall\n",
       "0.00  0.001667  0.005653  0.004311  0.006251  0.753521\n",
       "0.10  0.060000  0.050654  0.004311  0.041675  0.614117\n",
       "0.20  0.058333  0.052337  0.004311  0.041529  0.611727\n",
       "0.30  0.056667  0.052342  0.004311  0.040904  0.614520\n",
       "0.40  0.058333  0.055916  0.004311  0.040221  0.619632\n",
       "0.50  0.056667  0.053753  0.004311  0.039135  0.621924\n",
       "0.60  0.053333  0.049373  0.004311  0.037526  0.624772\n",
       "0.70  0.053333  0.049307  0.004311  0.036721  0.628207\n",
       "0.80  0.051667  0.048195  0.004311  0.035847  0.638779\n",
       "0.90  0.041667  0.046643  0.004311  0.032979  0.656997\n",
       "0.99  0.038333  0.039141  0.004311  0.027603  0.668871"
      ]
     },
     "execution_count": 12,
     "metadata": {},
     "output_type": "execute_result"
    }
   ],
   "source": [
    "stats"
   ]
  },
  {
   "cell_type": "code",
   "execution_count": 13,
   "metadata": {},
   "outputs": [
    {
     "data": {
      "application/vnd.plotly.v1+json": {
       "config": {
        "plotlyServerURL": "https://plot.ly"
       },
       "data": [
        {
         "hovertemplate": "lambda=0.0<br>recall_11=%{x}<br>precision_11=%{y}<extra></extra>",
         "legendgroup": "0.0",
         "line": {
          "color": "#636efa",
          "dash": "solid"
         },
         "marker": {
          "symbol": "circle"
         },
         "mode": "lines",
         "name": "0.0",
         "orientation": "v",
         "showlegend": true,
         "type": "scatter",
         "x": [
          0,
          0.1,
          0.2,
          0.3,
          0.4,
          0.5,
          0.6,
          0.7,
          0.8,
          0.9,
          1
         ],
         "xaxis": "x",
         "y": [
          0.024927353002191822,
          0.00808131994936272,
          0.006622291701283148,
          0.005474623446457705,
          0.0054239455794219925,
          0.005416226544958603,
          0.005540531879372592,
          0.005485348761693462,
          0.005491679902772402,
          0.005462667732643342,
          0.005474870064666246
         ],
         "yaxis": "y"
        },
        {
         "hovertemplate": "lambda=0.1<br>recall_11=%{x}<br>precision_11=%{y}<extra></extra>",
         "legendgroup": "0.1",
         "line": {
          "color": "#EF553B",
          "dash": "solid"
         },
         "marker": {
          "symbol": "circle"
         },
         "mode": "lines",
         "name": "0.1",
         "orientation": "v",
         "showlegend": true,
         "type": "scatter",
         "x": [
          0,
          0.1,
          0.2,
          0.3,
          0.4,
          0.5,
          0.6,
          0.7,
          0.8,
          0.9,
          1
         ],
         "xaxis": "x",
         "y": [
          0.16546704717106814,
          0.11700537598907795,
          0.0736080630373996,
          0.060675153199811364,
          0.048787395141240295,
          0.029065758614351667,
          0.022280533063798433,
          0.015498879809041853,
          0.011430550338202507,
          0.010833514484826086,
          0.00619736310365954
         ],
         "yaxis": "y"
        },
        {
         "hovertemplate": "lambda=0.2<br>recall_11=%{x}<br>precision_11=%{y}<extra></extra>",
         "legendgroup": "0.2",
         "line": {
          "color": "#00cc96",
          "dash": "solid"
         },
         "marker": {
          "symbol": "circle"
         },
         "mode": "lines",
         "name": "0.2",
         "orientation": "v",
         "showlegend": true,
         "type": "scatter",
         "x": [
          0,
          0.1,
          0.2,
          0.3,
          0.4,
          0.5,
          0.6,
          0.7,
          0.8,
          0.9,
          1
         ],
         "xaxis": "x",
         "y": [
          0.16689100288467548,
          0.11925382928958946,
          0.07521821711648627,
          0.060525285601012474,
          0.046424219160201924,
          0.027465026544312092,
          0.022124343668188183,
          0.015861596468329367,
          0.011283533126481688,
          0.010556532967100789,
          0.006347760398674101
         ],
         "yaxis": "y"
        },
        {
         "hovertemplate": "lambda=0.3<br>recall_11=%{x}<br>precision_11=%{y}<extra></extra>",
         "legendgroup": "0.3",
         "line": {
          "color": "#ab63fa",
          "dash": "solid"
         },
         "marker": {
          "symbol": "circle"
         },
         "mode": "lines",
         "name": "0.3",
         "orientation": "v",
         "showlegend": true,
         "type": "scatter",
         "x": [
          0,
          0.1,
          0.2,
          0.3,
          0.4,
          0.5,
          0.6,
          0.7,
          0.8,
          0.9,
          1
         ],
         "xaxis": "x",
         "y": [
          0.16156401288916572,
          0.11761152189265077,
          0.07655896893304782,
          0.06187451588775659,
          0.04574161541767368,
          0.025434506025104185,
          0.0214688045819715,
          0.015191029026514972,
          0.010787513732758486,
          0.009384644705231199,
          0.006305149885883573
         ],
         "yaxis": "y"
        },
        {
         "hovertemplate": "lambda=0.4<br>recall_11=%{x}<br>precision_11=%{y}<extra></extra>",
         "legendgroup": "0.4",
         "line": {
          "color": "#FFA15A",
          "dash": "solid"
         },
         "marker": {
          "symbol": "circle"
         },
         "mode": "lines",
         "name": "0.4",
         "orientation": "v",
         "showlegend": true,
         "type": "scatter",
         "x": [
          0,
          0.1,
          0.2,
          0.3,
          0.4,
          0.5,
          0.6,
          0.7,
          0.8,
          0.9,
          1
         ],
         "xaxis": "x",
         "y": [
          0.16232757832291672,
          0.11662254690876744,
          0.0772455551012559,
          0.06130262409491127,
          0.04489712528597445,
          0.02419781205595063,
          0.020542357062942378,
          0.014734965432093145,
          0.010037362955826407,
          0.00814977300440999,
          0.006329694070131447
         ],
         "yaxis": "y"
        },
        {
         "hovertemplate": "lambda=0.5<br>recall_11=%{x}<br>precision_11=%{y}<extra></extra>",
         "legendgroup": "0.5",
         "line": {
          "color": "#19d3f3",
          "dash": "solid"
         },
         "marker": {
          "symbol": "circle"
         },
         "mode": "lines",
         "name": "0.5",
         "orientation": "v",
         "showlegend": true,
         "type": "scatter",
         "x": [
          0,
          0.1,
          0.2,
          0.3,
          0.4,
          0.5,
          0.6,
          0.7,
          0.8,
          0.9,
          1
         ],
         "xaxis": "x",
         "y": [
          0.1654149241701153,
          0.11660817876169474,
          0.0744150790504308,
          0.05822040427903862,
          0.04398407258392813,
          0.023064154171758822,
          0.01970205438903139,
          0.014335472324995806,
          0.009306998163947469,
          0.007803833631548799,
          0.006365166524133857
         ],
         "yaxis": "y"
        },
        {
         "hovertemplate": "lambda=0.6<br>recall_11=%{x}<br>precision_11=%{y}<extra></extra>",
         "legendgroup": "0.6",
         "line": {
          "color": "#FF6692",
          "dash": "solid"
         },
         "marker": {
          "symbol": "circle"
         },
         "mode": "lines",
         "name": "0.6",
         "orientation": "v",
         "showlegend": true,
         "type": "scatter",
         "x": [
          0,
          0.1,
          0.2,
          0.3,
          0.4,
          0.5,
          0.6,
          0.7,
          0.8,
          0.9,
          1
         ],
         "xaxis": "x",
         "y": [
          0.15518556968635336,
          0.10680700561498697,
          0.07081028285299694,
          0.058650359780271534,
          0.04350177602774629,
          0.022247034377818505,
          0.018389750099448036,
          0.013822818067926613,
          0.00899986849447213,
          0.007719646009225342,
          0.006564451932683095
         ],
         "yaxis": "y"
        },
        {
         "hovertemplate": "lambda=0.7<br>recall_11=%{x}<br>precision_11=%{y}<extra></extra>",
         "legendgroup": "0.7",
         "line": {
          "color": "#B6E880",
          "dash": "solid"
         },
         "marker": {
          "symbol": "circle"
         },
         "mode": "lines",
         "name": "0.7",
         "orientation": "v",
         "showlegend": true,
         "type": "scatter",
         "x": [
          0,
          0.1,
          0.2,
          0.3,
          0.4,
          0.5,
          0.6,
          0.7,
          0.8,
          0.9,
          1
         ],
         "xaxis": "x",
         "y": [
          0.15664206864560803,
          0.1061330870711874,
          0.0709623204603061,
          0.057089346087357634,
          0.04127381907818395,
          0.02120849917955447,
          0.017080963508435822,
          0.013010380482380226,
          0.008624319787907016,
          0.00764024878222633,
          0.006588612234507401
         ],
         "yaxis": "y"
        },
        {
         "hovertemplate": "lambda=0.8<br>recall_11=%{x}<br>precision_11=%{y}<extra></extra>",
         "legendgroup": "0.8",
         "line": {
          "color": "#FF97FF",
          "dash": "solid"
         },
         "marker": {
          "symbol": "circle"
         },
         "mode": "lines",
         "name": "0.8",
         "orientation": "v",
         "showlegend": true,
         "type": "scatter",
         "x": [
          0,
          0.1,
          0.2,
          0.3,
          0.4,
          0.5,
          0.6,
          0.7,
          0.8,
          0.9,
          1
         ],
         "xaxis": "x",
         "y": [
          0.1534699612335227,
          0.10453274460981166,
          0.07122633145813342,
          0.05386658307823493,
          0.038556658621299866,
          0.02114901623382279,
          0.015561780684325146,
          0.012500616939006448,
          0.00857856290260377,
          0.00773282725870351,
          0.006834171925950542
         ],
         "yaxis": "y"
        },
        {
         "hovertemplate": "lambda=0.9<br>recall_11=%{x}<br>precision_11=%{y}<extra></extra>",
         "legendgroup": "0.9",
         "line": {
          "color": "#FECB52",
          "dash": "solid"
         },
         "marker": {
          "symbol": "circle"
         },
         "mode": "lines",
         "name": "0.9",
         "orientation": "v",
         "showlegend": true,
         "type": "scatter",
         "x": [
          0,
          0.1,
          0.2,
          0.3,
          0.4,
          0.5,
          0.6,
          0.7,
          0.8,
          0.9,
          1
         ],
         "xaxis": "x",
         "y": [
          0.1488529855296368,
          0.09938217348057031,
          0.06821452324343823,
          0.04893210765913788,
          0.030418256259616402,
          0.019426799365115908,
          0.013790999288414006,
          0.01042013187245963,
          0.008072668427506447,
          0.007286576808750869,
          0.006592717864684958
         ],
         "yaxis": "y"
        },
        {
         "hovertemplate": "lambda=0.99<br>recall_11=%{x}<br>precision_11=%{y}<extra></extra>",
         "legendgroup": "0.99",
         "line": {
          "color": "#636efa",
          "dash": "solid"
         },
         "marker": {
          "symbol": "circle"
         },
         "mode": "lines",
         "name": "0.99",
         "orientation": "v",
         "showlegend": true,
         "type": "scatter",
         "x": [
          0,
          0.1,
          0.2,
          0.3,
          0.4,
          0.5,
          0.6,
          0.7,
          0.8,
          0.9,
          1
         ],
         "xaxis": "x",
         "y": [
          0.12685563238893788,
          0.07647417561438222,
          0.05516539192987,
          0.038302592228807344,
          0.023983648816937344,
          0.017102442656366224,
          0.0122795153874248,
          0.010621129647957833,
          0.008934652022487992,
          0.008151687099285357,
          0.007784822908860133
         ],
         "yaxis": "y"
        }
       ],
       "layout": {
        "legend": {
         "title": {
          "text": "lambda"
         },
         "tracegroupgap": 0
        },
        "margin": {
         "t": 60
        },
        "template": {
         "data": {
          "bar": [
           {
            "error_x": {
             "color": "#2a3f5f"
            },
            "error_y": {
             "color": "#2a3f5f"
            },
            "marker": {
             "line": {
              "color": "#E5ECF6",
              "width": 0.5
             },
             "pattern": {
              "fillmode": "overlay",
              "size": 10,
              "solidity": 0.2
             }
            },
            "type": "bar"
           }
          ],
          "barpolar": [
           {
            "marker": {
             "line": {
              "color": "#E5ECF6",
              "width": 0.5
             },
             "pattern": {
              "fillmode": "overlay",
              "size": 10,
              "solidity": 0.2
             }
            },
            "type": "barpolar"
           }
          ],
          "carpet": [
           {
            "aaxis": {
             "endlinecolor": "#2a3f5f",
             "gridcolor": "white",
             "linecolor": "white",
             "minorgridcolor": "white",
             "startlinecolor": "#2a3f5f"
            },
            "baxis": {
             "endlinecolor": "#2a3f5f",
             "gridcolor": "white",
             "linecolor": "white",
             "minorgridcolor": "white",
             "startlinecolor": "#2a3f5f"
            },
            "type": "carpet"
           }
          ],
          "choropleth": [
           {
            "colorbar": {
             "outlinewidth": 0,
             "ticks": ""
            },
            "type": "choropleth"
           }
          ],
          "contour": [
           {
            "colorbar": {
             "outlinewidth": 0,
             "ticks": ""
            },
            "colorscale": [
             [
              0,
              "#0d0887"
             ],
             [
              0.1111111111111111,
              "#46039f"
             ],
             [
              0.2222222222222222,
              "#7201a8"
             ],
             [
              0.3333333333333333,
              "#9c179e"
             ],
             [
              0.4444444444444444,
              "#bd3786"
             ],
             [
              0.5555555555555556,
              "#d8576b"
             ],
             [
              0.6666666666666666,
              "#ed7953"
             ],
             [
              0.7777777777777778,
              "#fb9f3a"
             ],
             [
              0.8888888888888888,
              "#fdca26"
             ],
             [
              1,
              "#f0f921"
             ]
            ],
            "type": "contour"
           }
          ],
          "contourcarpet": [
           {
            "colorbar": {
             "outlinewidth": 0,
             "ticks": ""
            },
            "type": "contourcarpet"
           }
          ],
          "heatmap": [
           {
            "colorbar": {
             "outlinewidth": 0,
             "ticks": ""
            },
            "colorscale": [
             [
              0,
              "#0d0887"
             ],
             [
              0.1111111111111111,
              "#46039f"
             ],
             [
              0.2222222222222222,
              "#7201a8"
             ],
             [
              0.3333333333333333,
              "#9c179e"
             ],
             [
              0.4444444444444444,
              "#bd3786"
             ],
             [
              0.5555555555555556,
              "#d8576b"
             ],
             [
              0.6666666666666666,
              "#ed7953"
             ],
             [
              0.7777777777777778,
              "#fb9f3a"
             ],
             [
              0.8888888888888888,
              "#fdca26"
             ],
             [
              1,
              "#f0f921"
             ]
            ],
            "type": "heatmap"
           }
          ],
          "heatmapgl": [
           {
            "colorbar": {
             "outlinewidth": 0,
             "ticks": ""
            },
            "colorscale": [
             [
              0,
              "#0d0887"
             ],
             [
              0.1111111111111111,
              "#46039f"
             ],
             [
              0.2222222222222222,
              "#7201a8"
             ],
             [
              0.3333333333333333,
              "#9c179e"
             ],
             [
              0.4444444444444444,
              "#bd3786"
             ],
             [
              0.5555555555555556,
              "#d8576b"
             ],
             [
              0.6666666666666666,
              "#ed7953"
             ],
             [
              0.7777777777777778,
              "#fb9f3a"
             ],
             [
              0.8888888888888888,
              "#fdca26"
             ],
             [
              1,
              "#f0f921"
             ]
            ],
            "type": "heatmapgl"
           }
          ],
          "histogram": [
           {
            "marker": {
             "pattern": {
              "fillmode": "overlay",
              "size": 10,
              "solidity": 0.2
             }
            },
            "type": "histogram"
           }
          ],
          "histogram2d": [
           {
            "colorbar": {
             "outlinewidth": 0,
             "ticks": ""
            },
            "colorscale": [
             [
              0,
              "#0d0887"
             ],
             [
              0.1111111111111111,
              "#46039f"
             ],
             [
              0.2222222222222222,
              "#7201a8"
             ],
             [
              0.3333333333333333,
              "#9c179e"
             ],
             [
              0.4444444444444444,
              "#bd3786"
             ],
             [
              0.5555555555555556,
              "#d8576b"
             ],
             [
              0.6666666666666666,
              "#ed7953"
             ],
             [
              0.7777777777777778,
              "#fb9f3a"
             ],
             [
              0.8888888888888888,
              "#fdca26"
             ],
             [
              1,
              "#f0f921"
             ]
            ],
            "type": "histogram2d"
           }
          ],
          "histogram2dcontour": [
           {
            "colorbar": {
             "outlinewidth": 0,
             "ticks": ""
            },
            "colorscale": [
             [
              0,
              "#0d0887"
             ],
             [
              0.1111111111111111,
              "#46039f"
             ],
             [
              0.2222222222222222,
              "#7201a8"
             ],
             [
              0.3333333333333333,
              "#9c179e"
             ],
             [
              0.4444444444444444,
              "#bd3786"
             ],
             [
              0.5555555555555556,
              "#d8576b"
             ],
             [
              0.6666666666666666,
              "#ed7953"
             ],
             [
              0.7777777777777778,
              "#fb9f3a"
             ],
             [
              0.8888888888888888,
              "#fdca26"
             ],
             [
              1,
              "#f0f921"
             ]
            ],
            "type": "histogram2dcontour"
           }
          ],
          "mesh3d": [
           {
            "colorbar": {
             "outlinewidth": 0,
             "ticks": ""
            },
            "type": "mesh3d"
           }
          ],
          "parcoords": [
           {
            "line": {
             "colorbar": {
              "outlinewidth": 0,
              "ticks": ""
             }
            },
            "type": "parcoords"
           }
          ],
          "pie": [
           {
            "automargin": true,
            "type": "pie"
           }
          ],
          "scatter": [
           {
            "fillpattern": {
             "fillmode": "overlay",
             "size": 10,
             "solidity": 0.2
            },
            "type": "scatter"
           }
          ],
          "scatter3d": [
           {
            "line": {
             "colorbar": {
              "outlinewidth": 0,
              "ticks": ""
             }
            },
            "marker": {
             "colorbar": {
              "outlinewidth": 0,
              "ticks": ""
             }
            },
            "type": "scatter3d"
           }
          ],
          "scattercarpet": [
           {
            "marker": {
             "colorbar": {
              "outlinewidth": 0,
              "ticks": ""
             }
            },
            "type": "scattercarpet"
           }
          ],
          "scattergeo": [
           {
            "marker": {
             "colorbar": {
              "outlinewidth": 0,
              "ticks": ""
             }
            },
            "type": "scattergeo"
           }
          ],
          "scattergl": [
           {
            "marker": {
             "colorbar": {
              "outlinewidth": 0,
              "ticks": ""
             }
            },
            "type": "scattergl"
           }
          ],
          "scattermapbox": [
           {
            "marker": {
             "colorbar": {
              "outlinewidth": 0,
              "ticks": ""
             }
            },
            "type": "scattermapbox"
           }
          ],
          "scatterpolar": [
           {
            "marker": {
             "colorbar": {
              "outlinewidth": 0,
              "ticks": ""
             }
            },
            "type": "scatterpolar"
           }
          ],
          "scatterpolargl": [
           {
            "marker": {
             "colorbar": {
              "outlinewidth": 0,
              "ticks": ""
             }
            },
            "type": "scatterpolargl"
           }
          ],
          "scatterternary": [
           {
            "marker": {
             "colorbar": {
              "outlinewidth": 0,
              "ticks": ""
             }
            },
            "type": "scatterternary"
           }
          ],
          "surface": [
           {
            "colorbar": {
             "outlinewidth": 0,
             "ticks": ""
            },
            "colorscale": [
             [
              0,
              "#0d0887"
             ],
             [
              0.1111111111111111,
              "#46039f"
             ],
             [
              0.2222222222222222,
              "#7201a8"
             ],
             [
              0.3333333333333333,
              "#9c179e"
             ],
             [
              0.4444444444444444,
              "#bd3786"
             ],
             [
              0.5555555555555556,
              "#d8576b"
             ],
             [
              0.6666666666666666,
              "#ed7953"
             ],
             [
              0.7777777777777778,
              "#fb9f3a"
             ],
             [
              0.8888888888888888,
              "#fdca26"
             ],
             [
              1,
              "#f0f921"
             ]
            ],
            "type": "surface"
           }
          ],
          "table": [
           {
            "cells": {
             "fill": {
              "color": "#EBF0F8"
             },
             "line": {
              "color": "white"
             }
            },
            "header": {
             "fill": {
              "color": "#C8D4E3"
             },
             "line": {
              "color": "white"
             }
            },
            "type": "table"
           }
          ]
         },
         "layout": {
          "annotationdefaults": {
           "arrowcolor": "#2a3f5f",
           "arrowhead": 0,
           "arrowwidth": 1
          },
          "autotypenumbers": "strict",
          "coloraxis": {
           "colorbar": {
            "outlinewidth": 0,
            "ticks": ""
           }
          },
          "colorscale": {
           "diverging": [
            [
             0,
             "#8e0152"
            ],
            [
             0.1,
             "#c51b7d"
            ],
            [
             0.2,
             "#de77ae"
            ],
            [
             0.3,
             "#f1b6da"
            ],
            [
             0.4,
             "#fde0ef"
            ],
            [
             0.5,
             "#f7f7f7"
            ],
            [
             0.6,
             "#e6f5d0"
            ],
            [
             0.7,
             "#b8e186"
            ],
            [
             0.8,
             "#7fbc41"
            ],
            [
             0.9,
             "#4d9221"
            ],
            [
             1,
             "#276419"
            ]
           ],
           "sequential": [
            [
             0,
             "#0d0887"
            ],
            [
             0.1111111111111111,
             "#46039f"
            ],
            [
             0.2222222222222222,
             "#7201a8"
            ],
            [
             0.3333333333333333,
             "#9c179e"
            ],
            [
             0.4444444444444444,
             "#bd3786"
            ],
            [
             0.5555555555555556,
             "#d8576b"
            ],
            [
             0.6666666666666666,
             "#ed7953"
            ],
            [
             0.7777777777777778,
             "#fb9f3a"
            ],
            [
             0.8888888888888888,
             "#fdca26"
            ],
            [
             1,
             "#f0f921"
            ]
           ],
           "sequentialminus": [
            [
             0,
             "#0d0887"
            ],
            [
             0.1111111111111111,
             "#46039f"
            ],
            [
             0.2222222222222222,
             "#7201a8"
            ],
            [
             0.3333333333333333,
             "#9c179e"
            ],
            [
             0.4444444444444444,
             "#bd3786"
            ],
            [
             0.5555555555555556,
             "#d8576b"
            ],
            [
             0.6666666666666666,
             "#ed7953"
            ],
            [
             0.7777777777777778,
             "#fb9f3a"
            ],
            [
             0.8888888888888888,
             "#fdca26"
            ],
            [
             1,
             "#f0f921"
            ]
           ]
          },
          "colorway": [
           "#636efa",
           "#EF553B",
           "#00cc96",
           "#ab63fa",
           "#FFA15A",
           "#19d3f3",
           "#FF6692",
           "#B6E880",
           "#FF97FF",
           "#FECB52"
          ],
          "font": {
           "color": "#2a3f5f"
          },
          "geo": {
           "bgcolor": "white",
           "lakecolor": "white",
           "landcolor": "#E5ECF6",
           "showlakes": true,
           "showland": true,
           "subunitcolor": "white"
          },
          "hoverlabel": {
           "align": "left"
          },
          "hovermode": "closest",
          "mapbox": {
           "style": "light"
          },
          "paper_bgcolor": "white",
          "plot_bgcolor": "#E5ECF6",
          "polar": {
           "angularaxis": {
            "gridcolor": "white",
            "linecolor": "white",
            "ticks": ""
           },
           "bgcolor": "#E5ECF6",
           "radialaxis": {
            "gridcolor": "white",
            "linecolor": "white",
            "ticks": ""
           }
          },
          "scene": {
           "xaxis": {
            "backgroundcolor": "#E5ECF6",
            "gridcolor": "white",
            "gridwidth": 2,
            "linecolor": "white",
            "showbackground": true,
            "ticks": "",
            "zerolinecolor": "white"
           },
           "yaxis": {
            "backgroundcolor": "#E5ECF6",
            "gridcolor": "white",
            "gridwidth": 2,
            "linecolor": "white",
            "showbackground": true,
            "ticks": "",
            "zerolinecolor": "white"
           },
           "zaxis": {
            "backgroundcolor": "#E5ECF6",
            "gridcolor": "white",
            "gridwidth": 2,
            "linecolor": "white",
            "showbackground": true,
            "ticks": "",
            "zerolinecolor": "white"
           }
          },
          "shapedefaults": {
           "line": {
            "color": "#2a3f5f"
           }
          },
          "ternary": {
           "aaxis": {
            "gridcolor": "white",
            "linecolor": "white",
            "ticks": ""
           },
           "baxis": {
            "gridcolor": "white",
            "linecolor": "white",
            "ticks": ""
           },
           "bgcolor": "#E5ECF6",
           "caxis": {
            "gridcolor": "white",
            "linecolor": "white",
            "ticks": ""
           }
          },
          "title": {
           "x": 0.05
          },
          "xaxis": {
           "automargin": true,
           "gridcolor": "white",
           "linecolor": "white",
           "ticks": "",
           "title": {
            "standoff": 15
           },
           "zerolinecolor": "white",
           "zerolinewidth": 2
          },
          "yaxis": {
           "automargin": true,
           "gridcolor": "white",
           "linecolor": "white",
           "ticks": "",
           "title": {
            "standoff": 15
           },
           "zerolinecolor": "white",
           "zerolinewidth": 2
          }
         }
        },
        "xaxis": {
         "anchor": "y",
         "domain": [
          0,
          1
         ],
         "title": {
          "text": "recall_11"
         }
        },
        "yaxis": {
         "anchor": "x",
         "domain": [
          0,
          1
         ],
         "title": {
          "text": "precision_11"
         }
        }
       }
      }
     },
     "metadata": {},
     "output_type": "display_data"
    }
   ],
   "source": [
    "fig = px.line(df_jms, x=\"recall_11\", y=\"precision_11\", color='lambda')\n",
    "fig.show()"
   ]
  },
  {
   "cell_type": "code",
   "execution_count": 14,
   "metadata": {},
   "outputs": [],
   "source": [
    "myNLP = NLP(trials, cases_training, (1, 1), docs, ids)\n",
    "records_jms = []\n",
    "statistics_jms = {}\n",
    "matrix_corpus,matrix_documents=myNLP.JMS()\n",
    "lamb = 0\n",
    "for i in range(30):\n",
    "    lamb += 0.01\n",
    "    lamb = round(lamb, 2)\n",
    "    prec = np.zeros(11,)\n",
    "    test = np.zeros(5,)\n",
    "    \n",
    "\n",
    "    for x in myNLP.cases.items():\n",
    "        query=myNLP.query_formating(x[1])\n",
    "        results=myNLP.JSM_test(query,lamb,matrix_corpus,matrix_documents)\n",
    "        p10,recall,ndcg5,ap,mrr=myNLP.eval(results,x[0])\n",
    "        test = test + np.array([p10, ndcg5, mrr, ap, recall])\n",
    "        prec_11point, recal_11point, tot_relv_ret = myNLP.evalPR(results, x[0])\n",
    "        prec = prec + prec_11point\n",
    "    \n",
    "    prec = prec / len(cases.keys())\n",
    "    test = test / len(cases.keys())\n",
    "    for p, r in zip(prec, recal_11point):\n",
    "        records_jms.append((lamb, p, r))\n",
    "    statistics_jms[lamb] = test\n",
    "df_jms = pd.DataFrame.from_records(records_jms, columns=[\"lambda\", \"precision_11\", \"recall_11\"])\n",
    "stats = pd.DataFrame.from_dict(statistics_jms, orient=\"index\", columns=[\"p10\", \"ndcg5\", \"mrr\", \"ap\", \"recall\"])"
   ]
  },
  {
   "cell_type": "code",
   "execution_count": 15,
   "metadata": {},
   "outputs": [
    {
     "data": {
      "text/html": [
       "<div>\n",
       "<style scoped>\n",
       "    .dataframe tbody tr th:only-of-type {\n",
       "        vertical-align: middle;\n",
       "    }\n",
       "\n",
       "    .dataframe tbody tr th {\n",
       "        vertical-align: top;\n",
       "    }\n",
       "\n",
       "    .dataframe thead th {\n",
       "        text-align: right;\n",
       "    }\n",
       "</style>\n",
       "<table border=\"1\" class=\"dataframe\">\n",
       "  <thead>\n",
       "    <tr style=\"text-align: right;\">\n",
       "      <th></th>\n",
       "      <th>p10</th>\n",
       "      <th>ndcg5</th>\n",
       "      <th>mrr</th>\n",
       "      <th>ap</th>\n",
       "      <th>recall</th>\n",
       "    </tr>\n",
       "  </thead>\n",
       "  <tbody>\n",
       "    <tr>\n",
       "      <th>0.01</th>\n",
       "      <td>0.050000</td>\n",
       "      <td>0.043693</td>\n",
       "      <td>0.004311</td>\n",
       "      <td>0.038414</td>\n",
       "      <td>0.609927</td>\n",
       "    </tr>\n",
       "    <tr>\n",
       "      <th>0.02</th>\n",
       "      <td>0.053333</td>\n",
       "      <td>0.043920</td>\n",
       "      <td>0.004311</td>\n",
       "      <td>0.039411</td>\n",
       "      <td>0.611453</td>\n",
       "    </tr>\n",
       "    <tr>\n",
       "      <th>0.03</th>\n",
       "      <td>0.053333</td>\n",
       "      <td>0.048275</td>\n",
       "      <td>0.004311</td>\n",
       "      <td>0.040550</td>\n",
       "      <td>0.610276</td>\n",
       "    </tr>\n",
       "    <tr>\n",
       "      <th>0.04</th>\n",
       "      <td>0.053333</td>\n",
       "      <td>0.046815</td>\n",
       "      <td>0.004311</td>\n",
       "      <td>0.040943</td>\n",
       "      <td>0.609879</td>\n",
       "    </tr>\n",
       "    <tr>\n",
       "      <th>0.05</th>\n",
       "      <td>0.055000</td>\n",
       "      <td>0.047407</td>\n",
       "      <td>0.004311</td>\n",
       "      <td>0.041587</td>\n",
       "      <td>0.611379</td>\n",
       "    </tr>\n",
       "    <tr>\n",
       "      <th>0.06</th>\n",
       "      <td>0.051667</td>\n",
       "      <td>0.046897</td>\n",
       "      <td>0.004311</td>\n",
       "      <td>0.041603</td>\n",
       "      <td>0.609393</td>\n",
       "    </tr>\n",
       "    <tr>\n",
       "      <th>0.07</th>\n",
       "      <td>0.056667</td>\n",
       "      <td>0.050341</td>\n",
       "      <td>0.004311</td>\n",
       "      <td>0.042199</td>\n",
       "      <td>0.610384</td>\n",
       "    </tr>\n",
       "    <tr>\n",
       "      <th>0.08</th>\n",
       "      <td>0.058333</td>\n",
       "      <td>0.052141</td>\n",
       "      <td>0.004311</td>\n",
       "      <td>0.042257</td>\n",
       "      <td>0.611297</td>\n",
       "    </tr>\n",
       "    <tr>\n",
       "      <th>0.09</th>\n",
       "      <td>0.060000</td>\n",
       "      <td>0.051771</td>\n",
       "      <td>0.004311</td>\n",
       "      <td>0.042313</td>\n",
       "      <td>0.614117</td>\n",
       "    </tr>\n",
       "    <tr>\n",
       "      <th>0.10</th>\n",
       "      <td>0.060000</td>\n",
       "      <td>0.050654</td>\n",
       "      <td>0.004311</td>\n",
       "      <td>0.041675</td>\n",
       "      <td>0.614117</td>\n",
       "    </tr>\n",
       "    <tr>\n",
       "      <th>0.11</th>\n",
       "      <td>0.061667</td>\n",
       "      <td>0.050584</td>\n",
       "      <td>0.004311</td>\n",
       "      <td>0.041984</td>\n",
       "      <td>0.614117</td>\n",
       "    </tr>\n",
       "    <tr>\n",
       "      <th>0.12</th>\n",
       "      <td>0.061667</td>\n",
       "      <td>0.051730</td>\n",
       "      <td>0.004311</td>\n",
       "      <td>0.042166</td>\n",
       "      <td>0.614820</td>\n",
       "    </tr>\n",
       "    <tr>\n",
       "      <th>0.13</th>\n",
       "      <td>0.061667</td>\n",
       "      <td>0.050636</td>\n",
       "      <td>0.004311</td>\n",
       "      <td>0.042024</td>\n",
       "      <td>0.616102</td>\n",
       "    </tr>\n",
       "    <tr>\n",
       "      <th>0.14</th>\n",
       "      <td>0.061667</td>\n",
       "      <td>0.053019</td>\n",
       "      <td>0.004311</td>\n",
       "      <td>0.042212</td>\n",
       "      <td>0.614250</td>\n",
       "    </tr>\n",
       "    <tr>\n",
       "      <th>0.15</th>\n",
       "      <td>0.060000</td>\n",
       "      <td>0.053019</td>\n",
       "      <td>0.004311</td>\n",
       "      <td>0.042278</td>\n",
       "      <td>0.615209</td>\n",
       "    </tr>\n",
       "    <tr>\n",
       "      <th>0.16</th>\n",
       "      <td>0.060000</td>\n",
       "      <td>0.053019</td>\n",
       "      <td>0.004311</td>\n",
       "      <td>0.042271</td>\n",
       "      <td>0.613265</td>\n",
       "    </tr>\n",
       "    <tr>\n",
       "      <th>0.17</th>\n",
       "      <td>0.061667</td>\n",
       "      <td>0.052564</td>\n",
       "      <td>0.004311</td>\n",
       "      <td>0.042150</td>\n",
       "      <td>0.612570</td>\n",
       "    </tr>\n",
       "    <tr>\n",
       "      <th>0.18</th>\n",
       "      <td>0.058333</td>\n",
       "      <td>0.052337</td>\n",
       "      <td>0.004311</td>\n",
       "      <td>0.041685</td>\n",
       "      <td>0.613009</td>\n",
       "    </tr>\n",
       "    <tr>\n",
       "      <th>0.19</th>\n",
       "      <td>0.058333</td>\n",
       "      <td>0.052337</td>\n",
       "      <td>0.004311</td>\n",
       "      <td>0.041437</td>\n",
       "      <td>0.611288</td>\n",
       "    </tr>\n",
       "    <tr>\n",
       "      <th>0.20</th>\n",
       "      <td>0.058333</td>\n",
       "      <td>0.052337</td>\n",
       "      <td>0.004311</td>\n",
       "      <td>0.041529</td>\n",
       "      <td>0.611727</td>\n",
       "    </tr>\n",
       "    <tr>\n",
       "      <th>0.21</th>\n",
       "      <td>0.060000</td>\n",
       "      <td>0.052141</td>\n",
       "      <td>0.004311</td>\n",
       "      <td>0.041310</td>\n",
       "      <td>0.613009</td>\n",
       "    </tr>\n",
       "    <tr>\n",
       "      <th>0.22</th>\n",
       "      <td>0.060000</td>\n",
       "      <td>0.052393</td>\n",
       "      <td>0.004311</td>\n",
       "      <td>0.041477</td>\n",
       "      <td>0.613530</td>\n",
       "    </tr>\n",
       "    <tr>\n",
       "      <th>0.23</th>\n",
       "      <td>0.060000</td>\n",
       "      <td>0.052393</td>\n",
       "      <td>0.004311</td>\n",
       "      <td>0.041692</td>\n",
       "      <td>0.613359</td>\n",
       "    </tr>\n",
       "    <tr>\n",
       "      <th>0.24</th>\n",
       "      <td>0.058333</td>\n",
       "      <td>0.052166</td>\n",
       "      <td>0.004311</td>\n",
       "      <td>0.041646</td>\n",
       "      <td>0.611705</td>\n",
       "    </tr>\n",
       "    <tr>\n",
       "      <th>0.25</th>\n",
       "      <td>0.058333</td>\n",
       "      <td>0.053435</td>\n",
       "      <td>0.004311</td>\n",
       "      <td>0.041609</td>\n",
       "      <td>0.611705</td>\n",
       "    </tr>\n",
       "    <tr>\n",
       "      <th>0.26</th>\n",
       "      <td>0.056667</td>\n",
       "      <td>0.053435</td>\n",
       "      <td>0.004311</td>\n",
       "      <td>0.041518</td>\n",
       "      <td>0.612893</td>\n",
       "    </tr>\n",
       "    <tr>\n",
       "      <th>0.27</th>\n",
       "      <td>0.056667</td>\n",
       "      <td>0.052342</td>\n",
       "      <td>0.004311</td>\n",
       "      <td>0.041394</td>\n",
       "      <td>0.613686</td>\n",
       "    </tr>\n",
       "    <tr>\n",
       "      <th>0.28</th>\n",
       "      <td>0.056667</td>\n",
       "      <td>0.052342</td>\n",
       "      <td>0.004311</td>\n",
       "      <td>0.041358</td>\n",
       "      <td>0.614520</td>\n",
       "    </tr>\n",
       "    <tr>\n",
       "      <th>0.29</th>\n",
       "      <td>0.056667</td>\n",
       "      <td>0.052342</td>\n",
       "      <td>0.004311</td>\n",
       "      <td>0.041063</td>\n",
       "      <td>0.614520</td>\n",
       "    </tr>\n",
       "    <tr>\n",
       "      <th>0.30</th>\n",
       "      <td>0.056667</td>\n",
       "      <td>0.052342</td>\n",
       "      <td>0.004311</td>\n",
       "      <td>0.040904</td>\n",
       "      <td>0.614520</td>\n",
       "    </tr>\n",
       "  </tbody>\n",
       "</table>\n",
       "</div>"
      ],
      "text/plain": [
       "           p10     ndcg5       mrr        ap    recall\n",
       "0.01  0.050000  0.043693  0.004311  0.038414  0.609927\n",
       "0.02  0.053333  0.043920  0.004311  0.039411  0.611453\n",
       "0.03  0.053333  0.048275  0.004311  0.040550  0.610276\n",
       "0.04  0.053333  0.046815  0.004311  0.040943  0.609879\n",
       "0.05  0.055000  0.047407  0.004311  0.041587  0.611379\n",
       "0.06  0.051667  0.046897  0.004311  0.041603  0.609393\n",
       "0.07  0.056667  0.050341  0.004311  0.042199  0.610384\n",
       "0.08  0.058333  0.052141  0.004311  0.042257  0.611297\n",
       "0.09  0.060000  0.051771  0.004311  0.042313  0.614117\n",
       "0.10  0.060000  0.050654  0.004311  0.041675  0.614117\n",
       "0.11  0.061667  0.050584  0.004311  0.041984  0.614117\n",
       "0.12  0.061667  0.051730  0.004311  0.042166  0.614820\n",
       "0.13  0.061667  0.050636  0.004311  0.042024  0.616102\n",
       "0.14  0.061667  0.053019  0.004311  0.042212  0.614250\n",
       "0.15  0.060000  0.053019  0.004311  0.042278  0.615209\n",
       "0.16  0.060000  0.053019  0.004311  0.042271  0.613265\n",
       "0.17  0.061667  0.052564  0.004311  0.042150  0.612570\n",
       "0.18  0.058333  0.052337  0.004311  0.041685  0.613009\n",
       "0.19  0.058333  0.052337  0.004311  0.041437  0.611288\n",
       "0.20  0.058333  0.052337  0.004311  0.041529  0.611727\n",
       "0.21  0.060000  0.052141  0.004311  0.041310  0.613009\n",
       "0.22  0.060000  0.052393  0.004311  0.041477  0.613530\n",
       "0.23  0.060000  0.052393  0.004311  0.041692  0.613359\n",
       "0.24  0.058333  0.052166  0.004311  0.041646  0.611705\n",
       "0.25  0.058333  0.053435  0.004311  0.041609  0.611705\n",
       "0.26  0.056667  0.053435  0.004311  0.041518  0.612893\n",
       "0.27  0.056667  0.052342  0.004311  0.041394  0.613686\n",
       "0.28  0.056667  0.052342  0.004311  0.041358  0.614520\n",
       "0.29  0.056667  0.052342  0.004311  0.041063  0.614520\n",
       "0.30  0.056667  0.052342  0.004311  0.040904  0.614520"
      ]
     },
     "execution_count": 15,
     "metadata": {},
     "output_type": "execute_result"
    }
   ],
   "source": [
    "stats"
   ]
  },
  {
   "cell_type": "code",
   "execution_count": 16,
   "metadata": {},
   "outputs": [],
   "source": [
    "# fig = px.line(df_jms, x=\"recall_11\", y=\"precision_11\", color='lambda')\n",
    "# fig.show()"
   ]
  },
  {
   "cell_type": "markdown",
   "metadata": {},
   "source": [
    "# ngram_range = (1,1)\n",
    "# Lambda = 0.12"
   ]
  },
  {
   "cell_type": "markdown",
   "metadata": {},
   "source": [
    "## Testing"
   ]
  },
  {
   "cell_type": "code",
   "execution_count": 17,
   "metadata": {},
   "outputs": [],
   "source": [
    "records = []\n",
    "statistics = {}\n",
    "for ngram in [(1,1)]:\n",
    "    myNLP = NLP(trials, cases_test, ngram, docs, ids)\n",
    "    prec = np.zeros(11,)\n",
    "    test = np.zeros(5,)\n",
    "    for x in myNLP.cases.items():\n",
    "        results = myNLP.test_vsm(x[1])\n",
    "        p10, recall, ndcg5, ap, mrr = myNLP.eval(results, x[0])\n",
    "        test = test + np.array([p10, ndcg5, mrr, ap, recall])\n",
    "        prec_11point, recal_11point, tot_relv_ret = myNLP.evalPR(results, x[0])\n",
    "        prec = prec + prec_11point\n",
    "        \n",
    "    prec = prec / len(cases.keys())\n",
    "    test = test / len(cases.keys())\n",
    "    for p, r in zip(prec, recal_11point):\n",
    "        records.append((ngram, p, r))\n",
    "    statistics[ngram] = test\n",
    "\n",
    "df = pd.DataFrame.from_records(records, columns=[\"ngram\", \"precision_11\", \"recall_11\"])\n",
    "stats = pd.DataFrame.from_dict(statistics, orient=\"index\", columns=[\"p10\", \"ndcg5\", \"mrr\", \"ap\", \"recall\"])\n"
   ]
  },
  {
   "cell_type": "code",
   "execution_count": 18,
   "metadata": {},
   "outputs": [
    {
     "data": {
      "text/html": [
       "<div>\n",
       "<style scoped>\n",
       "    .dataframe tbody tr th:only-of-type {\n",
       "        vertical-align: middle;\n",
       "    }\n",
       "\n",
       "    .dataframe tbody tr th {\n",
       "        vertical-align: top;\n",
       "    }\n",
       "\n",
       "    .dataframe thead th {\n",
       "        text-align: right;\n",
       "    }\n",
       "</style>\n",
       "<table border=\"1\" class=\"dataframe\">\n",
       "  <thead>\n",
       "    <tr style=\"text-align: right;\">\n",
       "      <th></th>\n",
       "      <th>p10</th>\n",
       "      <th>ndcg5</th>\n",
       "      <th>mrr</th>\n",
       "      <th>ap</th>\n",
       "      <th>recall</th>\n",
       "    </tr>\n",
       "  </thead>\n",
       "  <tbody>\n",
       "    <tr>\n",
       "      <th>(1, 1)</th>\n",
       "      <td>0.008333</td>\n",
       "      <td>0.012273</td>\n",
       "      <td>0.000772</td>\n",
       "      <td>0.005494</td>\n",
       "      <td>0.174859</td>\n",
       "    </tr>\n",
       "  </tbody>\n",
       "</table>\n",
       "</div>"
      ],
      "text/plain": [
       "             p10     ndcg5       mrr        ap    recall\n",
       "(1, 1)  0.008333  0.012273  0.000772  0.005494  0.174859"
      ]
     },
     "execution_count": 18,
     "metadata": {},
     "output_type": "execute_result"
    }
   ],
   "source": [
    "stats"
   ]
  },
  {
   "cell_type": "code",
   "execution_count": 19,
   "metadata": {},
   "outputs": [
    {
     "data": {
      "application/vnd.plotly.v1+json": {
       "config": {
        "plotlyServerURL": "https://plot.ly"
       },
       "data": [
        {
         "hovertemplate": "ngram=(1, 1)<br>recall_11=%{x}<br>precision_11=%{y}<extra></extra>",
         "legendgroup": "(1, 1)",
         "line": {
          "color": "#636efa",
          "dash": "solid"
         },
         "marker": {
          "symbol": "circle"
         },
         "mode": "lines",
         "name": "(1, 1)",
         "orientation": "v",
         "showlegend": true,
         "type": "scatter",
         "x": [
          0,
          0.1,
          0.2,
          0.3,
          0.4,
          0.5,
          0.6,
          0.7,
          0.8,
          0.9,
          1
         ],
         "xaxis": "x",
         "y": [
          0.03934825036619815,
          0.028870415331284927,
          0.008702302746929845,
          0.003212645299226326,
          0.0018879106947533384,
          0.0019377569858887954,
          0.0017212722457744499,
          0.00131242976049701,
          0.000978047169247427,
          0.0009034548178335167,
          0.0008453572772927295
         ],
         "yaxis": "y"
        }
       ],
       "layout": {
        "legend": {
         "title": {
          "text": "ngram"
         },
         "tracegroupgap": 0
        },
        "margin": {
         "t": 60
        },
        "template": {
         "data": {
          "bar": [
           {
            "error_x": {
             "color": "#2a3f5f"
            },
            "error_y": {
             "color": "#2a3f5f"
            },
            "marker": {
             "line": {
              "color": "#E5ECF6",
              "width": 0.5
             },
             "pattern": {
              "fillmode": "overlay",
              "size": 10,
              "solidity": 0.2
             }
            },
            "type": "bar"
           }
          ],
          "barpolar": [
           {
            "marker": {
             "line": {
              "color": "#E5ECF6",
              "width": 0.5
             },
             "pattern": {
              "fillmode": "overlay",
              "size": 10,
              "solidity": 0.2
             }
            },
            "type": "barpolar"
           }
          ],
          "carpet": [
           {
            "aaxis": {
             "endlinecolor": "#2a3f5f",
             "gridcolor": "white",
             "linecolor": "white",
             "minorgridcolor": "white",
             "startlinecolor": "#2a3f5f"
            },
            "baxis": {
             "endlinecolor": "#2a3f5f",
             "gridcolor": "white",
             "linecolor": "white",
             "minorgridcolor": "white",
             "startlinecolor": "#2a3f5f"
            },
            "type": "carpet"
           }
          ],
          "choropleth": [
           {
            "colorbar": {
             "outlinewidth": 0,
             "ticks": ""
            },
            "type": "choropleth"
           }
          ],
          "contour": [
           {
            "colorbar": {
             "outlinewidth": 0,
             "ticks": ""
            },
            "colorscale": [
             [
              0,
              "#0d0887"
             ],
             [
              0.1111111111111111,
              "#46039f"
             ],
             [
              0.2222222222222222,
              "#7201a8"
             ],
             [
              0.3333333333333333,
              "#9c179e"
             ],
             [
              0.4444444444444444,
              "#bd3786"
             ],
             [
              0.5555555555555556,
              "#d8576b"
             ],
             [
              0.6666666666666666,
              "#ed7953"
             ],
             [
              0.7777777777777778,
              "#fb9f3a"
             ],
             [
              0.8888888888888888,
              "#fdca26"
             ],
             [
              1,
              "#f0f921"
             ]
            ],
            "type": "contour"
           }
          ],
          "contourcarpet": [
           {
            "colorbar": {
             "outlinewidth": 0,
             "ticks": ""
            },
            "type": "contourcarpet"
           }
          ],
          "heatmap": [
           {
            "colorbar": {
             "outlinewidth": 0,
             "ticks": ""
            },
            "colorscale": [
             [
              0,
              "#0d0887"
             ],
             [
              0.1111111111111111,
              "#46039f"
             ],
             [
              0.2222222222222222,
              "#7201a8"
             ],
             [
              0.3333333333333333,
              "#9c179e"
             ],
             [
              0.4444444444444444,
              "#bd3786"
             ],
             [
              0.5555555555555556,
              "#d8576b"
             ],
             [
              0.6666666666666666,
              "#ed7953"
             ],
             [
              0.7777777777777778,
              "#fb9f3a"
             ],
             [
              0.8888888888888888,
              "#fdca26"
             ],
             [
              1,
              "#f0f921"
             ]
            ],
            "type": "heatmap"
           }
          ],
          "heatmapgl": [
           {
            "colorbar": {
             "outlinewidth": 0,
             "ticks": ""
            },
            "colorscale": [
             [
              0,
              "#0d0887"
             ],
             [
              0.1111111111111111,
              "#46039f"
             ],
             [
              0.2222222222222222,
              "#7201a8"
             ],
             [
              0.3333333333333333,
              "#9c179e"
             ],
             [
              0.4444444444444444,
              "#bd3786"
             ],
             [
              0.5555555555555556,
              "#d8576b"
             ],
             [
              0.6666666666666666,
              "#ed7953"
             ],
             [
              0.7777777777777778,
              "#fb9f3a"
             ],
             [
              0.8888888888888888,
              "#fdca26"
             ],
             [
              1,
              "#f0f921"
             ]
            ],
            "type": "heatmapgl"
           }
          ],
          "histogram": [
           {
            "marker": {
             "pattern": {
              "fillmode": "overlay",
              "size": 10,
              "solidity": 0.2
             }
            },
            "type": "histogram"
           }
          ],
          "histogram2d": [
           {
            "colorbar": {
             "outlinewidth": 0,
             "ticks": ""
            },
            "colorscale": [
             [
              0,
              "#0d0887"
             ],
             [
              0.1111111111111111,
              "#46039f"
             ],
             [
              0.2222222222222222,
              "#7201a8"
             ],
             [
              0.3333333333333333,
              "#9c179e"
             ],
             [
              0.4444444444444444,
              "#bd3786"
             ],
             [
              0.5555555555555556,
              "#d8576b"
             ],
             [
              0.6666666666666666,
              "#ed7953"
             ],
             [
              0.7777777777777778,
              "#fb9f3a"
             ],
             [
              0.8888888888888888,
              "#fdca26"
             ],
             [
              1,
              "#f0f921"
             ]
            ],
            "type": "histogram2d"
           }
          ],
          "histogram2dcontour": [
           {
            "colorbar": {
             "outlinewidth": 0,
             "ticks": ""
            },
            "colorscale": [
             [
              0,
              "#0d0887"
             ],
             [
              0.1111111111111111,
              "#46039f"
             ],
             [
              0.2222222222222222,
              "#7201a8"
             ],
             [
              0.3333333333333333,
              "#9c179e"
             ],
             [
              0.4444444444444444,
              "#bd3786"
             ],
             [
              0.5555555555555556,
              "#d8576b"
             ],
             [
              0.6666666666666666,
              "#ed7953"
             ],
             [
              0.7777777777777778,
              "#fb9f3a"
             ],
             [
              0.8888888888888888,
              "#fdca26"
             ],
             [
              1,
              "#f0f921"
             ]
            ],
            "type": "histogram2dcontour"
           }
          ],
          "mesh3d": [
           {
            "colorbar": {
             "outlinewidth": 0,
             "ticks": ""
            },
            "type": "mesh3d"
           }
          ],
          "parcoords": [
           {
            "line": {
             "colorbar": {
              "outlinewidth": 0,
              "ticks": ""
             }
            },
            "type": "parcoords"
           }
          ],
          "pie": [
           {
            "automargin": true,
            "type": "pie"
           }
          ],
          "scatter": [
           {
            "fillpattern": {
             "fillmode": "overlay",
             "size": 10,
             "solidity": 0.2
            },
            "type": "scatter"
           }
          ],
          "scatter3d": [
           {
            "line": {
             "colorbar": {
              "outlinewidth": 0,
              "ticks": ""
             }
            },
            "marker": {
             "colorbar": {
              "outlinewidth": 0,
              "ticks": ""
             }
            },
            "type": "scatter3d"
           }
          ],
          "scattercarpet": [
           {
            "marker": {
             "colorbar": {
              "outlinewidth": 0,
              "ticks": ""
             }
            },
            "type": "scattercarpet"
           }
          ],
          "scattergeo": [
           {
            "marker": {
             "colorbar": {
              "outlinewidth": 0,
              "ticks": ""
             }
            },
            "type": "scattergeo"
           }
          ],
          "scattergl": [
           {
            "marker": {
             "colorbar": {
              "outlinewidth": 0,
              "ticks": ""
             }
            },
            "type": "scattergl"
           }
          ],
          "scattermapbox": [
           {
            "marker": {
             "colorbar": {
              "outlinewidth": 0,
              "ticks": ""
             }
            },
            "type": "scattermapbox"
           }
          ],
          "scatterpolar": [
           {
            "marker": {
             "colorbar": {
              "outlinewidth": 0,
              "ticks": ""
             }
            },
            "type": "scatterpolar"
           }
          ],
          "scatterpolargl": [
           {
            "marker": {
             "colorbar": {
              "outlinewidth": 0,
              "ticks": ""
             }
            },
            "type": "scatterpolargl"
           }
          ],
          "scatterternary": [
           {
            "marker": {
             "colorbar": {
              "outlinewidth": 0,
              "ticks": ""
             }
            },
            "type": "scatterternary"
           }
          ],
          "surface": [
           {
            "colorbar": {
             "outlinewidth": 0,
             "ticks": ""
            },
            "colorscale": [
             [
              0,
              "#0d0887"
             ],
             [
              0.1111111111111111,
              "#46039f"
             ],
             [
              0.2222222222222222,
              "#7201a8"
             ],
             [
              0.3333333333333333,
              "#9c179e"
             ],
             [
              0.4444444444444444,
              "#bd3786"
             ],
             [
              0.5555555555555556,
              "#d8576b"
             ],
             [
              0.6666666666666666,
              "#ed7953"
             ],
             [
              0.7777777777777778,
              "#fb9f3a"
             ],
             [
              0.8888888888888888,
              "#fdca26"
             ],
             [
              1,
              "#f0f921"
             ]
            ],
            "type": "surface"
           }
          ],
          "table": [
           {
            "cells": {
             "fill": {
              "color": "#EBF0F8"
             },
             "line": {
              "color": "white"
             }
            },
            "header": {
             "fill": {
              "color": "#C8D4E3"
             },
             "line": {
              "color": "white"
             }
            },
            "type": "table"
           }
          ]
         },
         "layout": {
          "annotationdefaults": {
           "arrowcolor": "#2a3f5f",
           "arrowhead": 0,
           "arrowwidth": 1
          },
          "autotypenumbers": "strict",
          "coloraxis": {
           "colorbar": {
            "outlinewidth": 0,
            "ticks": ""
           }
          },
          "colorscale": {
           "diverging": [
            [
             0,
             "#8e0152"
            ],
            [
             0.1,
             "#c51b7d"
            ],
            [
             0.2,
             "#de77ae"
            ],
            [
             0.3,
             "#f1b6da"
            ],
            [
             0.4,
             "#fde0ef"
            ],
            [
             0.5,
             "#f7f7f7"
            ],
            [
             0.6,
             "#e6f5d0"
            ],
            [
             0.7,
             "#b8e186"
            ],
            [
             0.8,
             "#7fbc41"
            ],
            [
             0.9,
             "#4d9221"
            ],
            [
             1,
             "#276419"
            ]
           ],
           "sequential": [
            [
             0,
             "#0d0887"
            ],
            [
             0.1111111111111111,
             "#46039f"
            ],
            [
             0.2222222222222222,
             "#7201a8"
            ],
            [
             0.3333333333333333,
             "#9c179e"
            ],
            [
             0.4444444444444444,
             "#bd3786"
            ],
            [
             0.5555555555555556,
             "#d8576b"
            ],
            [
             0.6666666666666666,
             "#ed7953"
            ],
            [
             0.7777777777777778,
             "#fb9f3a"
            ],
            [
             0.8888888888888888,
             "#fdca26"
            ],
            [
             1,
             "#f0f921"
            ]
           ],
           "sequentialminus": [
            [
             0,
             "#0d0887"
            ],
            [
             0.1111111111111111,
             "#46039f"
            ],
            [
             0.2222222222222222,
             "#7201a8"
            ],
            [
             0.3333333333333333,
             "#9c179e"
            ],
            [
             0.4444444444444444,
             "#bd3786"
            ],
            [
             0.5555555555555556,
             "#d8576b"
            ],
            [
             0.6666666666666666,
             "#ed7953"
            ],
            [
             0.7777777777777778,
             "#fb9f3a"
            ],
            [
             0.8888888888888888,
             "#fdca26"
            ],
            [
             1,
             "#f0f921"
            ]
           ]
          },
          "colorway": [
           "#636efa",
           "#EF553B",
           "#00cc96",
           "#ab63fa",
           "#FFA15A",
           "#19d3f3",
           "#FF6692",
           "#B6E880",
           "#FF97FF",
           "#FECB52"
          ],
          "font": {
           "color": "#2a3f5f"
          },
          "geo": {
           "bgcolor": "white",
           "lakecolor": "white",
           "landcolor": "#E5ECF6",
           "showlakes": true,
           "showland": true,
           "subunitcolor": "white"
          },
          "hoverlabel": {
           "align": "left"
          },
          "hovermode": "closest",
          "mapbox": {
           "style": "light"
          },
          "paper_bgcolor": "white",
          "plot_bgcolor": "#E5ECF6",
          "polar": {
           "angularaxis": {
            "gridcolor": "white",
            "linecolor": "white",
            "ticks": ""
           },
           "bgcolor": "#E5ECF6",
           "radialaxis": {
            "gridcolor": "white",
            "linecolor": "white",
            "ticks": ""
           }
          },
          "scene": {
           "xaxis": {
            "backgroundcolor": "#E5ECF6",
            "gridcolor": "white",
            "gridwidth": 2,
            "linecolor": "white",
            "showbackground": true,
            "ticks": "",
            "zerolinecolor": "white"
           },
           "yaxis": {
            "backgroundcolor": "#E5ECF6",
            "gridcolor": "white",
            "gridwidth": 2,
            "linecolor": "white",
            "showbackground": true,
            "ticks": "",
            "zerolinecolor": "white"
           },
           "zaxis": {
            "backgroundcolor": "#E5ECF6",
            "gridcolor": "white",
            "gridwidth": 2,
            "linecolor": "white",
            "showbackground": true,
            "ticks": "",
            "zerolinecolor": "white"
           }
          },
          "shapedefaults": {
           "line": {
            "color": "#2a3f5f"
           }
          },
          "ternary": {
           "aaxis": {
            "gridcolor": "white",
            "linecolor": "white",
            "ticks": ""
           },
           "baxis": {
            "gridcolor": "white",
            "linecolor": "white",
            "ticks": ""
           },
           "bgcolor": "#E5ECF6",
           "caxis": {
            "gridcolor": "white",
            "linecolor": "white",
            "ticks": ""
           }
          },
          "title": {
           "x": 0.05
          },
          "xaxis": {
           "automargin": true,
           "gridcolor": "white",
           "linecolor": "white",
           "ticks": "",
           "title": {
            "standoff": 15
           },
           "zerolinecolor": "white",
           "zerolinewidth": 2
          },
          "yaxis": {
           "automargin": true,
           "gridcolor": "white",
           "linecolor": "white",
           "ticks": "",
           "title": {
            "standoff": 15
           },
           "zerolinecolor": "white",
           "zerolinewidth": 2
          }
         }
        },
        "xaxis": {
         "anchor": "y",
         "domain": [
          0,
          1
         ],
         "title": {
          "text": "recall_11"
         }
        },
        "yaxis": {
         "anchor": "x",
         "domain": [
          0,
          1
         ],
         "title": {
          "text": "precision_11"
         }
        }
       }
      }
     },
     "metadata": {},
     "output_type": "display_data"
    }
   ],
   "source": [
    "fig = px.line(df, x=\"recall_11\", y=\"precision_11\", color='ngram')\n",
    "fig.show()"
   ]
  },
  {
   "cell_type": "code",
   "execution_count": 20,
   "metadata": {},
   "outputs": [],
   "source": [
    "myNLP = NLP(trials, cases_test, (1, 1), docs, ids)\n",
    "# myNLP = NLP(trials, cases, (1, 1), docs, ids)\n",
    "records_jms = []\n",
    "statistics_jms = {}\n",
    "matrix_corpus,matrix_documents=myNLP.JMS()\n",
    "for lamb in [0.12]:\n",
    "    prec = np.zeros(11,)\n",
    "    test = np.zeros(5,)\n",
    "    \n",
    "\n",
    "    for x in myNLP.cases.items():\n",
    "        query=myNLP.query_formating(x[1])\n",
    "        results=myNLP.JSM_test(query,lamb,matrix_corpus,matrix_documents)\n",
    "        p10,recall,ndcg5,ap,mrr=myNLP.eval(results,x[0])\n",
    "        test = test + np.array([p10, ndcg5, mrr, ap, recall])\n",
    "        prec_11point, recal_11point, tot_relv_ret = myNLP.evalPR(results, x[0])\n",
    "        prec = prec + prec_11point\n",
    "    \n",
    "    prec = prec / len(cases.keys())\n",
    "    test = test / len(cases.keys())\n",
    "    for p, r in zip(prec, recal_11point):\n",
    "        records_jms.append((lamb, p, r))\n",
    "    statistics_jms[lamb] = test\n",
    "df_jms = pd.DataFrame.from_records(records_jms, columns=[\"lambda\", \"precision_11\", \"recall_11\"])\n",
    "stats = pd.DataFrame.from_dict(statistics_jms, orient=\"index\", columns=[\"p10\", \"ndcg5\", \"mrr\", \"ap\", \"recall\"])"
   ]
  },
  {
   "cell_type": "code",
   "execution_count": 21,
   "metadata": {},
   "outputs": [
    {
     "data": {
      "text/html": [
       "<div>\n",
       "<style scoped>\n",
       "    .dataframe tbody tr th:only-of-type {\n",
       "        vertical-align: middle;\n",
       "    }\n",
       "\n",
       "    .dataframe tbody tr th {\n",
       "        vertical-align: top;\n",
       "    }\n",
       "\n",
       "    .dataframe thead th {\n",
       "        text-align: right;\n",
       "    }\n",
       "</style>\n",
       "<table border=\"1\" class=\"dataframe\">\n",
       "  <thead>\n",
       "    <tr style=\"text-align: right;\">\n",
       "      <th></th>\n",
       "      <th>p10</th>\n",
       "      <th>ndcg5</th>\n",
       "      <th>mrr</th>\n",
       "      <th>ap</th>\n",
       "      <th>recall</th>\n",
       "    </tr>\n",
       "  </thead>\n",
       "  <tbody>\n",
       "    <tr>\n",
       "      <th>0.12</th>\n",
       "      <td>0.008333</td>\n",
       "      <td>0.008546</td>\n",
       "      <td>0.000772</td>\n",
       "      <td>0.004503</td>\n",
       "      <td>0.174859</td>\n",
       "    </tr>\n",
       "  </tbody>\n",
       "</table>\n",
       "</div>"
      ],
      "text/plain": [
       "           p10     ndcg5       mrr        ap    recall\n",
       "0.12  0.008333  0.008546  0.000772  0.004503  0.174859"
      ]
     },
     "execution_count": 21,
     "metadata": {},
     "output_type": "execute_result"
    }
   ],
   "source": [
    "stats"
   ]
  },
  {
   "cell_type": "code",
   "execution_count": 22,
   "metadata": {},
   "outputs": [
    {
     "data": {
      "application/vnd.plotly.v1+json": {
       "config": {
        "plotlyServerURL": "https://plot.ly"
       },
       "data": [
        {
         "hovertemplate": "lambda=0.12<br>recall_11=%{x}<br>precision_11=%{y}<extra></extra>",
         "legendgroup": "0.12",
         "line": {
          "color": "#636efa",
          "dash": "solid"
         },
         "marker": {
          "symbol": "circle"
         },
         "mode": "lines",
         "name": "0.12",
         "orientation": "v",
         "showlegend": true,
         "type": "scatter",
         "x": [
          0,
          0.1,
          0.2,
          0.3,
          0.4,
          0.5,
          0.6,
          0.7,
          0.8,
          0.9,
          1
         ],
         "xaxis": "x",
         "y": [
          0.028336641886763898,
          0.01796778770402249,
          0.008458753362371249,
          0.004524628688787299,
          0.0019052821961463757,
          0.0016313853461020734,
          0.0015218926167485764,
          0.0012623455130074722,
          0.000967005485785943,
          0.0008773425910070773,
          0.0008387652514426805
         ],
         "yaxis": "y"
        }
       ],
       "layout": {
        "legend": {
         "title": {
          "text": "lambda"
         },
         "tracegroupgap": 0
        },
        "margin": {
         "t": 60
        },
        "template": {
         "data": {
          "bar": [
           {
            "error_x": {
             "color": "#2a3f5f"
            },
            "error_y": {
             "color": "#2a3f5f"
            },
            "marker": {
             "line": {
              "color": "#E5ECF6",
              "width": 0.5
             },
             "pattern": {
              "fillmode": "overlay",
              "size": 10,
              "solidity": 0.2
             }
            },
            "type": "bar"
           }
          ],
          "barpolar": [
           {
            "marker": {
             "line": {
              "color": "#E5ECF6",
              "width": 0.5
             },
             "pattern": {
              "fillmode": "overlay",
              "size": 10,
              "solidity": 0.2
             }
            },
            "type": "barpolar"
           }
          ],
          "carpet": [
           {
            "aaxis": {
             "endlinecolor": "#2a3f5f",
             "gridcolor": "white",
             "linecolor": "white",
             "minorgridcolor": "white",
             "startlinecolor": "#2a3f5f"
            },
            "baxis": {
             "endlinecolor": "#2a3f5f",
             "gridcolor": "white",
             "linecolor": "white",
             "minorgridcolor": "white",
             "startlinecolor": "#2a3f5f"
            },
            "type": "carpet"
           }
          ],
          "choropleth": [
           {
            "colorbar": {
             "outlinewidth": 0,
             "ticks": ""
            },
            "type": "choropleth"
           }
          ],
          "contour": [
           {
            "colorbar": {
             "outlinewidth": 0,
             "ticks": ""
            },
            "colorscale": [
             [
              0,
              "#0d0887"
             ],
             [
              0.1111111111111111,
              "#46039f"
             ],
             [
              0.2222222222222222,
              "#7201a8"
             ],
             [
              0.3333333333333333,
              "#9c179e"
             ],
             [
              0.4444444444444444,
              "#bd3786"
             ],
             [
              0.5555555555555556,
              "#d8576b"
             ],
             [
              0.6666666666666666,
              "#ed7953"
             ],
             [
              0.7777777777777778,
              "#fb9f3a"
             ],
             [
              0.8888888888888888,
              "#fdca26"
             ],
             [
              1,
              "#f0f921"
             ]
            ],
            "type": "contour"
           }
          ],
          "contourcarpet": [
           {
            "colorbar": {
             "outlinewidth": 0,
             "ticks": ""
            },
            "type": "contourcarpet"
           }
          ],
          "heatmap": [
           {
            "colorbar": {
             "outlinewidth": 0,
             "ticks": ""
            },
            "colorscale": [
             [
              0,
              "#0d0887"
             ],
             [
              0.1111111111111111,
              "#46039f"
             ],
             [
              0.2222222222222222,
              "#7201a8"
             ],
             [
              0.3333333333333333,
              "#9c179e"
             ],
             [
              0.4444444444444444,
              "#bd3786"
             ],
             [
              0.5555555555555556,
              "#d8576b"
             ],
             [
              0.6666666666666666,
              "#ed7953"
             ],
             [
              0.7777777777777778,
              "#fb9f3a"
             ],
             [
              0.8888888888888888,
              "#fdca26"
             ],
             [
              1,
              "#f0f921"
             ]
            ],
            "type": "heatmap"
           }
          ],
          "heatmapgl": [
           {
            "colorbar": {
             "outlinewidth": 0,
             "ticks": ""
            },
            "colorscale": [
             [
              0,
              "#0d0887"
             ],
             [
              0.1111111111111111,
              "#46039f"
             ],
             [
              0.2222222222222222,
              "#7201a8"
             ],
             [
              0.3333333333333333,
              "#9c179e"
             ],
             [
              0.4444444444444444,
              "#bd3786"
             ],
             [
              0.5555555555555556,
              "#d8576b"
             ],
             [
              0.6666666666666666,
              "#ed7953"
             ],
             [
              0.7777777777777778,
              "#fb9f3a"
             ],
             [
              0.8888888888888888,
              "#fdca26"
             ],
             [
              1,
              "#f0f921"
             ]
            ],
            "type": "heatmapgl"
           }
          ],
          "histogram": [
           {
            "marker": {
             "pattern": {
              "fillmode": "overlay",
              "size": 10,
              "solidity": 0.2
             }
            },
            "type": "histogram"
           }
          ],
          "histogram2d": [
           {
            "colorbar": {
             "outlinewidth": 0,
             "ticks": ""
            },
            "colorscale": [
             [
              0,
              "#0d0887"
             ],
             [
              0.1111111111111111,
              "#46039f"
             ],
             [
              0.2222222222222222,
              "#7201a8"
             ],
             [
              0.3333333333333333,
              "#9c179e"
             ],
             [
              0.4444444444444444,
              "#bd3786"
             ],
             [
              0.5555555555555556,
              "#d8576b"
             ],
             [
              0.6666666666666666,
              "#ed7953"
             ],
             [
              0.7777777777777778,
              "#fb9f3a"
             ],
             [
              0.8888888888888888,
              "#fdca26"
             ],
             [
              1,
              "#f0f921"
             ]
            ],
            "type": "histogram2d"
           }
          ],
          "histogram2dcontour": [
           {
            "colorbar": {
             "outlinewidth": 0,
             "ticks": ""
            },
            "colorscale": [
             [
              0,
              "#0d0887"
             ],
             [
              0.1111111111111111,
              "#46039f"
             ],
             [
              0.2222222222222222,
              "#7201a8"
             ],
             [
              0.3333333333333333,
              "#9c179e"
             ],
             [
              0.4444444444444444,
              "#bd3786"
             ],
             [
              0.5555555555555556,
              "#d8576b"
             ],
             [
              0.6666666666666666,
              "#ed7953"
             ],
             [
              0.7777777777777778,
              "#fb9f3a"
             ],
             [
              0.8888888888888888,
              "#fdca26"
             ],
             [
              1,
              "#f0f921"
             ]
            ],
            "type": "histogram2dcontour"
           }
          ],
          "mesh3d": [
           {
            "colorbar": {
             "outlinewidth": 0,
             "ticks": ""
            },
            "type": "mesh3d"
           }
          ],
          "parcoords": [
           {
            "line": {
             "colorbar": {
              "outlinewidth": 0,
              "ticks": ""
             }
            },
            "type": "parcoords"
           }
          ],
          "pie": [
           {
            "automargin": true,
            "type": "pie"
           }
          ],
          "scatter": [
           {
            "fillpattern": {
             "fillmode": "overlay",
             "size": 10,
             "solidity": 0.2
            },
            "type": "scatter"
           }
          ],
          "scatter3d": [
           {
            "line": {
             "colorbar": {
              "outlinewidth": 0,
              "ticks": ""
             }
            },
            "marker": {
             "colorbar": {
              "outlinewidth": 0,
              "ticks": ""
             }
            },
            "type": "scatter3d"
           }
          ],
          "scattercarpet": [
           {
            "marker": {
             "colorbar": {
              "outlinewidth": 0,
              "ticks": ""
             }
            },
            "type": "scattercarpet"
           }
          ],
          "scattergeo": [
           {
            "marker": {
             "colorbar": {
              "outlinewidth": 0,
              "ticks": ""
             }
            },
            "type": "scattergeo"
           }
          ],
          "scattergl": [
           {
            "marker": {
             "colorbar": {
              "outlinewidth": 0,
              "ticks": ""
             }
            },
            "type": "scattergl"
           }
          ],
          "scattermapbox": [
           {
            "marker": {
             "colorbar": {
              "outlinewidth": 0,
              "ticks": ""
             }
            },
            "type": "scattermapbox"
           }
          ],
          "scatterpolar": [
           {
            "marker": {
             "colorbar": {
              "outlinewidth": 0,
              "ticks": ""
             }
            },
            "type": "scatterpolar"
           }
          ],
          "scatterpolargl": [
           {
            "marker": {
             "colorbar": {
              "outlinewidth": 0,
              "ticks": ""
             }
            },
            "type": "scatterpolargl"
           }
          ],
          "scatterternary": [
           {
            "marker": {
             "colorbar": {
              "outlinewidth": 0,
              "ticks": ""
             }
            },
            "type": "scatterternary"
           }
          ],
          "surface": [
           {
            "colorbar": {
             "outlinewidth": 0,
             "ticks": ""
            },
            "colorscale": [
             [
              0,
              "#0d0887"
             ],
             [
              0.1111111111111111,
              "#46039f"
             ],
             [
              0.2222222222222222,
              "#7201a8"
             ],
             [
              0.3333333333333333,
              "#9c179e"
             ],
             [
              0.4444444444444444,
              "#bd3786"
             ],
             [
              0.5555555555555556,
              "#d8576b"
             ],
             [
              0.6666666666666666,
              "#ed7953"
             ],
             [
              0.7777777777777778,
              "#fb9f3a"
             ],
             [
              0.8888888888888888,
              "#fdca26"
             ],
             [
              1,
              "#f0f921"
             ]
            ],
            "type": "surface"
           }
          ],
          "table": [
           {
            "cells": {
             "fill": {
              "color": "#EBF0F8"
             },
             "line": {
              "color": "white"
             }
            },
            "header": {
             "fill": {
              "color": "#C8D4E3"
             },
             "line": {
              "color": "white"
             }
            },
            "type": "table"
           }
          ]
         },
         "layout": {
          "annotationdefaults": {
           "arrowcolor": "#2a3f5f",
           "arrowhead": 0,
           "arrowwidth": 1
          },
          "autotypenumbers": "strict",
          "coloraxis": {
           "colorbar": {
            "outlinewidth": 0,
            "ticks": ""
           }
          },
          "colorscale": {
           "diverging": [
            [
             0,
             "#8e0152"
            ],
            [
             0.1,
             "#c51b7d"
            ],
            [
             0.2,
             "#de77ae"
            ],
            [
             0.3,
             "#f1b6da"
            ],
            [
             0.4,
             "#fde0ef"
            ],
            [
             0.5,
             "#f7f7f7"
            ],
            [
             0.6,
             "#e6f5d0"
            ],
            [
             0.7,
             "#b8e186"
            ],
            [
             0.8,
             "#7fbc41"
            ],
            [
             0.9,
             "#4d9221"
            ],
            [
             1,
             "#276419"
            ]
           ],
           "sequential": [
            [
             0,
             "#0d0887"
            ],
            [
             0.1111111111111111,
             "#46039f"
            ],
            [
             0.2222222222222222,
             "#7201a8"
            ],
            [
             0.3333333333333333,
             "#9c179e"
            ],
            [
             0.4444444444444444,
             "#bd3786"
            ],
            [
             0.5555555555555556,
             "#d8576b"
            ],
            [
             0.6666666666666666,
             "#ed7953"
            ],
            [
             0.7777777777777778,
             "#fb9f3a"
            ],
            [
             0.8888888888888888,
             "#fdca26"
            ],
            [
             1,
             "#f0f921"
            ]
           ],
           "sequentialminus": [
            [
             0,
             "#0d0887"
            ],
            [
             0.1111111111111111,
             "#46039f"
            ],
            [
             0.2222222222222222,
             "#7201a8"
            ],
            [
             0.3333333333333333,
             "#9c179e"
            ],
            [
             0.4444444444444444,
             "#bd3786"
            ],
            [
             0.5555555555555556,
             "#d8576b"
            ],
            [
             0.6666666666666666,
             "#ed7953"
            ],
            [
             0.7777777777777778,
             "#fb9f3a"
            ],
            [
             0.8888888888888888,
             "#fdca26"
            ],
            [
             1,
             "#f0f921"
            ]
           ]
          },
          "colorway": [
           "#636efa",
           "#EF553B",
           "#00cc96",
           "#ab63fa",
           "#FFA15A",
           "#19d3f3",
           "#FF6692",
           "#B6E880",
           "#FF97FF",
           "#FECB52"
          ],
          "font": {
           "color": "#2a3f5f"
          },
          "geo": {
           "bgcolor": "white",
           "lakecolor": "white",
           "landcolor": "#E5ECF6",
           "showlakes": true,
           "showland": true,
           "subunitcolor": "white"
          },
          "hoverlabel": {
           "align": "left"
          },
          "hovermode": "closest",
          "mapbox": {
           "style": "light"
          },
          "paper_bgcolor": "white",
          "plot_bgcolor": "#E5ECF6",
          "polar": {
           "angularaxis": {
            "gridcolor": "white",
            "linecolor": "white",
            "ticks": ""
           },
           "bgcolor": "#E5ECF6",
           "radialaxis": {
            "gridcolor": "white",
            "linecolor": "white",
            "ticks": ""
           }
          },
          "scene": {
           "xaxis": {
            "backgroundcolor": "#E5ECF6",
            "gridcolor": "white",
            "gridwidth": 2,
            "linecolor": "white",
            "showbackground": true,
            "ticks": "",
            "zerolinecolor": "white"
           },
           "yaxis": {
            "backgroundcolor": "#E5ECF6",
            "gridcolor": "white",
            "gridwidth": 2,
            "linecolor": "white",
            "showbackground": true,
            "ticks": "",
            "zerolinecolor": "white"
           },
           "zaxis": {
            "backgroundcolor": "#E5ECF6",
            "gridcolor": "white",
            "gridwidth": 2,
            "linecolor": "white",
            "showbackground": true,
            "ticks": "",
            "zerolinecolor": "white"
           }
          },
          "shapedefaults": {
           "line": {
            "color": "#2a3f5f"
           }
          },
          "ternary": {
           "aaxis": {
            "gridcolor": "white",
            "linecolor": "white",
            "ticks": ""
           },
           "baxis": {
            "gridcolor": "white",
            "linecolor": "white",
            "ticks": ""
           },
           "bgcolor": "#E5ECF6",
           "caxis": {
            "gridcolor": "white",
            "linecolor": "white",
            "ticks": ""
           }
          },
          "title": {
           "x": 0.05
          },
          "xaxis": {
           "automargin": true,
           "gridcolor": "white",
           "linecolor": "white",
           "ticks": "",
           "title": {
            "standoff": 15
           },
           "zerolinecolor": "white",
           "zerolinewidth": 2
          },
          "yaxis": {
           "automargin": true,
           "gridcolor": "white",
           "linecolor": "white",
           "ticks": "",
           "title": {
            "standoff": 15
           },
           "zerolinecolor": "white",
           "zerolinewidth": 2
          }
         }
        },
        "xaxis": {
         "anchor": "y",
         "domain": [
          0,
          1
         ],
         "title": {
          "text": "recall_11"
         }
        },
        "yaxis": {
         "anchor": "x",
         "domain": [
          0,
          1
         ],
         "title": {
          "text": "precision_11"
         }
        }
       }
      }
     },
     "metadata": {},
     "output_type": "display_data"
    }
   ],
   "source": [
    "fig = px.line(df_jms, x=\"recall_11\", y=\"precision_11\", color='lambda')\n",
    "fig.show()"
   ]
  },
  {
   "cell_type": "code",
   "execution_count": null,
   "metadata": {},
   "outputs": [],
   "source": []
  }
 ],
 "metadata": {
  "kernelspec": {
   "display_name": "myenv",
   "language": "python",
   "name": "python3"
  },
  "language_info": {
   "codemirror_mode": {
    "name": "ipython",
    "version": 3
   },
   "file_extension": ".py",
   "mimetype": "text/x-python",
   "name": "python",
   "nbconvert_exporter": "python",
   "pygments_lexer": "ipython3",
   "version": "3.9.13"
  },
  "orig_nbformat": 4,
  "vscode": {
   "interpreter": {
    "hash": "3f43bbfdbd25395a25ed823d9b4da9f0e87492724872f8769e910b96ff65c3c0"
   }
  }
 },
 "nbformat": 4,
 "nbformat_minor": 2
}
