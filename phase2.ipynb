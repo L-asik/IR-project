{
 "cells": [
  {
   "cell_type": "code",
   "execution_count": 1,
   "metadata": {},
   "outputs": [],
   "source": [
    "from re import L\n",
    "from sklearn import metrics\n",
    "import rank_metric as metrics\n",
    "from sklearn.metrics.pairwise import pairwise_distances\n",
    "from sklearn.feature_extraction.text import TfidfVectorizer\n",
    "import xml.etree.ElementTree as ET\n",
    "import matplotlib as plt\n",
    "import pandas as pd\n",
    "import numpy as np\n",
    "import pprint as pp\n",
    "import tarfile\n",
    "from sklearn.feature_extraction.text import CountVectorizer\n",
    "import math\n",
    "import plotly.express as px\n",
    "from sklearn.preprocessing import MinMaxScaler\n",
    "from sklearn.linear_model import LogisticRegression\n",
    "from sklearn.model_selection import KFold"
   ]
  },
  {
   "attachments": {},
   "cell_type": "markdown",
   "metadata": {},
   "source": [
    "## Data Loading\n"
   ]
  },
  {
   "cell_type": "code",
   "execution_count": 2,
   "metadata": {},
   "outputs": [
    {
     "name": "stdout",
     "output_type": "stream",
     "text": [
      "Number of trials to use: 3626\n"
     ]
    }
   ],
   "source": [
    "#parsing real patient cases\n",
    "import pickle\n",
    "import os\n",
    "trials = \"data/qrels-clinical_trials.txt\"\n",
    "trials = pd.read_csv(trials, sep='\\t', names=[\"query_id\", \"dummy\", \"docid\", \"rel\"])\n",
    "trials = trials.drop(\"dummy\", axis = 1)\n",
    "trials_to_use = set(trials['docid'])\n",
    "if not os.path.exists(\"data/doc_brief_title.bin\") or not os.path.exists(\"data/doc_ids.bin\") or not os.path.exists(\"data/docs_detailed_description.bin\") or not os.path.exists(\"data/docs_brief_summary.bin\") or not os.path.exists(\"data/docs_criteria.bin\"):\n",
    "    #parsing clinical trials\n",
    "    \n",
    "    tar = tarfile.open(\"data/clinicaltrials.gov-16_dec_2015.tgz\", \"r:gz\")\n",
    "    clinical_trials = {}\n",
    "    docs_brief_title = {}\n",
    "    docs_detailed_description={}\n",
    "    docs_brief_summary={}\n",
    "    docs_criteria={}\n",
    "    ids_brief_title = []\n",
    "    ids_detailed_description=[]\n",
    "    ids_brief_summary=[]\n",
    "    ids_criteria=[]\n",
    "\n",
    "    i = 0\n",
    "    for element in tar:\n",
    "        if element.size > 500:\n",
    "            txt = tar.extractfile(element).read().decode(\"utf-8\", \"strict\")\n",
    "            root = ET.fromstring(txt)\n",
    "            for doc_id in root.iter('nct_id'):\n",
    "                temp_id = doc_id.text\n",
    "            if temp_id not in trials_to_use:\n",
    "                continue\n",
    "            i+=1\n",
    "            for brief_title in root.iter('brief_title'):\n",
    "                id_title=doc_id.text\n",
    "                docs_brief_title[temp_id]=brief_title.text\n",
    "                ids_brief_title.append(temp_id)\n",
    "\n",
    "            \n",
    "            \n",
    "            for brief_summary in root.iter('brief_summary'):\n",
    "                for child in brief_summary:\n",
    "                    docs_brief_summary[temp_id]=child.text.strip()\n",
    "                    # ids_brief_summary.append(temp_id)\n",
    "                    id_sum=doc_id.text\n",
    "            if temp_id!=id_sum:\n",
    "                \n",
    "                docs_brief_summary[temp_id]=docs_brief_title[temp_id]\n",
    "\n",
    "\n",
    "            for detailed_description in root.iter('detailed_description'):\n",
    "                for child in detailed_description:\n",
    "                    docs_detailed_description[temp_id]=child.text.strip()\n",
    "                    # ids_detailed_description.append(temp_id)\n",
    "                    id_detailed=doc_id.text\n",
    "\n",
    "            if temp_id!=id_detailed:\n",
    "                \n",
    "                docs_detailed_description[temp_id]=docs_brief_title[temp_id]+docs_brief_summary[temp_id]\n",
    "\n",
    "\n",
    "        \n",
    "\n",
    "            for criteria in root.iter('criteria'):\n",
    "                for child in criteria:\n",
    "                    id_crit=doc_id.text\n",
    "                    doc=child.text.strip().split(\"Exclusion\")\n",
    "                    doc=doc[0].split()\n",
    "                    temp=[]\n",
    "                    for x in doc:\n",
    "                        if x==\"-\" or x==\"Inclusion\" or x==\"Criteria:\":\n",
    "                            continue\n",
    "                        temp.append(x)\n",
    "                    doc=' '.join(temp)\n",
    "                    if len(doc)==0:\n",
    "                        docs_criteria[temp_id]=docs_detailed_description[temp_id]\n",
    "                    else:\n",
    "                        docs_criteria[temp_id]=doc\n",
    "\n",
    "                    # ids_criteria.append(temp_id)\n",
    "            if temp_id!=id_crit:\n",
    "                \n",
    "                docs_criteria[temp_id]=docs_detailed_description[temp_id]\n",
    "\n",
    "                    \n",
    "            \n",
    "    print(f\"Number of trials to use: {i}\")\n",
    "\n",
    "    pickle.dump(trials,open(\"data/trials.bin\",\"wb\"))\n",
    "    pickle.dump(docs_brief_title, open( \"data/docs_brief_title.bin\", \"wb\" ) )\n",
    "    pickle.dump(ids_brief_title, open( \"data/doc_ids.bin\", \"wb\" ) )\n",
    "    pickle.dump(docs_brief_summary,open( \"data/docs_brief_summary.bin\", \"wb\" ))\n",
    "    pickle.dump(docs_detailed_description,open( \"data/docs_detailed_description.bin\", \"wb\" ))\n",
    "    pickle.dump(docs_criteria,open( \"data/docs_criteria.bin\", \"wb\" ))\n",
    "    pickle.dump(ids_brief_summary, open( \"data/doc_ids_summary.bin\", \"wb\" ) )\n",
    "    pickle.dump(ids_detailed_description, open( \"data/doc_ids_description.bin\", \"wb\" ) )\n",
    "    pickle.dump(ids_criteria, open( \"data/doc_ids_criteria.bin\", \"wb\" ) )\n",
    "else:\n",
    "    trials=pickle.load(open(\"data/trials.bin\",\"rb\"))\n",
    "    docs_brief_title = pickle.load( open( \"data/docs_brief_title.bin\", \"rb\" ) )\n",
    "    ids_brief_title = pickle.load( open( \"data/doc_ids.bin\", \"rb\" ) )\n",
    "    docs_detailed_description=pickle.load( open( \"data/docs_detailed_description.bin\", \"rb\" ) )\n",
    "    docs_brief_summary=pickle.load( open( \"data/docs_brief_summary.bin\", \"rb\" ) )\n",
    "    docs_criteria=pickle.load( open( \"data/docs_criteria.bin\", \"rb\" ) )\n",
    "    # ids_detailed_description=pickle.load( open( \"data/doc_ids_description.bin\", \"rb\" ) )\n",
    "    # ids_brief_summary=pickle.load( open( \"data/doc_ids_summary.bin\", \"rb\" ) )\n",
    "    # ids_criteria=pickle.load( open( \"data/doc_ids_criteria.bin\", \"rb\" ) )"
   ]
  },
  {
   "cell_type": "code",
   "execution_count": 3,
   "metadata": {},
   "outputs": [
    {
     "name": "stdout",
     "output_type": "stream",
     "text": [
      "3626 <class 'list'>\n",
      "3626 <class 'list'>\n",
      "3626 <class 'list'>\n",
      "3626 <class 'list'>\n",
      "3870 <class 'pandas.core.frame.DataFrame'>\n"
     ]
    }
   ],
   "source": [
    "\n",
    "docs_brief_summary=list(docs_brief_summary.values())\n",
    "docs_brief_title=list(docs_brief_title.values())\n",
    "docs_detailed_description=list(docs_detailed_description.values())\n",
    "docs_criteria=list(docs_criteria.values())\n",
    "print(len(docs_brief_summary),type(docs_brief_summary))\n",
    "print(len(docs_brief_title),type(docs_brief_title))\n",
    "print(len(docs_detailed_description),type(docs_detailed_description))\n",
    "print(len(docs_criteria),type(docs_criteria))\n",
    "print(len(trials),type(trials))\n",
    "\n",
    "\n",
    "\n"
   ]
  },
  {
   "cell_type": "code",
   "execution_count": 5,
   "metadata": {},
   "outputs": [],
   "source": [
    "# doc=docs_criteria[1]\n",
    "# doc=doc.split(\"Exclusion\")\n",
    "# doc=doc[0].split()\n",
    "# temp=[]\n",
    "# for x in doc:\n",
    "#     if x==\"-\" or x==\"Inclusion\" or x==\"Criteria:\":\n",
    "#         continue\n",
    "#     temp.append(x)\n",
    "# doc=' '.join(temp)\n",
    "# print(doc)"
   ]
  },
  {
   "cell_type": "markdown",
   "metadata": {},
   "source": [
    "### Loading the queries "
   ]
  },
  {
   "cell_type": "code",
   "execution_count": 4,
   "metadata": {},
   "outputs": [],
   "source": [
    "Queries = \"data/topics-2014_2015-summary.topics\"\n",
    "with open(Queries, 'r') as queries_reader:\n",
    "    txt = queries_reader.read()\n",
    "root = ET.fromstring(txt)\n",
    "cases = {}\n",
    "for q in root.iter('TOP'):\n",
    "    q_number = q.find(\"NUM\").text\n",
    "    q_title = q.find('TITLE').text\n",
    "    cases[q_number] = q_title"
   ]
  },
  {
   "attachments": {},
   "cell_type": "markdown",
   "metadata": {},
   "source": [
    "### Class for functions used by Language Model with Jelineck-Mercer smooting and Vector Space Model\n"
   ]
  },
  {
   "cell_type": "code",
   "execution_count": 5,
   "metadata": {},
   "outputs": [],
   "source": [
    "class NLP:\n",
    "    def __init__(self, eval_table: pd.DataFrame, cases: dict, ngram_range, docs_brief_title, ids):\n",
    "        # self.docs_brief_title = documents\n",
    "        self.eval_table = eval_table\n",
    "        self.docs_brief_title = docs_brief_title\n",
    "        self.ids = ids\n",
    "        self.cases = cases\n",
    "        self.vsm = TfidfVectorizer(ngram_range=ngram_range, analyzer='word', stop_words = None)\n",
    "        self.X = self.vsm.fit_transform(docs_brief_title)\n",
    "        self.vectorizer = CountVectorizer(ngram_range=(1,1), analyzer='word', stop_words = None)\n",
    "        self.Y=self.vectorizer.fit_transform(docs_brief_title)\n",
    "\n",
    "    def test_vsm(self, query):\n",
    "        tfidf = self.vsm.transform([query])\n",
    "        score = 1 - pairwise_distances(self.X, tfidf, metric='cosine')\n",
    "        for x in range(len(score)):\n",
    "            score[x]=float(score[x])\n",
    "        results = pd.DataFrame(list(zip(self.ids, score)), columns=['_id', 'score'])\n",
    "        ordered_results = results.sort_values(by=['score'], ascending=False).reset_index(drop=True)\n",
    "        return ordered_results,results\n",
    "\n",
    "    def eval(self, result: pd.DataFrame, id):\n",
    "        def_sim = self.eval_table[self.eval_table[\"query_id\"] == int(id)]\n",
    "        def_sim = def_sim[def_sim[\"rel\"] != 0]\n",
    "        rel_ids = def_sim[\"docid\"]\n",
    "        num_of_rel = def_sim[\"rel\"].count()\n",
    "        num_of_results = result[\"_id\"].count()\n",
    "\n",
    "        if num_of_rel == 0:\n",
    "            return [0, 0, 0, 0, 0]\n",
    "\n",
    "        #precision@10\n",
    "        top10 = result['_id'][:10]\n",
    "        p10 = np.intersect1d(top10, rel_ids).size / 10\n",
    "\n",
    "        #recall\n",
    "        recall = np.size(np.intersect1d(result[\"_id\"][:100], rel_ids)) / num_of_rel\n",
    "        rel_res_vector = np.zeros((num_of_results,))\n",
    "        for index, row in def_sim.iterrows():\n",
    "            rel_res_vector = rel_res_vector + ((result['_id'] == row.docid)*row.rel).to_numpy()\n",
    "        #ndcg5\n",
    "        ndcg5 = metrics.ndcg_at_k(r = rel_res_vector, k = 5, method = 1)\n",
    "        ap = metrics.average_precision(rel_res_vector, num_of_rel)\n",
    "        mrr = metrics.mean_reciprocal_rank(rel_res_vector)\n",
    "\n",
    "        return [p10, 1 - recall, ndcg5, ap, mrr]\n",
    "\n",
    "    def evalPR(self, scores, query_id):\n",
    "\n",
    "        aux = self.eval_table.loc[self.eval_table['query_id'] == int(query_id)]\n",
    "        idx_rel_docs_brief_title = aux.loc[aux['rel'] != (0)]\n",
    "\n",
    "        [dummyA, rank_rel, dummyB] = np.intersect1d(scores['_id'], idx_rel_docs_brief_title['docid'], return_indices=True)\n",
    "        rank_rel = np.sort(rank_rel) + 1\n",
    "        total_relv_ret = rank_rel.shape[0]\n",
    "        if total_relv_ret == 0:\n",
    "            return [np.zeros(11, ), [], total_relv_ret]\n",
    "\n",
    "        recall = np.arange(1, total_relv_ret + 1) / idx_rel_docs_brief_title.shape[0]\n",
    "        precision = np.arange(1, total_relv_ret + 1) / rank_rel\n",
    "\n",
    "        precision_interpolated = np.maximum.accumulate(precision)\n",
    "        recall_11point = [0.0, 0.1, 0.2, 0.3, 0.4, 0.5, 0.6, 0.7, 0.8, 0.9, 1.0]\n",
    "        precision_11point = np.interp(recall_11point, recall, precision)\n",
    "\n",
    "        if False:\n",
    "            print(total_relv_ret)\n",
    "            print(rank_rel)\n",
    "            print(recall)\n",
    "            print(precision)\n",
    "            plt.plot(recall, precision, color='b', alpha=1)  # Raw precision-recall\n",
    "            plt.plot(recall, precision_interpolated, color='r', alpha=1)  # Interpolated precision-recall\n",
    "            plt.plot(recall_11point, precision_11point, color='g', alpha=1)  # 11-point interpolated precision-recall\n",
    "\n",
    "        return [precision_11point, recall_11point, total_relv_ret]\n",
    "\n",
    "\n",
    "    def words_and_indexes_association(self,query):\n",
    "        q_words=[]\n",
    "        word_idx=[]\n",
    "        all_words=self.vectorizer.get_feature_names()\n",
    "        for x in range(len(query)):\n",
    "            for y in range(len(all_words)):\n",
    "                if query[x] == all_words[y]:\n",
    "                    q_words.append(query[x])\n",
    "                    word_idx.append(y)\n",
    "                    break\n",
    "        return word_idx\n",
    "\n",
    "    def JMS(self):\n",
    "        x_array=self.Y.toarray()\n",
    "        x_array=np.array(x_array)\n",
    "        #sum of rows\n",
    "        p1=np.sum(x_array,axis=0)\n",
    "        #sum of cols\n",
    "        p2=np.sum(x_array,axis=1)\n",
    "        #number of words in whole corpus\n",
    "        p3=np.sum(x_array)\n",
    "        #probability of term in corpus\n",
    "        matrix_corpus=np.divide(p1,p3)\n",
    "        #probability of term in document\n",
    "        p2=np.reshape(p2,(p2.size,1))\n",
    "        matrix_documents=np.divide(x_array,p2)  \n",
    "        return matrix_corpus,matrix_documents\n",
    "\n",
    "    def query_formating(self,query):\n",
    "        query=query[:-11]\n",
    "        for y in query:\n",
    "                if y in \".,\":\n",
    "                    query=query.replace(y,'')\n",
    "                \n",
    "        return query \n",
    "\n",
    "    def prob_with_JMS(self,index_word,index_doc,lamb,matrix_corp,matrix_doc):\n",
    "        prob=0\n",
    "        for x in index_word:\n",
    "            #print(x,index_doc)\n",
    "        \n",
    "            p_md=matrix_doc[index_doc][x]\n",
    "            p_mc=matrix_corp[x]\n",
    "            prob+=math.log(lamb*p_md+(1-lamb)*p_mc)\n",
    "        return prob\n",
    "\n",
    "    def JSM_test(self,query,lamb,matrix_corpus,matrix_documents):\n",
    "        scores_now=[]\n",
    "        q=query.split()\n",
    "        word_idx=self.words_and_indexes_association(q)\n",
    "        #print(len(self.ids))\n",
    "        for x in range(len(self.ids)):\n",
    "            #print(word_idx,x,lamb)\n",
    "            prob=self.prob_with_JMS(word_idx,x,lamb,matrix_corpus,matrix_documents)\n",
    "            scores_now.append(prob)\n",
    "        results = pd.DataFrame(list(zip(self.ids, scores_now)), columns=['_id', 'score'])\n",
    "        ordered_results = results.sort_values(by=['score'], ascending=False).reset_index(drop=True)\n",
    "        return ordered_results,results\n",
    "    \n",
    "\n"
   ]
  },
  {
   "attachments": {},
   "cell_type": "markdown",
   "metadata": {},
   "source": [
    "# Loading the dataset split"
   ]
  },
  {
   "cell_type": "code",
   "execution_count": 6,
   "metadata": {},
   "outputs": [],
   "source": [
    "cases_training=pickle.load(open(\"data/cases_training.bin\",\"rb\"))\n",
    "cases_test=pickle.load(open(\"data/cases_test.bin\",\"rb\"))"
   ]
  },
  {
   "cell_type": "markdown",
   "metadata": {},
   "source": [
    "# Computing all of the scores for labelled pair (query, document)"
   ]
  },
  {
   "cell_type": "code",
   "execution_count": 8,
   "metadata": {},
   "outputs": [],
   "source": [
    "def matrix_x_creation(cases_training):\n",
    "    dick={}\n",
    "    trials=pickle.load(open(\"data/trials.bin\",\"rb\"))\n",
    "    for x in trials.iterrows():\n",
    "        # for each row i qrels file dict[query].append all of the documents that are labelled\n",
    "        dick[str(x[1][0])]=[]\n",
    "        dick[str(x[1][0])].append(str(x[1][1]))    \n",
    "    # print(cases_training.items)\n",
    "    fields=[docs_brief_title,docs_brief_summary,docs_detailed_description,docs_criteria]\n",
    "    fields_string=[\"docs_brief_title\",\"docs_brief_summary\",\"docs_detailed_description\",\"docs_criteria\"]\n",
    "    lamb=[0.15,0.25,0.4,0.15]\n",
    "    final_scores=pd.DataFrame()\n",
    "    #for each query training set\n",
    "    for x in cases_training.items():\n",
    "\n",
    "        scores=pd.DataFrame()\n",
    "        #if query is qrels file\n",
    "        if x[0] in dick:\n",
    "            #get list of documets that are labelled\n",
    "            temp=dick[x[0]]\n",
    "            relscores=pd.DataFrame()\n",
    "            #for each document field\n",
    "            for y in range(len(fields)):\n",
    "\n",
    "                myNLP=NLP(trials, cases_training, (1,1), fields[y], ids_brief_title)\n",
    "                matrix_corpus,matrix_documents=myNLP.JMS()\n",
    "                query=myNLP.query_formating(x[1])\n",
    "                #calculate the vsm results\n",
    "                results_vsm,unordered_results_vsm= myNLP.test_vsm(query)\n",
    "                #calculate the jms results\n",
    "                results_jms,unordered_results_jms=myNLP.JSM_test(query,lamb[y],matrix_corpus,matrix_documents)\n",
    "                temp1=[]\n",
    "                temp2=[]\n",
    "                l=[]\n",
    "                #add column pair in which we have tuple (document id, query id)\n",
    "                for z in unordered_results_vsm[\"_id\"]:\n",
    "                    l.append((z,str(x[0])))\n",
    "                scores[\"pair\"]=l\n",
    "                #add column with field name+vsm or jms ending with corresponding scores\n",
    "                scores[fields_string[y]+\" vsm\"]=unordered_results_vsm[\"score\"]\n",
    "                scores[fields_string[y]+\" jms\"]=unordered_results_jms[\"score\"]\n",
    "            #for each row in these results find these that are labelled in qrels file and put them in relscores dataframe\n",
    "            for z in scores.iterrows():\n",
    "                temp1=pd.DataFrame()\n",
    "                if z[1][0][0] in temp:\n",
    "                    \n",
    "                    temp1=z[1]\n",
    "                    temp1=temp1.to_frame().transpose()\n",
    "                \n",
    "                    relscores=pd.concat([relscores,temp1])\n",
    "            \n",
    "            #for each query add the labelled results to the final scores dataframe\n",
    "            final_scores=pd.concat([relscores,final_scores])\n",
    "        final_scores\n",
    "        pickle.dump(final_scores,open(\"data/final_relevant_scores.bin\",\"wb\"))\n",
    "    return final_scores\n",
    "        \n",
    "\n",
    "\n",
    "    \n",
    "\n",
    "        \n"
   ]
  },
  {
   "cell_type": "markdown",
   "metadata": {},
   "source": [
    "# Matrix Y definition"
   ]
  },
  {
   "cell_type": "code",
   "execution_count": 9,
   "metadata": {},
   "outputs": [],
   "source": [
    "#based on matrix y (final results dataframe) we make a matrix y in which we have binary labels for each \n",
    "# (query, document) pair from the previous matrix\n",
    "def matrix_y_def():\n",
    "    list_of_relevances=[]\n",
    "    binary_relevance=[]\n",
    "    final_scores=pickle.load(open(\"data/final_relevant_scores.bin\",\"rb\"))\n",
    "    trials=pickle.load(open(\"data/trials.bin\",\"rb\"))\n",
    "\n",
    "    for y in final_scores.iterrows():\n",
    "            for x in trials.iterrows():\n",
    "                #here we use the pairs column to find the corresponding label in qrels file\n",
    "                if (x[1][1],str(x[1][0]))==y[1][0]:\n",
    "                    z=x[1][2]\n",
    "                    #if the label is equal to 2 we change it to 1 \n",
    "                    list_of_relevances.append(z) \n",
    "                    if z>0:\n",
    "                        z=1\n",
    "                        \n",
    "                    \n",
    "                    binary_relevance.append(z)          \n",
    "    # print(len(list_of_relevances))\n",
    "    pickle.dump(list_of_relevances,open(\"data/matrix_y.bin\",\"wb\"))\n",
    "    return list_of_relevances,binary_relevance\n"
   ]
  },
  {
   "cell_type": "markdown",
   "metadata": {},
   "source": [
    "# Matrix X normalization "
   ]
  },
  {
   "cell_type": "code",
   "execution_count": 10,
   "metadata": {},
   "outputs": [],
   "source": [
    "def matrix_x_norm():\n",
    "#here we use the min max scaler for normalising obtained scores in matrix x \n",
    "    final_scores=pickle.load(open(\"data/final_relevant_scores.bin\",\"rb\"))\n",
    "    # print(final_scores.shape)\n",
    "    del final_scores[\"pair\"]\n",
    "    scaler=MinMaxScaler()\n",
    "    final_scores=scaler.fit_transform(final_scores)\n",
    "    # print(list_of_relevances)\n",
    "    # print(final_scores.shape)\n",
    "    # print(len(list_of_relevances))\n",
    "    pickle.dump(final_scores,open(\"data/matrix_x.bin\",\"wb\"))\n",
    "    # matrix_y=pickle.load(open(\"data/matrix_y.bin\",\"rb\"))"
   ]
  },
  {
   "cell_type": "markdown",
   "metadata": {},
   "source": [
    "# Logistic Regression \n",
    "## using X and Y matrices"
   ]
  },
  {
   "cell_type": "code",
   "execution_count": 11,
   "metadata": {},
   "outputs": [],
   "source": [
    "def log_regr_train(c,typ,matrix_y,rel):\n",
    "    #using both matrices with logistic regression\n",
    "    # matrix_y=pickle.load(open(\"data/matrix_y.bin\",\"rb\"))\n",
    "    matrix_x=pickle.load(open(\"data/matrix_x.bin\",\"rb\"))\n",
    "    if typ==\"a\":\n",
    "        clf = LogisticRegression(C=c,class_weight=None).fit(matrix_x, matrix_y, sample_weight=None)\n",
    "    if typ==\"b\":\n",
    "        clf = LogisticRegression(C=c,class_weight=\"balanced\").fit(matrix_x, matrix_y, sample_weight=None)\n",
    "    if typ==\"c\":\n",
    "        clf = LogisticRegression(C=c,class_weight=None).fit(matrix_x, matrix_y, sample_weight=rel)\n",
    "    #coeficients correspond to weight we should give each column in matrix X\n",
    "    # (how important are the scores obtaned from each document field)\n",
    "    return clf.coef_"
   ]
  },
  {
   "cell_type": "markdown",
   "metadata": {},
   "source": [
    "# Computing the scores using logistic regression weights"
   ]
  },
  {
   "cell_type": "code",
   "execution_count": 12,
   "metadata": {},
   "outputs": [],
   "source": [
    "def calc_scores_with_coef(coef,cases,lamb,c):    \n",
    "    #here we compute the scores and use metrics to evaluate them\n",
    "    #but each scores list is multiplied by corresponding logistic regression coeficient \n",
    "    # coef=clf.coef_\n",
    "    # mock_wieghts=[[1.0,0,0,0,0,0,0,0]]\n",
    "    records = []\n",
    "    fields=[docs_brief_title,docs_brief_summary,docs_detailed_description,docs_criteria]\n",
    "    fields_string=[\"docs_brief_title\",\"docs_brief_summary\",\"docs_detailed_description\",\"docs_criteria\"]\n",
    "    # lamb=[0.15,0.25,0.4,0.15]\n",
    "    prec = np.zeros(11,)\n",
    "    test = np.zeros(5,)\n",
    "\n",
    "    for x in cases.items():\n",
    "        scores=pd.DataFrame()\n",
    "        relscores=pd.DataFrame()\n",
    "        statistics_letor={}\n",
    "        coef_vsm=0\n",
    "        coef_jsm=1\n",
    "        score_mult_coef=pd.DataFrame()\n",
    "        zeros=np.zeros(len(ids_brief_title))\n",
    "        score_mult_coef[\"score\"]=zeros \n",
    "        relscores[\"score\"]=zeros\n",
    "        for y in range(len(fields)):\n",
    "            \n",
    "            myNLP=NLP(trials, cases, (1,1), fields[y], ids_brief_title)\n",
    "            query=myNLP.query_formating(x[1]) \n",
    "            matrix_corpus,matrix_documents=myNLP.JMS()\n",
    "            results_vsm,unordered_results_vsm= myNLP.test_vsm(query)\n",
    "            unordered_results_vsm[\"score\"]=unordered_results_vsm[\"score\"].multiply(coef[0][coef_vsm])\n",
    "            # unordered_results_vsm[\"score\"]=unordered_results_vsm[\"score\"].multiply(mock_wieghts[0][coef_vsm])\n",
    "            results_jms,unordered_results_jms=myNLP.JSM_test(query,lamb[y],matrix_corpus,matrix_documents)\n",
    "            unordered_results_jms[\"score\"]=unordered_results_jms[\"score\"].multiply(coef[0][coef_jsm])\n",
    "            # unordered_results_jms[\"score\"]=unordered_results_jms[\"score\"].multiply(mock_wieghts[0][coef_jsm])\n",
    "            #print(results_vsm)\n",
    "            # score_mult_coef[\"_id\"]=results_vsm[\"_id\"]\n",
    "            score_mult_coef[fields_string[y]+\" jms\"]=unordered_results_vsm[\"score\"].multiply(coef[0][coef_vsm])\n",
    "            score_mult_coef[fields_string[y]+\" vsm\"]=unordered_results_jms[\"score\"].multiply(coef[0][coef_jsm])\n",
    "            coef_jsm+=2\n",
    "            coef_vsm+=2\n",
    "            \n",
    "            # score_mult_coef[\"score\"]=score_mult_coef[\"score\"]+ unordered_results_jms[\"score\"]+unordered_results_vsm[\"score\"]\n",
    "        relscores[\"score\"]=score_mult_coef.sum(axis=1)\n",
    "        relscores[\"_id\"]=unordered_results_jms[\"_id\"]\n",
    "        # score_mult_coef=score_mult_coef.sort_values(by=['score'], ascending=False).reset_index(drop=True)\n",
    "        relscores=relscores.sort_values(by=['score'], ascending=False).reset_index(drop=True)\n",
    "        p10, recall, ndcg5, ap, mrr = myNLP.eval(relscores, x[0])\n",
    "        test +=np.array([p10, ndcg5, mrr, ap, recall])\n",
    "        prec_11point, recal_11point, tot_relv_ret = myNLP.evalPR(relscores, x[0])\n",
    "        prec +=prec_11point\n",
    "\n",
    "    prec = prec / (len(cases.keys()))\n",
    "    test = test / (len(cases.keys()))\n",
    "    for p, r in zip(prec, recal_11point):\n",
    "        records.append((c, p, r))\n",
    "    statistics_letor[\"C=\"+str(c)]=test\n",
    "    \n",
    "    stats=pd.DataFrame.from_dict(statistics_letor, orient=\"index\", columns=[\"p10\", \"ndcg5\", \"mrr\", \"ap\", \"recall\"])\n",
    "    return stats,records\n",
    "            \n",
    "        "
   ]
  },
  {
   "cell_type": "markdown",
   "metadata": {},
   "source": [
    "# Tuning the JMS lambda for different fields "
   ]
  },
  {
   "cell_type": "code",
   "execution_count": 12,
   "metadata": {},
   "outputs": [
    {
     "name": "stdout",
     "output_type": "stream",
     "text": [
      "docs_brief_title\n",
      "           p10     ndcg5       mrr        ap    recall\n",
      "0.00  0.002083  0.007066  0.005068  0.007654  0.955837\n",
      "0.05  0.075000  0.062876  0.005068  0.050237  0.795584\n",
      "0.10  0.081250  0.062833  0.005068  0.049541  0.798172\n",
      "0.15  0.077083  0.068278  0.005068  0.050040  0.801853\n",
      "0.20  0.075000  0.067068  0.005068  0.048928  0.798110\n",
      "0.25  0.072917  0.068596  0.005068  0.048517  0.796694\n",
      "0.30  0.070833  0.067229  0.005068  0.047326  0.799379\n",
      "0.35  0.070833  0.065283  0.005068  0.046501  0.798188\n",
      "0.40  0.070833  0.068164  0.005068  0.045743  0.802356\n",
      "0.45  0.070833  0.065625  0.005068  0.044557  0.805070\n",
      "0.50  0.068750  0.064259  0.005068  0.043893  0.804915\n",
      "0.55  0.062500  0.060012  0.005068  0.042217  0.810868\n",
      "0.60  0.060417  0.061033  0.005068  0.042016  0.811452\n",
      "0.65  0.060417  0.061184  0.005068  0.041459  0.813014\n",
      "0.70  0.060417  0.061337  0.005068  0.040802  0.817800\n",
      "0.75  0.060417  0.057986  0.005068  0.039881  0.818079\n",
      "0.80  0.060417  0.058582  0.005068  0.039732  0.829626\n",
      "0.85  0.045833  0.061315  0.005068  0.038426  0.834358\n",
      "0.90  0.045833  0.056072  0.005068  0.035701  0.846726\n",
      "0.99  0.043750  0.050717  0.005068  0.031003  0.865262\n",
      "docs_brief_summary\n",
      "           p10     ndcg5       mrr        ap    recall\n",
      "0.00  0.002083  0.007066  0.005068  0.007654  0.955837\n",
      "0.05  0.097917  0.085425  0.005068  0.070783  0.737964\n",
      "0.10  0.110417  0.085964  0.005068  0.071370  0.739475\n",
      "0.15  0.114583  0.085130  0.005068  0.072554  0.744988\n",
      "0.20  0.114583  0.098976  0.005068  0.075110  0.748103\n",
      "0.25  0.114583  0.103117  0.005068  0.076998  0.752488\n",
      "0.30  0.112500  0.107336  0.005068  0.076858  0.762936\n",
      "0.35  0.106250  0.110189  0.005068  0.076507  0.762886\n",
      "0.40  0.106250  0.106271  0.005068  0.075819  0.766167\n",
      "0.45  0.104167  0.104277  0.005068  0.075684  0.772988\n",
      "0.50  0.102083  0.101832  0.005068  0.073233  0.771170\n",
      "0.55  0.102083  0.103764  0.005068  0.072525  0.777269\n",
      "0.60  0.102083  0.095364  0.005068  0.071568  0.781510\n",
      "0.65  0.097917  0.093656  0.005068  0.070606  0.783155\n",
      "0.70  0.093750  0.093071  0.005068  0.072537  0.785554\n",
      "0.75  0.091667  0.097397  0.005068  0.071315  0.790041\n",
      "0.80  0.091667  0.096309  0.005068  0.071517  0.792263\n",
      "0.85  0.091667  0.096276  0.005068  0.071192  0.796180\n",
      "0.90  0.091667  0.096121  0.005068  0.069515  0.798765\n",
      "0.99  0.081250  0.075562  0.005068  0.057437  0.809269\n",
      "docs_detailed_description\n",
      "           p10     ndcg5       mrr        ap    recall\n",
      "0.00  0.002083  0.007066  0.005068  0.007654  0.955837\n",
      "0.05  0.118750  0.100883  0.005068  0.081888  0.684092\n",
      "0.10  0.116667  0.108698  0.005068  0.083958  0.699283\n",
      "0.15  0.116667  0.109889  0.005068  0.082807  0.722423\n",
      "0.20  0.116667  0.118715  0.005068  0.087180  0.716809\n",
      "0.25  0.122917  0.117929  0.005068  0.088691  0.718835\n",
      "0.30  0.118750  0.120024  0.005068  0.087245  0.717557\n",
      "0.35  0.120833  0.122235  0.005068  0.086640  0.721951\n",
      "0.40  0.122917  0.123639  0.005068  0.085383  0.725651\n",
      "0.45  0.118750  0.116428  0.005068  0.080405  0.725842\n",
      "0.50  0.118750  0.120053  0.005068  0.080057  0.731036\n",
      "0.55  0.110417  0.120842  0.005068  0.076018  0.733844\n",
      "0.60  0.108333  0.117423  0.005068  0.073783  0.740236\n",
      "0.65  0.104167  0.118528  0.005068  0.072753  0.748175\n",
      "0.70  0.104167  0.120149  0.005068  0.071290  0.758450\n",
      "0.75  0.104167  0.119468  0.005068  0.069496  0.764592\n",
      "0.80  0.095833  0.122762  0.005068  0.069912  0.772664\n",
      "0.85  0.091667  0.117241  0.005068  0.067608  0.778163\n",
      "0.90  0.093750  0.114717  0.005068  0.064590  0.782367\n",
      "0.99  0.072917  0.094177  0.005068  0.051226  0.804277\n",
      "docs_criteria\n",
      "           p10     ndcg5       mrr        ap    recall\n",
      "0.00  0.002083  0.007066  0.005068  0.007654  0.955837\n",
      "0.05  0.122917  0.131732  0.005068  0.081501  0.722486\n",
      "0.10  0.118750  0.138578  0.005068  0.082525  0.736823\n",
      "0.15  0.120833  0.135635  0.005068  0.083002  0.742432\n",
      "0.20  0.118750  0.133556  0.005068  0.082488  0.741658\n",
      "0.25  0.114583  0.135957  0.005068  0.083510  0.747702\n",
      "0.30  0.114583  0.136762  0.005068  0.082661  0.748440\n",
      "0.35  0.114583  0.137541  0.005068  0.082691  0.760063\n",
      "0.40  0.116667  0.131810  0.005068  0.082483  0.759218\n",
      "0.45  0.114583  0.131797  0.005068  0.081638  0.761371\n",
      "0.50  0.112500  0.132260  0.005068  0.081271  0.766131\n",
      "0.55  0.110417  0.131770  0.005068  0.080614  0.791243\n",
      "0.60  0.110417  0.130219  0.005068  0.079034  0.800764\n",
      "0.65  0.108333  0.131777  0.005068  0.078727  0.803085\n",
      "0.70  0.106250  0.129718  0.005068  0.077855  0.802284\n",
      "0.75  0.104167  0.124406  0.005068  0.075370  0.805923\n",
      "0.80  0.102083  0.126839  0.005068  0.074315  0.808533\n",
      "0.85  0.100000  0.120949  0.005068  0.070836  0.813385\n",
      "0.90  0.095833  0.118711  0.005068  0.066864  0.815489\n",
      "0.99  0.081250  0.087042  0.005068  0.048741  0.838974\n"
     ]
    }
   ],
   "source": [
    "fields_string=[\"docs_brief_title\",\"docs_brief_summary\",\"docs_detailed_description\",\"docs_criteria\"]\n",
    "fields=[docs_brief_title,docs_brief_summary,docs_detailed_description,docs_criteria]\n",
    "records = []\n",
    "statistics = {}\n",
    "for y in range(len(fields)):\n",
    "    myNLP = NLP(trials, cases_training, (1, 1), fields[y], ids_brief_title)\n",
    "    records_jms = []\n",
    "    statistics_jms = {}\n",
    "    matrix_corpus,matrix_documents=myNLP.JMS()\n",
    "    for lamb in [0.0, 0.05, 0.1, 0.15, 0.2, 0.25, 0.3, 0.35, 0.4, 0.45, 0.5, 0.55, 0.6, 0.65, 0.7, 0.75, 0.8, 0.85, 0.9, 0.99]:\n",
    "        prec = np.zeros(11,)\n",
    "        test = np.zeros(5,)\n",
    "\n",
    "        for x in myNLP.cases.items():\n",
    "            query=myNLP.query_formating(x[1])\n",
    "            results,unordered_results=myNLP.JSM_test(query,lamb,matrix_corpus,matrix_documents)\n",
    "            p10,recall,ndcg5,ap,mrr=myNLP.eval(results,x[0])\n",
    "            test = test + np.array([p10, ndcg5, mrr, ap, recall])\n",
    "        test = test / len(cases_training.keys())\n",
    "        statistics_jms[lamb] = test\n",
    "        # print(lamb)\n",
    "    stats = pd.DataFrame.from_dict(statistics_jms, orient=\"index\", columns=[\"p10\", \"ndcg5\", \"mrr\", \"ap\", \"recall\"])\n",
    "    print(fields_string[y])\n",
    "    print(stats)"
   ]
  },
  {
   "cell_type": "markdown",
   "metadata": {},
   "source": [
    "#    Tuning the VSM ngrams"
   ]
  },
  {
   "cell_type": "code",
   "execution_count": 13,
   "metadata": {},
   "outputs": [
    {
     "name": "stdout",
     "output_type": "stream",
     "text": [
      "docs_brief_title\n",
      "             p10     ndcg5       mrr        ap    recall\n",
      "(1, 1)  0.079167  0.073697  0.005068  0.048426  0.803329\n",
      "(1, 2)  0.064583  0.068421  0.005068  0.045635  0.809815\n",
      "(2, 2)  0.043750  0.057167  0.005068  0.026414  0.920451\n",
      "(1, 3)  0.064583  0.065032  0.005068  0.042952  0.810904\n",
      "(2, 3)  0.043750  0.054010  0.005068  0.025906  0.919324\n",
      "(3, 3)  0.010417  0.020448  0.005068  0.011434  0.951259\n",
      "docs_brief_summary\n",
      "             p10     ndcg5       mrr        ap    recall\n",
      "(1, 1)  0.097917  0.091399  0.005068  0.075581  0.740466\n",
      "(1, 2)  0.093750  0.097353  0.005068  0.073953  0.737067\n",
      "(2, 2)  0.064583  0.072868  0.005068  0.042347  0.848290\n",
      "(1, 3)  0.091667  0.095186  0.005068  0.072219  0.736217\n",
      "(2, 3)  0.070833  0.066741  0.005068  0.041246  0.848290\n",
      "(3, 3)  0.041667  0.050273  0.005068  0.023246  0.931056\n",
      "docs_detailed_description\n",
      "             p10     ndcg5       mrr        ap    recall\n",
      "(1, 1)  0.114583  0.107543  0.005068  0.082028  0.674937\n",
      "(1, 2)  0.106250  0.113619  0.005068  0.078313  0.683807\n",
      "(2, 2)  0.087500  0.080395  0.005068  0.049788  0.812987\n",
      "(1, 3)  0.114583  0.110401  0.005068  0.078420  0.693153\n",
      "(2, 3)  0.093750  0.092252  0.005068  0.052528  0.816949\n",
      "(3, 3)  0.056250  0.066053  0.005068  0.029699  0.909486\n",
      "docs_criteria\n",
      "             p10     ndcg5       mrr        ap    recall\n",
      "(1, 1)  0.106250  0.105706  0.005068  0.066188  0.737969\n",
      "(1, 2)  0.102083  0.119825  0.005068  0.070403  0.752017\n",
      "(2, 2)  0.081250  0.094761  0.005068  0.043221  0.862627\n",
      "(1, 3)  0.100000  0.124401  0.005068  0.070178  0.763964\n",
      "(2, 3)  0.075000  0.103308  0.005068  0.043793  0.864699\n",
      "(3, 3)  0.035417  0.057104  0.005068  0.020315  0.933757\n"
     ]
    }
   ],
   "source": [
    "#We are tuning using the training set\n",
    "fields=[docs_brief_title,docs_brief_summary,docs_detailed_description,docs_criteria]\n",
    "fields_string=[\"docs_brief_title\",\"docs_brief_summary\",\"docs_detailed_description\",\"docs_criteria\"]\n",
    "records = []\n",
    "statistics = {}\n",
    "results=[]\n",
    "for y in range(len(fields)):\n",
    "    for ngram in [(1,1), (1, 2), (2, 2), (1, 3), (2, 3), (3, 3)]:\n",
    "        myNLP = NLP(trials, cases_training, ngram, fields[y], ids_brief_title)\n",
    "        prec = np.zeros(11,)\n",
    "        test = np.zeros(5,)\n",
    "        for x in myNLP.cases.items():\n",
    "            results,unordered_results= myNLP.test_vsm(x[1])\n",
    "            p10, recall, ndcg5, ap, mrr = myNLP.eval(results, x[0])\n",
    "            test = test + np.array([p10, ndcg5, mrr, ap, recall])\n",
    "            prec_11point, recal_11point, tot_relv_ret = myNLP.evalPR(results, x[0])\n",
    "            prec = prec + prec_11point\n",
    "            \n",
    "        prec = prec / len(cases_training.keys())\n",
    "        test = test / len(cases_training.keys())\n",
    "        statistics[ngram] = test\n",
    "    stats = pd.DataFrame.from_dict(statistics, orient=\"index\", columns=[\"p10\", \"ndcg5\", \"mrr\", \"ap\", \"recall\"])\n",
    "    print(fields_string[y])\n",
    "    print(stats)"
   ]
  },
  {
   "cell_type": "markdown",
   "metadata": {},
   "source": [
    "## Lambdas we have chosen \n",
    "For brief title: 0.10\n",
    "For brief summary: 0.25\n",
    "For detailed description: 0.25\n",
    "For criteria: 0.15\n",
    "For all fields the best range of n-grams analised was (1,1)\n"
   ]
  },
  {
   "cell_type": "markdown",
   "metadata": {},
   "source": [
    "# Tuning the regularization parameter"
   ]
  },
  {
   "cell_type": "markdown",
   "metadata": {},
   "source": [
    "# A)"
   ]
  },
  {
   "cell_type": "code",
   "execution_count": 15,
   "metadata": {},
   "outputs": [
    {
     "name": "stdout",
     "output_type": "stream",
     "text": [
      "Stats for c= 0.1\n",
      "           p10     ndcg5       mrr        ap    recall\n",
      "C=0.1  0.13125  0.126032  0.005068  0.106868  0.655354\n",
      "Stats for c= 0.3\n",
      "            p10  ndcg5       mrr        ap    recall\n",
      "C=0.3  0.133333  0.119  0.005068  0.104456  0.657068\n",
      "Stats for c= 0.5\n",
      "            p10     ndcg5       mrr        ap    recall\n",
      "C=0.5  0.133333  0.121567  0.005068  0.104099  0.656417\n",
      "Stats for c= 0.7\n",
      "            p10     ndcg5       mrr        ap    recall\n",
      "C=0.7  0.135417  0.125107  0.005068  0.103865  0.658949\n",
      "Stats for c= 0.9\n",
      "            p10     ndcg5       mrr        ap    recall\n",
      "C=0.9  0.133333  0.125352  0.005068  0.104281  0.655892\n"
     ]
    }
   ],
   "source": [
    "ids_training_cases=list(cases_training.keys())\n",
    "final_stats=pd.DataFrame()\n",
    "for c in [0.1,0.3,0.5,0.7,0.9]:\n",
    "    kf = KFold(4, shuffle=True, random_state=23)\n",
    "    stats=np.zeros((1,5))\n",
    "    for id_train,id_valid in kf.split(ids_training_cases,ids_training_cases):\n",
    "        training_set={}\n",
    "        temp=[]\n",
    "        validation_set={}\n",
    "        for id in id_train:\n",
    "            temp=list(cases_training.keys())\n",
    "            training_set[temp[id]] = cases_training[temp[id]]\n",
    "        for id in id_valid:\n",
    "            id=int(id)\n",
    "            validation_set[temp[id]] = cases_training[temp[id]]\n",
    "        # print(\"zaczął tworzyć x\")\n",
    "        matrix_x=matrix_x_creation(training_set)\n",
    "        # print(\"zaczął tworzyć y\")\n",
    "        matrix_y,binary=matrix_y_def()\n",
    "        matrix_x=matrix_x_norm()\n",
    "        coef=log_regr_train(c,\"a\",binary,matrix_y)\n",
    "        # print(\"Stats\")\n",
    "        temp,records=calc_scores_with_coef(coef,validation_set,[0.10,0.25,0.25,0.15],c)\n",
    "        stats+=temp\n",
    "        # print(\"_____________\")\n",
    "    print(\"Stats for c=\",c)\n",
    "    stats=stats/4\n",
    "    final_stats=pd.concat([final_stats,stats])\n",
    "    print(stats)\n",
    "pickle.dump(final_stats,open(\"data/letor_a\",\"wb\"))       \n",
    "\n"
   ]
  },
  {
   "cell_type": "code",
   "execution_count": 16,
   "metadata": {},
   "outputs": [
    {
     "data": {
      "text/html": [
       "<div>\n",
       "<style scoped>\n",
       "    .dataframe tbody tr th:only-of-type {\n",
       "        vertical-align: middle;\n",
       "    }\n",
       "\n",
       "    .dataframe tbody tr th {\n",
       "        vertical-align: top;\n",
       "    }\n",
       "\n",
       "    .dataframe thead th {\n",
       "        text-align: right;\n",
       "    }\n",
       "</style>\n",
       "<table border=\"1\" class=\"dataframe\">\n",
       "  <thead>\n",
       "    <tr style=\"text-align: right;\">\n",
       "      <th></th>\n",
       "      <th>p10</th>\n",
       "      <th>ndcg5</th>\n",
       "      <th>mrr</th>\n",
       "      <th>ap</th>\n",
       "      <th>recall</th>\n",
       "    </tr>\n",
       "  </thead>\n",
       "  <tbody>\n",
       "    <tr>\n",
       "      <th>C=0.1</th>\n",
       "      <td>0.131250</td>\n",
       "      <td>0.126032</td>\n",
       "      <td>0.005068</td>\n",
       "      <td>0.106868</td>\n",
       "      <td>0.655354</td>\n",
       "    </tr>\n",
       "    <tr>\n",
       "      <th>C=0.3</th>\n",
       "      <td>0.133333</td>\n",
       "      <td>0.119000</td>\n",
       "      <td>0.005068</td>\n",
       "      <td>0.104456</td>\n",
       "      <td>0.657068</td>\n",
       "    </tr>\n",
       "    <tr>\n",
       "      <th>C=0.5</th>\n",
       "      <td>0.133333</td>\n",
       "      <td>0.121567</td>\n",
       "      <td>0.005068</td>\n",
       "      <td>0.104099</td>\n",
       "      <td>0.656417</td>\n",
       "    </tr>\n",
       "    <tr>\n",
       "      <th>C=0.7</th>\n",
       "      <td>0.135417</td>\n",
       "      <td>0.125107</td>\n",
       "      <td>0.005068</td>\n",
       "      <td>0.103865</td>\n",
       "      <td>0.658949</td>\n",
       "    </tr>\n",
       "    <tr>\n",
       "      <th>C=0.9</th>\n",
       "      <td>0.133333</td>\n",
       "      <td>0.125352</td>\n",
       "      <td>0.005068</td>\n",
       "      <td>0.104281</td>\n",
       "      <td>0.655892</td>\n",
       "    </tr>\n",
       "  </tbody>\n",
       "</table>\n",
       "</div>"
      ],
      "text/plain": [
       "            p10     ndcg5       mrr        ap    recall\n",
       "C=0.1  0.131250  0.126032  0.005068  0.106868  0.655354\n",
       "C=0.3  0.133333  0.119000  0.005068  0.104456  0.657068\n",
       "C=0.5  0.133333  0.121567  0.005068  0.104099  0.656417\n",
       "C=0.7  0.135417  0.125107  0.005068  0.103865  0.658949\n",
       "C=0.9  0.133333  0.125352  0.005068  0.104281  0.655892"
      ]
     },
     "execution_count": 16,
     "metadata": {},
     "output_type": "execute_result"
    }
   ],
   "source": [
    "final_stats"
   ]
  },
  {
   "cell_type": "markdown",
   "metadata": {},
   "source": [
    "# B)"
   ]
  },
  {
   "cell_type": "code",
   "execution_count": 18,
   "metadata": {},
   "outputs": [
    {
     "name": "stdout",
     "output_type": "stream",
     "text": [
      "Stats for c= 0.1\n",
      "            p10     ndcg5       mrr        ap    recall\n",
      "C=0.1  0.129167  0.124569  0.005068  0.106156  0.655354\n",
      "Stats for c= 0.3\n",
      "            p10     ndcg5       mrr        ap    recall\n",
      "C=0.3  0.133333  0.118738  0.005068  0.103443  0.666794\n",
      "Stats for c= 0.5\n",
      "           p10     ndcg5       mrr        ap    recall\n",
      "C=0.5  0.13125  0.125417  0.005068  0.103605  0.662839\n",
      "Stats for c= 0.7\n",
      "            p10     ndcg5       mrr        ap    recall\n",
      "C=0.7  0.129167  0.128395  0.005068  0.104218  0.661179\n",
      "Stats for c= 0.9\n",
      "            p10     ndcg5       mrr        ap    recall\n",
      "C=0.9  0.133333  0.127486  0.005068  0.105057  0.653602\n"
     ]
    }
   ],
   "source": [
    "final_stats=pd.DataFrame()\n",
    "for c in [0.1,0.3,0.5,0.7,0.9]:\n",
    "    kf = KFold(4, shuffle=True, random_state=23)\n",
    "    stats=np.zeros((1,5))\n",
    "    for id_train,id_valid in kf.split(ids_training_cases,ids_training_cases):\n",
    "        training_set={}\n",
    "        temp=[]\n",
    "        validation_set={}\n",
    "        for id in id_train:\n",
    "            temp=list(cases_training.keys())\n",
    "            training_set[temp[id]] = cases_training[temp[id]]\n",
    "        for id in id_valid:\n",
    "            id=int(id)\n",
    "            validation_set[temp[id]] = cases_training[temp[id]]\n",
    "        # print(\"zaczął tworzyć x\")\n",
    "        matrix_x=matrix_x_creation(training_set)\n",
    "        # print(\"zaczął tworzyć y\")\n",
    "        matrix_y,binary=matrix_y_def()\n",
    "        matrix_x=matrix_x_norm()\n",
    "        coef=log_regr_train(c,\"b\",binary,matrix_y)\n",
    "        # print(\"Stats\")\n",
    "        temp,records=calc_scores_with_coef(coef,validation_set,[0.10,0.25,0.25,0.15],c)\n",
    "        stats+=temp\n",
    "        # print(c)\n",
    "        # print(temp)\n",
    "        # print(\"_____________\")\n",
    "    print(\"Stats for c=\",c)\n",
    "    stats=stats/4\n",
    "    final_stats=pd.concat([final_stats,stats])\n",
    "    print(stats)\n",
    "pickle.dump(final_stats,open(\"data/letor_b\",\"wb\")) \n",
    "        "
   ]
  },
  {
   "cell_type": "code",
   "execution_count": 19,
   "metadata": {},
   "outputs": [
    {
     "data": {
      "text/html": [
       "<div>\n",
       "<style scoped>\n",
       "    .dataframe tbody tr th:only-of-type {\n",
       "        vertical-align: middle;\n",
       "    }\n",
       "\n",
       "    .dataframe tbody tr th {\n",
       "        vertical-align: top;\n",
       "    }\n",
       "\n",
       "    .dataframe thead th {\n",
       "        text-align: right;\n",
       "    }\n",
       "</style>\n",
       "<table border=\"1\" class=\"dataframe\">\n",
       "  <thead>\n",
       "    <tr style=\"text-align: right;\">\n",
       "      <th></th>\n",
       "      <th>p10</th>\n",
       "      <th>ndcg5</th>\n",
       "      <th>mrr</th>\n",
       "      <th>ap</th>\n",
       "      <th>recall</th>\n",
       "    </tr>\n",
       "  </thead>\n",
       "  <tbody>\n",
       "    <tr>\n",
       "      <th>C=0.1</th>\n",
       "      <td>0.129167</td>\n",
       "      <td>0.124569</td>\n",
       "      <td>0.005068</td>\n",
       "      <td>0.106156</td>\n",
       "      <td>0.655354</td>\n",
       "    </tr>\n",
       "    <tr>\n",
       "      <th>C=0.3</th>\n",
       "      <td>0.133333</td>\n",
       "      <td>0.118738</td>\n",
       "      <td>0.005068</td>\n",
       "      <td>0.103443</td>\n",
       "      <td>0.666794</td>\n",
       "    </tr>\n",
       "    <tr>\n",
       "      <th>C=0.5</th>\n",
       "      <td>0.131250</td>\n",
       "      <td>0.125417</td>\n",
       "      <td>0.005068</td>\n",
       "      <td>0.103605</td>\n",
       "      <td>0.662839</td>\n",
       "    </tr>\n",
       "    <tr>\n",
       "      <th>C=0.7</th>\n",
       "      <td>0.129167</td>\n",
       "      <td>0.128395</td>\n",
       "      <td>0.005068</td>\n",
       "      <td>0.104218</td>\n",
       "      <td>0.661179</td>\n",
       "    </tr>\n",
       "    <tr>\n",
       "      <th>C=0.9</th>\n",
       "      <td>0.133333</td>\n",
       "      <td>0.127486</td>\n",
       "      <td>0.005068</td>\n",
       "      <td>0.105057</td>\n",
       "      <td>0.653602</td>\n",
       "    </tr>\n",
       "  </tbody>\n",
       "</table>\n",
       "</div>"
      ],
      "text/plain": [
       "            p10     ndcg5       mrr        ap    recall\n",
       "C=0.1  0.129167  0.124569  0.005068  0.106156  0.655354\n",
       "C=0.3  0.133333  0.118738  0.005068  0.103443  0.666794\n",
       "C=0.5  0.131250  0.125417  0.005068  0.103605  0.662839\n",
       "C=0.7  0.129167  0.128395  0.005068  0.104218  0.661179\n",
       "C=0.9  0.133333  0.127486  0.005068  0.105057  0.653602"
      ]
     },
     "execution_count": 19,
     "metadata": {},
     "output_type": "execute_result"
    }
   ],
   "source": [
    "final_stats"
   ]
  },
  {
   "cell_type": "markdown",
   "metadata": {},
   "source": [
    "# C)"
   ]
  },
  {
   "cell_type": "code",
   "execution_count": 20,
   "metadata": {},
   "outputs": [
    {
     "name": "stdout",
     "output_type": "stream",
     "text": [
      "Stats for c= 0.1\n",
      "            p10     ndcg5       mrr        ap    recall\n",
      "C=0.1  0.145833  0.158025  0.005068  0.111363  0.663758\n",
      "Stats for c= 0.3\n",
      "            p10     ndcg5       mrr        ap    recall\n",
      "C=0.3  0.147917  0.140698  0.005068  0.110669  0.677733\n",
      "Stats for c= 0.5\n",
      "            p10     ndcg5       mrr        ap    recall\n",
      "C=0.5  0.133333  0.134285  0.005068  0.095339  0.679572\n",
      "Stats for c= 0.7\n",
      "            p10    ndcg5       mrr        ap    recall\n",
      "C=0.7  0.141667  0.15992  0.005068  0.108359  0.672437\n",
      "Stats for c= 0.9\n",
      "          p10     ndcg5       mrr        ap    recall\n",
      "C=0.9  0.1375  0.134021  0.005068  0.103732  0.664615\n"
     ]
    }
   ],
   "source": [
    "final_stats=pd.DataFrame()\n",
    "for c in [0.1,0.3,0.5,0.7,0.9]:\n",
    "    kf = KFold(4, shuffle=True, random_state=23)\n",
    "    stats=np.zeros((1,5))\n",
    "    for id_train,id_valid in kf.split(ids_training_cases,ids_training_cases):\n",
    "        temp=[]\n",
    "        training_set={}\n",
    "        validation_set={}\n",
    "        for id in id_train:\n",
    "            temp=list(cases_training.keys())\n",
    "            training_set[temp[id]] = cases_training[temp[id]]\n",
    "        for id in id_valid:\n",
    "            id=int(id)\n",
    "            validation_set[temp[id]] = cases_training[temp[id]]\n",
    "        # print(\"zaczął tworzyć x\")\n",
    "        matrix_x=matrix_x_creation(training_set)\n",
    "        # print(\"zaczął tworzyć y\")\n",
    "        matrix_y,binary=matrix_y_def()\n",
    "        matrix_x=matrix_x_norm()\n",
    "        coef=log_regr_train(c,\"c\",binary,matrix_y)\n",
    "        # print(\"Stats\")\n",
    "        temp,records=calc_scores_with_coef(coef,validation_set,[0.10,0.25,0.25,0.15],c)\n",
    "        stats+=temp\n",
    "        # print(c)\n",
    "        # print(temp)\n",
    "        # print(\"_____________\")\n",
    "    print(\"Stats for c=\",c)\n",
    "    stats=stats/4\n",
    "    final_stats=pd.concat([final_stats,stats])\n",
    "    print(stats)\n",
    "pickle.dump(final_stats,open(\"data/letor_c\",\"wb\")) \n"
   ]
  },
  {
   "cell_type": "code",
   "execution_count": 21,
   "metadata": {},
   "outputs": [
    {
     "data": {
      "text/html": [
       "<div>\n",
       "<style scoped>\n",
       "    .dataframe tbody tr th:only-of-type {\n",
       "        vertical-align: middle;\n",
       "    }\n",
       "\n",
       "    .dataframe tbody tr th {\n",
       "        vertical-align: top;\n",
       "    }\n",
       "\n",
       "    .dataframe thead th {\n",
       "        text-align: right;\n",
       "    }\n",
       "</style>\n",
       "<table border=\"1\" class=\"dataframe\">\n",
       "  <thead>\n",
       "    <tr style=\"text-align: right;\">\n",
       "      <th></th>\n",
       "      <th>p10</th>\n",
       "      <th>ndcg5</th>\n",
       "      <th>mrr</th>\n",
       "      <th>ap</th>\n",
       "      <th>recall</th>\n",
       "    </tr>\n",
       "  </thead>\n",
       "  <tbody>\n",
       "    <tr>\n",
       "      <th>C=0.1</th>\n",
       "      <td>0.145833</td>\n",
       "      <td>0.158025</td>\n",
       "      <td>0.005068</td>\n",
       "      <td>0.111363</td>\n",
       "      <td>0.663758</td>\n",
       "    </tr>\n",
       "    <tr>\n",
       "      <th>C=0.3</th>\n",
       "      <td>0.147917</td>\n",
       "      <td>0.140698</td>\n",
       "      <td>0.005068</td>\n",
       "      <td>0.110669</td>\n",
       "      <td>0.677733</td>\n",
       "    </tr>\n",
       "    <tr>\n",
       "      <th>C=0.5</th>\n",
       "      <td>0.133333</td>\n",
       "      <td>0.134285</td>\n",
       "      <td>0.005068</td>\n",
       "      <td>0.095339</td>\n",
       "      <td>0.679572</td>\n",
       "    </tr>\n",
       "    <tr>\n",
       "      <th>C=0.7</th>\n",
       "      <td>0.141667</td>\n",
       "      <td>0.159920</td>\n",
       "      <td>0.005068</td>\n",
       "      <td>0.108359</td>\n",
       "      <td>0.672437</td>\n",
       "    </tr>\n",
       "    <tr>\n",
       "      <th>C=0.9</th>\n",
       "      <td>0.137500</td>\n",
       "      <td>0.134021</td>\n",
       "      <td>0.005068</td>\n",
       "      <td>0.103732</td>\n",
       "      <td>0.664615</td>\n",
       "    </tr>\n",
       "  </tbody>\n",
       "</table>\n",
       "</div>"
      ],
      "text/plain": [
       "            p10     ndcg5       mrr        ap    recall\n",
       "C=0.1  0.145833  0.158025  0.005068  0.111363  0.663758\n",
       "C=0.3  0.147917  0.140698  0.005068  0.110669  0.677733\n",
       "C=0.5  0.133333  0.134285  0.005068  0.095339  0.679572\n",
       "C=0.7  0.141667  0.159920  0.005068  0.108359  0.672437\n",
       "C=0.9  0.137500  0.134021  0.005068  0.103732  0.664615"
      ]
     },
     "execution_count": 21,
     "metadata": {},
     "output_type": "execute_result"
    }
   ],
   "source": [
    "final_stats"
   ]
  },
  {
   "cell_type": "markdown",
   "metadata": {},
   "source": [
    "# Evaluation of model a"
   ]
  },
  {
   "cell_type": "code",
   "execution_count": 142,
   "metadata": {},
   "outputs": [
    {
     "name": "stdout",
     "output_type": "stream",
     "text": [
      "[[-0.00548344  0.01690746  0.03142435  0.03545309  0.01936886  0.03388526\n",
      "   0.03758225  0.0252886 ]]\n"
     ]
    }
   ],
   "source": [
    "\n",
    "matrix_x=matrix_x_creation(cases_test)\n",
    "matrix_x=matrix_x_norm()\n",
    "matrix_x=pickle.load(open(\"data/matrix_x.bin\",\"rb\"))\n",
    "matrix_y,binary=matrix_y_def()\n",
    "coef=log_regr_train(0.1,\"a\",binary,matrix_y)\n",
    "print(coef)\n",
    "stats,records=temp=calc_scores_with_coef(coef,cases_test,[0.10,0.25,0.25,0.15],0.7)\n",
    "pickle.dump(stats,open(\"data/letor_a_test_stats\",\"wb\")) \n",
    "pickle.dump(records,open(\"data/letor_a_test_records\",\"wb\")) "
   ]
  },
  {
   "cell_type": "code",
   "execution_count": 134,
   "metadata": {},
   "outputs": [],
   "source": [
    "records_comparison=pd.DataFrame()\n",
    "records=pickle.load(open(\"data/letor_a_test_records\",\"rb\"))\n",
    "records = pd.DataFrame.from_records(records, columns=[\"Model\", \"precision_11\", \"recall_11\"])\n",
    "records[\"Model\"]=\"LETOR_A_C=0.7\"\n",
    "stats=pickle.load(open(\"data/letor_a_test_stats\",\"rb\"))\n",
    "stats\n",
    "records_comparison=pd.concat([records_comparison,records])"
   ]
  },
  {
   "cell_type": "code",
   "execution_count": 127,
   "metadata": {},
   "outputs": [
    {
     "data": {
      "text/html": [
       "<div>\n",
       "<style scoped>\n",
       "    .dataframe tbody tr th:only-of-type {\n",
       "        vertical-align: middle;\n",
       "    }\n",
       "\n",
       "    .dataframe tbody tr th {\n",
       "        vertical-align: top;\n",
       "    }\n",
       "\n",
       "    .dataframe thead th {\n",
       "        text-align: right;\n",
       "    }\n",
       "</style>\n",
       "<table border=\"1\" class=\"dataframe\">\n",
       "  <thead>\n",
       "    <tr style=\"text-align: right;\">\n",
       "      <th></th>\n",
       "      <th>p10</th>\n",
       "      <th>ndcg5</th>\n",
       "      <th>mrr</th>\n",
       "      <th>ap</th>\n",
       "      <th>recall</th>\n",
       "    </tr>\n",
       "  </thead>\n",
       "  <tbody>\n",
       "    <tr>\n",
       "      <th>C=0.7</th>\n",
       "      <td>0.1</td>\n",
       "      <td>0.143132</td>\n",
       "      <td>0.005148</td>\n",
       "      <td>0.077377</td>\n",
       "      <td>0.653355</td>\n",
       "    </tr>\n",
       "  </tbody>\n",
       "</table>\n",
       "</div>"
      ],
      "text/plain": [
       "       p10     ndcg5       mrr        ap    recall\n",
       "C=0.7  0.1  0.143132  0.005148  0.077377  0.653355"
      ]
     },
     "execution_count": 127,
     "metadata": {},
     "output_type": "execute_result"
    }
   ],
   "source": [
    "stats"
   ]
  },
  {
   "cell_type": "code",
   "execution_count": 100,
   "metadata": {},
   "outputs": [
    {
     "data": {
      "application/vnd.plotly.v1+json": {
       "config": {
        "plotlyServerURL": "https://plot.ly"
       },
       "data": [
        {
         "hovertemplate": "Model=LETOR_A_C=0.7<br>recall_11=%{x}<br>precision_11=%{y}<extra></extra>",
         "legendgroup": "LETOR_A_C=0.7",
         "line": {
          "color": "#636efa",
          "dash": "solid"
         },
         "marker": {
          "symbol": "circle"
         },
         "mode": "lines",
         "name": "LETOR_A_C=0.7",
         "orientation": "v",
         "showlegend": true,
         "type": "scatter",
         "x": [
          0,
          0.1,
          0.2,
          0.3,
          0.4,
          0.5,
          0.6,
          0.7,
          0.8,
          0.9,
          1
         ],
         "xaxis": "x",
         "y": [
          0.361345832820639,
          0.3173552793748669,
          0.15796511423732826,
          0.06762329794991602,
          0.05765589111167633,
          0.048627504285032576,
          0.03817520212361637,
          0.02969865820502432,
          0.022571423414333058,
          0.016697459686322795,
          0.009173059009351713
         ],
         "yaxis": "y"
        }
       ],
       "layout": {
        "legend": {
         "title": {
          "text": "Model"
         },
         "tracegroupgap": 0
        },
        "margin": {
         "t": 60
        },
        "template": {
         "data": {
          "bar": [
           {
            "error_x": {
             "color": "#2a3f5f"
            },
            "error_y": {
             "color": "#2a3f5f"
            },
            "marker": {
             "line": {
              "color": "#E5ECF6",
              "width": 0.5
             },
             "pattern": {
              "fillmode": "overlay",
              "size": 10,
              "solidity": 0.2
             }
            },
            "type": "bar"
           }
          ],
          "barpolar": [
           {
            "marker": {
             "line": {
              "color": "#E5ECF6",
              "width": 0.5
             },
             "pattern": {
              "fillmode": "overlay",
              "size": 10,
              "solidity": 0.2
             }
            },
            "type": "barpolar"
           }
          ],
          "carpet": [
           {
            "aaxis": {
             "endlinecolor": "#2a3f5f",
             "gridcolor": "white",
             "linecolor": "white",
             "minorgridcolor": "white",
             "startlinecolor": "#2a3f5f"
            },
            "baxis": {
             "endlinecolor": "#2a3f5f",
             "gridcolor": "white",
             "linecolor": "white",
             "minorgridcolor": "white",
             "startlinecolor": "#2a3f5f"
            },
            "type": "carpet"
           }
          ],
          "choropleth": [
           {
            "colorbar": {
             "outlinewidth": 0,
             "ticks": ""
            },
            "type": "choropleth"
           }
          ],
          "contour": [
           {
            "colorbar": {
             "outlinewidth": 0,
             "ticks": ""
            },
            "colorscale": [
             [
              0,
              "#0d0887"
             ],
             [
              0.1111111111111111,
              "#46039f"
             ],
             [
              0.2222222222222222,
              "#7201a8"
             ],
             [
              0.3333333333333333,
              "#9c179e"
             ],
             [
              0.4444444444444444,
              "#bd3786"
             ],
             [
              0.5555555555555556,
              "#d8576b"
             ],
             [
              0.6666666666666666,
              "#ed7953"
             ],
             [
              0.7777777777777778,
              "#fb9f3a"
             ],
             [
              0.8888888888888888,
              "#fdca26"
             ],
             [
              1,
              "#f0f921"
             ]
            ],
            "type": "contour"
           }
          ],
          "contourcarpet": [
           {
            "colorbar": {
             "outlinewidth": 0,
             "ticks": ""
            },
            "type": "contourcarpet"
           }
          ],
          "heatmap": [
           {
            "colorbar": {
             "outlinewidth": 0,
             "ticks": ""
            },
            "colorscale": [
             [
              0,
              "#0d0887"
             ],
             [
              0.1111111111111111,
              "#46039f"
             ],
             [
              0.2222222222222222,
              "#7201a8"
             ],
             [
              0.3333333333333333,
              "#9c179e"
             ],
             [
              0.4444444444444444,
              "#bd3786"
             ],
             [
              0.5555555555555556,
              "#d8576b"
             ],
             [
              0.6666666666666666,
              "#ed7953"
             ],
             [
              0.7777777777777778,
              "#fb9f3a"
             ],
             [
              0.8888888888888888,
              "#fdca26"
             ],
             [
              1,
              "#f0f921"
             ]
            ],
            "type": "heatmap"
           }
          ],
          "heatmapgl": [
           {
            "colorbar": {
             "outlinewidth": 0,
             "ticks": ""
            },
            "colorscale": [
             [
              0,
              "#0d0887"
             ],
             [
              0.1111111111111111,
              "#46039f"
             ],
             [
              0.2222222222222222,
              "#7201a8"
             ],
             [
              0.3333333333333333,
              "#9c179e"
             ],
             [
              0.4444444444444444,
              "#bd3786"
             ],
             [
              0.5555555555555556,
              "#d8576b"
             ],
             [
              0.6666666666666666,
              "#ed7953"
             ],
             [
              0.7777777777777778,
              "#fb9f3a"
             ],
             [
              0.8888888888888888,
              "#fdca26"
             ],
             [
              1,
              "#f0f921"
             ]
            ],
            "type": "heatmapgl"
           }
          ],
          "histogram": [
           {
            "marker": {
             "pattern": {
              "fillmode": "overlay",
              "size": 10,
              "solidity": 0.2
             }
            },
            "type": "histogram"
           }
          ],
          "histogram2d": [
           {
            "colorbar": {
             "outlinewidth": 0,
             "ticks": ""
            },
            "colorscale": [
             [
              0,
              "#0d0887"
             ],
             [
              0.1111111111111111,
              "#46039f"
             ],
             [
              0.2222222222222222,
              "#7201a8"
             ],
             [
              0.3333333333333333,
              "#9c179e"
             ],
             [
              0.4444444444444444,
              "#bd3786"
             ],
             [
              0.5555555555555556,
              "#d8576b"
             ],
             [
              0.6666666666666666,
              "#ed7953"
             ],
             [
              0.7777777777777778,
              "#fb9f3a"
             ],
             [
              0.8888888888888888,
              "#fdca26"
             ],
             [
              1,
              "#f0f921"
             ]
            ],
            "type": "histogram2d"
           }
          ],
          "histogram2dcontour": [
           {
            "colorbar": {
             "outlinewidth": 0,
             "ticks": ""
            },
            "colorscale": [
             [
              0,
              "#0d0887"
             ],
             [
              0.1111111111111111,
              "#46039f"
             ],
             [
              0.2222222222222222,
              "#7201a8"
             ],
             [
              0.3333333333333333,
              "#9c179e"
             ],
             [
              0.4444444444444444,
              "#bd3786"
             ],
             [
              0.5555555555555556,
              "#d8576b"
             ],
             [
              0.6666666666666666,
              "#ed7953"
             ],
             [
              0.7777777777777778,
              "#fb9f3a"
             ],
             [
              0.8888888888888888,
              "#fdca26"
             ],
             [
              1,
              "#f0f921"
             ]
            ],
            "type": "histogram2dcontour"
           }
          ],
          "mesh3d": [
           {
            "colorbar": {
             "outlinewidth": 0,
             "ticks": ""
            },
            "type": "mesh3d"
           }
          ],
          "parcoords": [
           {
            "line": {
             "colorbar": {
              "outlinewidth": 0,
              "ticks": ""
             }
            },
            "type": "parcoords"
           }
          ],
          "pie": [
           {
            "automargin": true,
            "type": "pie"
           }
          ],
          "scatter": [
           {
            "fillpattern": {
             "fillmode": "overlay",
             "size": 10,
             "solidity": 0.2
            },
            "type": "scatter"
           }
          ],
          "scatter3d": [
           {
            "line": {
             "colorbar": {
              "outlinewidth": 0,
              "ticks": ""
             }
            },
            "marker": {
             "colorbar": {
              "outlinewidth": 0,
              "ticks": ""
             }
            },
            "type": "scatter3d"
           }
          ],
          "scattercarpet": [
           {
            "marker": {
             "colorbar": {
              "outlinewidth": 0,
              "ticks": ""
             }
            },
            "type": "scattercarpet"
           }
          ],
          "scattergeo": [
           {
            "marker": {
             "colorbar": {
              "outlinewidth": 0,
              "ticks": ""
             }
            },
            "type": "scattergeo"
           }
          ],
          "scattergl": [
           {
            "marker": {
             "colorbar": {
              "outlinewidth": 0,
              "ticks": ""
             }
            },
            "type": "scattergl"
           }
          ],
          "scattermapbox": [
           {
            "marker": {
             "colorbar": {
              "outlinewidth": 0,
              "ticks": ""
             }
            },
            "type": "scattermapbox"
           }
          ],
          "scatterpolar": [
           {
            "marker": {
             "colorbar": {
              "outlinewidth": 0,
              "ticks": ""
             }
            },
            "type": "scatterpolar"
           }
          ],
          "scatterpolargl": [
           {
            "marker": {
             "colorbar": {
              "outlinewidth": 0,
              "ticks": ""
             }
            },
            "type": "scatterpolargl"
           }
          ],
          "scatterternary": [
           {
            "marker": {
             "colorbar": {
              "outlinewidth": 0,
              "ticks": ""
             }
            },
            "type": "scatterternary"
           }
          ],
          "surface": [
           {
            "colorbar": {
             "outlinewidth": 0,
             "ticks": ""
            },
            "colorscale": [
             [
              0,
              "#0d0887"
             ],
             [
              0.1111111111111111,
              "#46039f"
             ],
             [
              0.2222222222222222,
              "#7201a8"
             ],
             [
              0.3333333333333333,
              "#9c179e"
             ],
             [
              0.4444444444444444,
              "#bd3786"
             ],
             [
              0.5555555555555556,
              "#d8576b"
             ],
             [
              0.6666666666666666,
              "#ed7953"
             ],
             [
              0.7777777777777778,
              "#fb9f3a"
             ],
             [
              0.8888888888888888,
              "#fdca26"
             ],
             [
              1,
              "#f0f921"
             ]
            ],
            "type": "surface"
           }
          ],
          "table": [
           {
            "cells": {
             "fill": {
              "color": "#EBF0F8"
             },
             "line": {
              "color": "white"
             }
            },
            "header": {
             "fill": {
              "color": "#C8D4E3"
             },
             "line": {
              "color": "white"
             }
            },
            "type": "table"
           }
          ]
         },
         "layout": {
          "annotationdefaults": {
           "arrowcolor": "#2a3f5f",
           "arrowhead": 0,
           "arrowwidth": 1
          },
          "autotypenumbers": "strict",
          "coloraxis": {
           "colorbar": {
            "outlinewidth": 0,
            "ticks": ""
           }
          },
          "colorscale": {
           "diverging": [
            [
             0,
             "#8e0152"
            ],
            [
             0.1,
             "#c51b7d"
            ],
            [
             0.2,
             "#de77ae"
            ],
            [
             0.3,
             "#f1b6da"
            ],
            [
             0.4,
             "#fde0ef"
            ],
            [
             0.5,
             "#f7f7f7"
            ],
            [
             0.6,
             "#e6f5d0"
            ],
            [
             0.7,
             "#b8e186"
            ],
            [
             0.8,
             "#7fbc41"
            ],
            [
             0.9,
             "#4d9221"
            ],
            [
             1,
             "#276419"
            ]
           ],
           "sequential": [
            [
             0,
             "#0d0887"
            ],
            [
             0.1111111111111111,
             "#46039f"
            ],
            [
             0.2222222222222222,
             "#7201a8"
            ],
            [
             0.3333333333333333,
             "#9c179e"
            ],
            [
             0.4444444444444444,
             "#bd3786"
            ],
            [
             0.5555555555555556,
             "#d8576b"
            ],
            [
             0.6666666666666666,
             "#ed7953"
            ],
            [
             0.7777777777777778,
             "#fb9f3a"
            ],
            [
             0.8888888888888888,
             "#fdca26"
            ],
            [
             1,
             "#f0f921"
            ]
           ],
           "sequentialminus": [
            [
             0,
             "#0d0887"
            ],
            [
             0.1111111111111111,
             "#46039f"
            ],
            [
             0.2222222222222222,
             "#7201a8"
            ],
            [
             0.3333333333333333,
             "#9c179e"
            ],
            [
             0.4444444444444444,
             "#bd3786"
            ],
            [
             0.5555555555555556,
             "#d8576b"
            ],
            [
             0.6666666666666666,
             "#ed7953"
            ],
            [
             0.7777777777777778,
             "#fb9f3a"
            ],
            [
             0.8888888888888888,
             "#fdca26"
            ],
            [
             1,
             "#f0f921"
            ]
           ]
          },
          "colorway": [
           "#636efa",
           "#EF553B",
           "#00cc96",
           "#ab63fa",
           "#FFA15A",
           "#19d3f3",
           "#FF6692",
           "#B6E880",
           "#FF97FF",
           "#FECB52"
          ],
          "font": {
           "color": "#2a3f5f"
          },
          "geo": {
           "bgcolor": "white",
           "lakecolor": "white",
           "landcolor": "#E5ECF6",
           "showlakes": true,
           "showland": true,
           "subunitcolor": "white"
          },
          "hoverlabel": {
           "align": "left"
          },
          "hovermode": "closest",
          "mapbox": {
           "style": "light"
          },
          "paper_bgcolor": "white",
          "plot_bgcolor": "#E5ECF6",
          "polar": {
           "angularaxis": {
            "gridcolor": "white",
            "linecolor": "white",
            "ticks": ""
           },
           "bgcolor": "#E5ECF6",
           "radialaxis": {
            "gridcolor": "white",
            "linecolor": "white",
            "ticks": ""
           }
          },
          "scene": {
           "xaxis": {
            "backgroundcolor": "#E5ECF6",
            "gridcolor": "white",
            "gridwidth": 2,
            "linecolor": "white",
            "showbackground": true,
            "ticks": "",
            "zerolinecolor": "white"
           },
           "yaxis": {
            "backgroundcolor": "#E5ECF6",
            "gridcolor": "white",
            "gridwidth": 2,
            "linecolor": "white",
            "showbackground": true,
            "ticks": "",
            "zerolinecolor": "white"
           },
           "zaxis": {
            "backgroundcolor": "#E5ECF6",
            "gridcolor": "white",
            "gridwidth": 2,
            "linecolor": "white",
            "showbackground": true,
            "ticks": "",
            "zerolinecolor": "white"
           }
          },
          "shapedefaults": {
           "line": {
            "color": "#2a3f5f"
           }
          },
          "ternary": {
           "aaxis": {
            "gridcolor": "white",
            "linecolor": "white",
            "ticks": ""
           },
           "baxis": {
            "gridcolor": "white",
            "linecolor": "white",
            "ticks": ""
           },
           "bgcolor": "#E5ECF6",
           "caxis": {
            "gridcolor": "white",
            "linecolor": "white",
            "ticks": ""
           }
          },
          "title": {
           "x": 0.05
          },
          "xaxis": {
           "automargin": true,
           "gridcolor": "white",
           "linecolor": "white",
           "ticks": "",
           "title": {
            "standoff": 15
           },
           "zerolinecolor": "white",
           "zerolinewidth": 2
          },
          "yaxis": {
           "automargin": true,
           "gridcolor": "white",
           "linecolor": "white",
           "ticks": "",
           "title": {
            "standoff": 15
           },
           "zerolinecolor": "white",
           "zerolinewidth": 2
          }
         }
        },
        "xaxis": {
         "anchor": "y",
         "domain": [
          0,
          1
         ],
         "title": {
          "text": "recall_11"
         }
        },
        "yaxis": {
         "anchor": "x",
         "domain": [
          0,
          1
         ],
         "title": {
          "text": "precision_11"
         }
        }
       }
      }
     },
     "metadata": {},
     "output_type": "display_data"
    }
   ],
   "source": [
    "fig_a = px.line(records, x=\"recall_11\", y=\"precision_11\", color='Model')\n",
    "fig_a.show()"
   ]
  },
  {
   "cell_type": "markdown",
   "metadata": {},
   "source": [
    "# Evaluation of model b"
   ]
  },
  {
   "cell_type": "code",
   "execution_count": 143,
   "metadata": {},
   "outputs": [
    {
     "name": "stdout",
     "output_type": "stream",
     "text": [
      "[[-0.06293774  0.07839942  0.1591309   0.18415634  0.09287889  0.17437395\n",
      "   0.22831373  0.12575199]]\n"
     ]
    }
   ],
   "source": [
    "matrix_x=matrix_x_creation(cases_test)\n",
    "matrix_x=matrix_x_norm()\n",
    "matrix_y,binary=matrix_y_def()\n",
    "coef=log_regr_train(0.5,\"b\",binary,matrix_y)\n",
    "print(coef)\n",
    "stats,records=calc_scores_with_coef(coef,cases_test,[0.10,0.25,0.25,0.15],0.9)\n",
    "pickle.dump(stats,open(\"data/letor_b_test_stats\",\"wb\")) \n",
    "pickle.dump(records,open(\"data/letor_b_test_records\",\"wb\")) "
   ]
  },
  {
   "cell_type": "code",
   "execution_count": 135,
   "metadata": {},
   "outputs": [],
   "source": [
    "records=pickle.load(open(\"data/letor_b_test_records\",\"rb\"))\n",
    "records = pd.DataFrame.from_records(records, columns=[\"Model\", \"precision_11\", \"recall_11\"])\n",
    "records[\"Model\"]=\"LETOR_B_C=0.9\"\n",
    "stats=pickle.load(open(\"data/letor_b_test_stats\",\"rb\"))\n",
    "stats\n",
    "records_comparison=pd.concat([records_comparison,records])"
   ]
  },
  {
   "cell_type": "code",
   "execution_count": 124,
   "metadata": {},
   "outputs": [
    {
     "data": {
      "text/html": [
       "<div>\n",
       "<style scoped>\n",
       "    .dataframe tbody tr th:only-of-type {\n",
       "        vertical-align: middle;\n",
       "    }\n",
       "\n",
       "    .dataframe tbody tr th {\n",
       "        vertical-align: top;\n",
       "    }\n",
       "\n",
       "    .dataframe thead th {\n",
       "        text-align: right;\n",
       "    }\n",
       "</style>\n",
       "<table border=\"1\" class=\"dataframe\">\n",
       "  <thead>\n",
       "    <tr style=\"text-align: right;\">\n",
       "      <th></th>\n",
       "      <th>p10</th>\n",
       "      <th>ndcg5</th>\n",
       "      <th>mrr</th>\n",
       "      <th>ap</th>\n",
       "      <th>recall</th>\n",
       "    </tr>\n",
       "  </thead>\n",
       "  <tbody>\n",
       "    <tr>\n",
       "      <th>C=0.9</th>\n",
       "      <td>0.1</td>\n",
       "      <td>0.144983</td>\n",
       "      <td>0.005148</td>\n",
       "      <td>0.076859</td>\n",
       "      <td>0.658721</td>\n",
       "    </tr>\n",
       "  </tbody>\n",
       "</table>\n",
       "</div>"
      ],
      "text/plain": [
       "       p10     ndcg5       mrr        ap    recall\n",
       "C=0.9  0.1  0.144983  0.005148  0.076859  0.658721"
      ]
     },
     "execution_count": 124,
     "metadata": {},
     "output_type": "execute_result"
    }
   ],
   "source": [
    "stats"
   ]
  },
  {
   "cell_type": "code",
   "execution_count": 102,
   "metadata": {},
   "outputs": [
    {
     "data": {
      "application/vnd.plotly.v1+json": {
       "config": {
        "plotlyServerURL": "https://plot.ly"
       },
       "data": [
        {
         "hovertemplate": "Model=LETOR_B_C=0.9<br>recall_11=%{x}<br>precision_11=%{y}<extra></extra>",
         "legendgroup": "LETOR_B_C=0.9",
         "line": {
          "color": "#636efa",
          "dash": "solid"
         },
         "marker": {
          "symbol": "circle"
         },
         "mode": "lines",
         "name": "LETOR_B_C=0.9",
         "orientation": "v",
         "showlegend": true,
         "type": "scatter",
         "x": [
          0,
          0.1,
          0.2,
          0.3,
          0.4,
          0.5,
          0.6,
          0.7,
          0.8,
          0.9,
          1
         ],
         "xaxis": "x",
         "y": [
          0.3729308390022676,
          0.3156399365478608,
          0.15610406448101513,
          0.06744011407375226,
          0.056981214112057525,
          0.04739925569310632,
          0.03776795841510975,
          0.029927657337257368,
          0.022236759954656297,
          0.016569430592182785,
          0.009127167042048127
         ],
         "yaxis": "y"
        }
       ],
       "layout": {
        "legend": {
         "title": {
          "text": "Model"
         },
         "tracegroupgap": 0
        },
        "margin": {
         "t": 60
        },
        "template": {
         "data": {
          "bar": [
           {
            "error_x": {
             "color": "#2a3f5f"
            },
            "error_y": {
             "color": "#2a3f5f"
            },
            "marker": {
             "line": {
              "color": "#E5ECF6",
              "width": 0.5
             },
             "pattern": {
              "fillmode": "overlay",
              "size": 10,
              "solidity": 0.2
             }
            },
            "type": "bar"
           }
          ],
          "barpolar": [
           {
            "marker": {
             "line": {
              "color": "#E5ECF6",
              "width": 0.5
             },
             "pattern": {
              "fillmode": "overlay",
              "size": 10,
              "solidity": 0.2
             }
            },
            "type": "barpolar"
           }
          ],
          "carpet": [
           {
            "aaxis": {
             "endlinecolor": "#2a3f5f",
             "gridcolor": "white",
             "linecolor": "white",
             "minorgridcolor": "white",
             "startlinecolor": "#2a3f5f"
            },
            "baxis": {
             "endlinecolor": "#2a3f5f",
             "gridcolor": "white",
             "linecolor": "white",
             "minorgridcolor": "white",
             "startlinecolor": "#2a3f5f"
            },
            "type": "carpet"
           }
          ],
          "choropleth": [
           {
            "colorbar": {
             "outlinewidth": 0,
             "ticks": ""
            },
            "type": "choropleth"
           }
          ],
          "contour": [
           {
            "colorbar": {
             "outlinewidth": 0,
             "ticks": ""
            },
            "colorscale": [
             [
              0,
              "#0d0887"
             ],
             [
              0.1111111111111111,
              "#46039f"
             ],
             [
              0.2222222222222222,
              "#7201a8"
             ],
             [
              0.3333333333333333,
              "#9c179e"
             ],
             [
              0.4444444444444444,
              "#bd3786"
             ],
             [
              0.5555555555555556,
              "#d8576b"
             ],
             [
              0.6666666666666666,
              "#ed7953"
             ],
             [
              0.7777777777777778,
              "#fb9f3a"
             ],
             [
              0.8888888888888888,
              "#fdca26"
             ],
             [
              1,
              "#f0f921"
             ]
            ],
            "type": "contour"
           }
          ],
          "contourcarpet": [
           {
            "colorbar": {
             "outlinewidth": 0,
             "ticks": ""
            },
            "type": "contourcarpet"
           }
          ],
          "heatmap": [
           {
            "colorbar": {
             "outlinewidth": 0,
             "ticks": ""
            },
            "colorscale": [
             [
              0,
              "#0d0887"
             ],
             [
              0.1111111111111111,
              "#46039f"
             ],
             [
              0.2222222222222222,
              "#7201a8"
             ],
             [
              0.3333333333333333,
              "#9c179e"
             ],
             [
              0.4444444444444444,
              "#bd3786"
             ],
             [
              0.5555555555555556,
              "#d8576b"
             ],
             [
              0.6666666666666666,
              "#ed7953"
             ],
             [
              0.7777777777777778,
              "#fb9f3a"
             ],
             [
              0.8888888888888888,
              "#fdca26"
             ],
             [
              1,
              "#f0f921"
             ]
            ],
            "type": "heatmap"
           }
          ],
          "heatmapgl": [
           {
            "colorbar": {
             "outlinewidth": 0,
             "ticks": ""
            },
            "colorscale": [
             [
              0,
              "#0d0887"
             ],
             [
              0.1111111111111111,
              "#46039f"
             ],
             [
              0.2222222222222222,
              "#7201a8"
             ],
             [
              0.3333333333333333,
              "#9c179e"
             ],
             [
              0.4444444444444444,
              "#bd3786"
             ],
             [
              0.5555555555555556,
              "#d8576b"
             ],
             [
              0.6666666666666666,
              "#ed7953"
             ],
             [
              0.7777777777777778,
              "#fb9f3a"
             ],
             [
              0.8888888888888888,
              "#fdca26"
             ],
             [
              1,
              "#f0f921"
             ]
            ],
            "type": "heatmapgl"
           }
          ],
          "histogram": [
           {
            "marker": {
             "pattern": {
              "fillmode": "overlay",
              "size": 10,
              "solidity": 0.2
             }
            },
            "type": "histogram"
           }
          ],
          "histogram2d": [
           {
            "colorbar": {
             "outlinewidth": 0,
             "ticks": ""
            },
            "colorscale": [
             [
              0,
              "#0d0887"
             ],
             [
              0.1111111111111111,
              "#46039f"
             ],
             [
              0.2222222222222222,
              "#7201a8"
             ],
             [
              0.3333333333333333,
              "#9c179e"
             ],
             [
              0.4444444444444444,
              "#bd3786"
             ],
             [
              0.5555555555555556,
              "#d8576b"
             ],
             [
              0.6666666666666666,
              "#ed7953"
             ],
             [
              0.7777777777777778,
              "#fb9f3a"
             ],
             [
              0.8888888888888888,
              "#fdca26"
             ],
             [
              1,
              "#f0f921"
             ]
            ],
            "type": "histogram2d"
           }
          ],
          "histogram2dcontour": [
           {
            "colorbar": {
             "outlinewidth": 0,
             "ticks": ""
            },
            "colorscale": [
             [
              0,
              "#0d0887"
             ],
             [
              0.1111111111111111,
              "#46039f"
             ],
             [
              0.2222222222222222,
              "#7201a8"
             ],
             [
              0.3333333333333333,
              "#9c179e"
             ],
             [
              0.4444444444444444,
              "#bd3786"
             ],
             [
              0.5555555555555556,
              "#d8576b"
             ],
             [
              0.6666666666666666,
              "#ed7953"
             ],
             [
              0.7777777777777778,
              "#fb9f3a"
             ],
             [
              0.8888888888888888,
              "#fdca26"
             ],
             [
              1,
              "#f0f921"
             ]
            ],
            "type": "histogram2dcontour"
           }
          ],
          "mesh3d": [
           {
            "colorbar": {
             "outlinewidth": 0,
             "ticks": ""
            },
            "type": "mesh3d"
           }
          ],
          "parcoords": [
           {
            "line": {
             "colorbar": {
              "outlinewidth": 0,
              "ticks": ""
             }
            },
            "type": "parcoords"
           }
          ],
          "pie": [
           {
            "automargin": true,
            "type": "pie"
           }
          ],
          "scatter": [
           {
            "fillpattern": {
             "fillmode": "overlay",
             "size": 10,
             "solidity": 0.2
            },
            "type": "scatter"
           }
          ],
          "scatter3d": [
           {
            "line": {
             "colorbar": {
              "outlinewidth": 0,
              "ticks": ""
             }
            },
            "marker": {
             "colorbar": {
              "outlinewidth": 0,
              "ticks": ""
             }
            },
            "type": "scatter3d"
           }
          ],
          "scattercarpet": [
           {
            "marker": {
             "colorbar": {
              "outlinewidth": 0,
              "ticks": ""
             }
            },
            "type": "scattercarpet"
           }
          ],
          "scattergeo": [
           {
            "marker": {
             "colorbar": {
              "outlinewidth": 0,
              "ticks": ""
             }
            },
            "type": "scattergeo"
           }
          ],
          "scattergl": [
           {
            "marker": {
             "colorbar": {
              "outlinewidth": 0,
              "ticks": ""
             }
            },
            "type": "scattergl"
           }
          ],
          "scattermapbox": [
           {
            "marker": {
             "colorbar": {
              "outlinewidth": 0,
              "ticks": ""
             }
            },
            "type": "scattermapbox"
           }
          ],
          "scatterpolar": [
           {
            "marker": {
             "colorbar": {
              "outlinewidth": 0,
              "ticks": ""
             }
            },
            "type": "scatterpolar"
           }
          ],
          "scatterpolargl": [
           {
            "marker": {
             "colorbar": {
              "outlinewidth": 0,
              "ticks": ""
             }
            },
            "type": "scatterpolargl"
           }
          ],
          "scatterternary": [
           {
            "marker": {
             "colorbar": {
              "outlinewidth": 0,
              "ticks": ""
             }
            },
            "type": "scatterternary"
           }
          ],
          "surface": [
           {
            "colorbar": {
             "outlinewidth": 0,
             "ticks": ""
            },
            "colorscale": [
             [
              0,
              "#0d0887"
             ],
             [
              0.1111111111111111,
              "#46039f"
             ],
             [
              0.2222222222222222,
              "#7201a8"
             ],
             [
              0.3333333333333333,
              "#9c179e"
             ],
             [
              0.4444444444444444,
              "#bd3786"
             ],
             [
              0.5555555555555556,
              "#d8576b"
             ],
             [
              0.6666666666666666,
              "#ed7953"
             ],
             [
              0.7777777777777778,
              "#fb9f3a"
             ],
             [
              0.8888888888888888,
              "#fdca26"
             ],
             [
              1,
              "#f0f921"
             ]
            ],
            "type": "surface"
           }
          ],
          "table": [
           {
            "cells": {
             "fill": {
              "color": "#EBF0F8"
             },
             "line": {
              "color": "white"
             }
            },
            "header": {
             "fill": {
              "color": "#C8D4E3"
             },
             "line": {
              "color": "white"
             }
            },
            "type": "table"
           }
          ]
         },
         "layout": {
          "annotationdefaults": {
           "arrowcolor": "#2a3f5f",
           "arrowhead": 0,
           "arrowwidth": 1
          },
          "autotypenumbers": "strict",
          "coloraxis": {
           "colorbar": {
            "outlinewidth": 0,
            "ticks": ""
           }
          },
          "colorscale": {
           "diverging": [
            [
             0,
             "#8e0152"
            ],
            [
             0.1,
             "#c51b7d"
            ],
            [
             0.2,
             "#de77ae"
            ],
            [
             0.3,
             "#f1b6da"
            ],
            [
             0.4,
             "#fde0ef"
            ],
            [
             0.5,
             "#f7f7f7"
            ],
            [
             0.6,
             "#e6f5d0"
            ],
            [
             0.7,
             "#b8e186"
            ],
            [
             0.8,
             "#7fbc41"
            ],
            [
             0.9,
             "#4d9221"
            ],
            [
             1,
             "#276419"
            ]
           ],
           "sequential": [
            [
             0,
             "#0d0887"
            ],
            [
             0.1111111111111111,
             "#46039f"
            ],
            [
             0.2222222222222222,
             "#7201a8"
            ],
            [
             0.3333333333333333,
             "#9c179e"
            ],
            [
             0.4444444444444444,
             "#bd3786"
            ],
            [
             0.5555555555555556,
             "#d8576b"
            ],
            [
             0.6666666666666666,
             "#ed7953"
            ],
            [
             0.7777777777777778,
             "#fb9f3a"
            ],
            [
             0.8888888888888888,
             "#fdca26"
            ],
            [
             1,
             "#f0f921"
            ]
           ],
           "sequentialminus": [
            [
             0,
             "#0d0887"
            ],
            [
             0.1111111111111111,
             "#46039f"
            ],
            [
             0.2222222222222222,
             "#7201a8"
            ],
            [
             0.3333333333333333,
             "#9c179e"
            ],
            [
             0.4444444444444444,
             "#bd3786"
            ],
            [
             0.5555555555555556,
             "#d8576b"
            ],
            [
             0.6666666666666666,
             "#ed7953"
            ],
            [
             0.7777777777777778,
             "#fb9f3a"
            ],
            [
             0.8888888888888888,
             "#fdca26"
            ],
            [
             1,
             "#f0f921"
            ]
           ]
          },
          "colorway": [
           "#636efa",
           "#EF553B",
           "#00cc96",
           "#ab63fa",
           "#FFA15A",
           "#19d3f3",
           "#FF6692",
           "#B6E880",
           "#FF97FF",
           "#FECB52"
          ],
          "font": {
           "color": "#2a3f5f"
          },
          "geo": {
           "bgcolor": "white",
           "lakecolor": "white",
           "landcolor": "#E5ECF6",
           "showlakes": true,
           "showland": true,
           "subunitcolor": "white"
          },
          "hoverlabel": {
           "align": "left"
          },
          "hovermode": "closest",
          "mapbox": {
           "style": "light"
          },
          "paper_bgcolor": "white",
          "plot_bgcolor": "#E5ECF6",
          "polar": {
           "angularaxis": {
            "gridcolor": "white",
            "linecolor": "white",
            "ticks": ""
           },
           "bgcolor": "#E5ECF6",
           "radialaxis": {
            "gridcolor": "white",
            "linecolor": "white",
            "ticks": ""
           }
          },
          "scene": {
           "xaxis": {
            "backgroundcolor": "#E5ECF6",
            "gridcolor": "white",
            "gridwidth": 2,
            "linecolor": "white",
            "showbackground": true,
            "ticks": "",
            "zerolinecolor": "white"
           },
           "yaxis": {
            "backgroundcolor": "#E5ECF6",
            "gridcolor": "white",
            "gridwidth": 2,
            "linecolor": "white",
            "showbackground": true,
            "ticks": "",
            "zerolinecolor": "white"
           },
           "zaxis": {
            "backgroundcolor": "#E5ECF6",
            "gridcolor": "white",
            "gridwidth": 2,
            "linecolor": "white",
            "showbackground": true,
            "ticks": "",
            "zerolinecolor": "white"
           }
          },
          "shapedefaults": {
           "line": {
            "color": "#2a3f5f"
           }
          },
          "ternary": {
           "aaxis": {
            "gridcolor": "white",
            "linecolor": "white",
            "ticks": ""
           },
           "baxis": {
            "gridcolor": "white",
            "linecolor": "white",
            "ticks": ""
           },
           "bgcolor": "#E5ECF6",
           "caxis": {
            "gridcolor": "white",
            "linecolor": "white",
            "ticks": ""
           }
          },
          "title": {
           "x": 0.05
          },
          "xaxis": {
           "automargin": true,
           "gridcolor": "white",
           "linecolor": "white",
           "ticks": "",
           "title": {
            "standoff": 15
           },
           "zerolinecolor": "white",
           "zerolinewidth": 2
          },
          "yaxis": {
           "automargin": true,
           "gridcolor": "white",
           "linecolor": "white",
           "ticks": "",
           "title": {
            "standoff": 15
           },
           "zerolinecolor": "white",
           "zerolinewidth": 2
          }
         }
        },
        "xaxis": {
         "anchor": "y",
         "domain": [
          0,
          1
         ],
         "title": {
          "text": "recall_11"
         }
        },
        "yaxis": {
         "anchor": "x",
         "domain": [
          0,
          1
         ],
         "title": {
          "text": "precision_11"
         }
        }
       }
      }
     },
     "metadata": {},
     "output_type": "display_data"
    }
   ],
   "source": [
    "fig_b = px.line(records, x=\"recall_11\", y=\"precision_11\", color='Model')\n",
    "fig_b.show()"
   ]
  },
  {
   "cell_type": "markdown",
   "metadata": {},
   "source": [
    "# Evaluation of model c"
   ]
  },
  {
   "cell_type": "code",
   "execution_count": 144,
   "metadata": {},
   "outputs": [
    {
     "name": "stdout",
     "output_type": "stream",
     "text": [
      "[[-2.17325187e-06  6.03064530e-06 -1.91247565e-06  5.45598338e-06\n",
      "  -4.23324184e-06  4.73201108e-06 -4.12486826e-06  5.31556769e-06]]\n"
     ]
    }
   ],
   "source": [
    "matrix_x=matrix_x_creation(cases_test)\n",
    "matrix_x=matrix_x_norm()\n",
    "matrix_y,binary=matrix_y_def()\n",
    "coef=log_regr_train(0.1,\"c\",binary,matrix_y)\n",
    "print(coef)\n",
    "stats,records=calc_scores_with_coef(coef,cases_test,[0.10,0.25,0.25,0.15],0.3)\n",
    "pickle.dump(stats,open(\"data/letor_c_test_stats\",\"wb\")) \n",
    "pickle.dump(records,open(\"data/letor_c_test_records\",\"wb\")) "
   ]
  },
  {
   "cell_type": "code",
   "execution_count": 136,
   "metadata": {},
   "outputs": [],
   "source": [
    "records=pickle.load(open(\"data/letor_c_test_records\",\"rb\"))\n",
    "records = pd.DataFrame.from_records(records, columns=[\"Model\", \"precision_11\", \"recall_11\"])\n",
    "records[\"Model\"]=\"LETOR_C_C=0.3\"\n",
    "stats=pickle.load(open(\"data/letor_c_test_stats\",\"rb\"))\n",
    "stats\n",
    "records_comparison=pd.concat([records_comparison,records])"
   ]
  },
  {
   "cell_type": "code",
   "execution_count": 129,
   "metadata": {},
   "outputs": [
    {
     "data": {
      "text/html": [
       "<div>\n",
       "<style scoped>\n",
       "    .dataframe tbody tr th:only-of-type {\n",
       "        vertical-align: middle;\n",
       "    }\n",
       "\n",
       "    .dataframe tbody tr th {\n",
       "        vertical-align: top;\n",
       "    }\n",
       "\n",
       "    .dataframe thead th {\n",
       "        text-align: right;\n",
       "    }\n",
       "</style>\n",
       "<table border=\"1\" class=\"dataframe\">\n",
       "  <thead>\n",
       "    <tr style=\"text-align: right;\">\n",
       "      <th></th>\n",
       "      <th>p10</th>\n",
       "      <th>ndcg5</th>\n",
       "      <th>mrr</th>\n",
       "      <th>ap</th>\n",
       "      <th>recall</th>\n",
       "    </tr>\n",
       "  </thead>\n",
       "  <tbody>\n",
       "    <tr>\n",
       "      <th>C=0.3</th>\n",
       "      <td>0.1</td>\n",
       "      <td>0.116128</td>\n",
       "      <td>0.005148</td>\n",
       "      <td>0.074141</td>\n",
       "      <td>0.618946</td>\n",
       "    </tr>\n",
       "  </tbody>\n",
       "</table>\n",
       "</div>"
      ],
      "text/plain": [
       "       p10     ndcg5       mrr        ap    recall\n",
       "C=0.3  0.1  0.116128  0.005148  0.074141  0.618946"
      ]
     },
     "execution_count": 129,
     "metadata": {},
     "output_type": "execute_result"
    }
   ],
   "source": [
    "stats"
   ]
  },
  {
   "cell_type": "code",
   "execution_count": 104,
   "metadata": {},
   "outputs": [
    {
     "data": {
      "application/vnd.plotly.v1+json": {
       "config": {
        "plotlyServerURL": "https://plot.ly"
       },
       "data": [
        {
         "hovertemplate": "Model=LETOR_C_C=0.3<br>recall_11=%{x}<br>precision_11=%{y}<extra></extra>",
         "legendgroup": "LETOR_C_C=0.3",
         "line": {
          "color": "#636efa",
          "dash": "solid"
         },
         "marker": {
          "symbol": "circle"
         },
         "mode": "lines",
         "name": "LETOR_C_C=0.3",
         "orientation": "v",
         "showlegend": true,
         "type": "scatter",
         "x": [
          0,
          0.1,
          0.2,
          0.3,
          0.4,
          0.5,
          0.6,
          0.7,
          0.8,
          0.9,
          1
         ],
         "xaxis": "x",
         "y": [
          0.34599316578483236,
          0.27904717509206145,
          0.15027002711376058,
          0.06706883940562626,
          0.0538550633992503,
          0.0469621647722307,
          0.03796924846009296,
          0.031503619722700375,
          0.02433313215727058,
          0.017379441221765796,
          0.00922333202781487
         ],
         "yaxis": "y"
        }
       ],
       "layout": {
        "legend": {
         "title": {
          "text": "Model"
         },
         "tracegroupgap": 0
        },
        "margin": {
         "t": 60
        },
        "template": {
         "data": {
          "bar": [
           {
            "error_x": {
             "color": "#2a3f5f"
            },
            "error_y": {
             "color": "#2a3f5f"
            },
            "marker": {
             "line": {
              "color": "#E5ECF6",
              "width": 0.5
             },
             "pattern": {
              "fillmode": "overlay",
              "size": 10,
              "solidity": 0.2
             }
            },
            "type": "bar"
           }
          ],
          "barpolar": [
           {
            "marker": {
             "line": {
              "color": "#E5ECF6",
              "width": 0.5
             },
             "pattern": {
              "fillmode": "overlay",
              "size": 10,
              "solidity": 0.2
             }
            },
            "type": "barpolar"
           }
          ],
          "carpet": [
           {
            "aaxis": {
             "endlinecolor": "#2a3f5f",
             "gridcolor": "white",
             "linecolor": "white",
             "minorgridcolor": "white",
             "startlinecolor": "#2a3f5f"
            },
            "baxis": {
             "endlinecolor": "#2a3f5f",
             "gridcolor": "white",
             "linecolor": "white",
             "minorgridcolor": "white",
             "startlinecolor": "#2a3f5f"
            },
            "type": "carpet"
           }
          ],
          "choropleth": [
           {
            "colorbar": {
             "outlinewidth": 0,
             "ticks": ""
            },
            "type": "choropleth"
           }
          ],
          "contour": [
           {
            "colorbar": {
             "outlinewidth": 0,
             "ticks": ""
            },
            "colorscale": [
             [
              0,
              "#0d0887"
             ],
             [
              0.1111111111111111,
              "#46039f"
             ],
             [
              0.2222222222222222,
              "#7201a8"
             ],
             [
              0.3333333333333333,
              "#9c179e"
             ],
             [
              0.4444444444444444,
              "#bd3786"
             ],
             [
              0.5555555555555556,
              "#d8576b"
             ],
             [
              0.6666666666666666,
              "#ed7953"
             ],
             [
              0.7777777777777778,
              "#fb9f3a"
             ],
             [
              0.8888888888888888,
              "#fdca26"
             ],
             [
              1,
              "#f0f921"
             ]
            ],
            "type": "contour"
           }
          ],
          "contourcarpet": [
           {
            "colorbar": {
             "outlinewidth": 0,
             "ticks": ""
            },
            "type": "contourcarpet"
           }
          ],
          "heatmap": [
           {
            "colorbar": {
             "outlinewidth": 0,
             "ticks": ""
            },
            "colorscale": [
             [
              0,
              "#0d0887"
             ],
             [
              0.1111111111111111,
              "#46039f"
             ],
             [
              0.2222222222222222,
              "#7201a8"
             ],
             [
              0.3333333333333333,
              "#9c179e"
             ],
             [
              0.4444444444444444,
              "#bd3786"
             ],
             [
              0.5555555555555556,
              "#d8576b"
             ],
             [
              0.6666666666666666,
              "#ed7953"
             ],
             [
              0.7777777777777778,
              "#fb9f3a"
             ],
             [
              0.8888888888888888,
              "#fdca26"
             ],
             [
              1,
              "#f0f921"
             ]
            ],
            "type": "heatmap"
           }
          ],
          "heatmapgl": [
           {
            "colorbar": {
             "outlinewidth": 0,
             "ticks": ""
            },
            "colorscale": [
             [
              0,
              "#0d0887"
             ],
             [
              0.1111111111111111,
              "#46039f"
             ],
             [
              0.2222222222222222,
              "#7201a8"
             ],
             [
              0.3333333333333333,
              "#9c179e"
             ],
             [
              0.4444444444444444,
              "#bd3786"
             ],
             [
              0.5555555555555556,
              "#d8576b"
             ],
             [
              0.6666666666666666,
              "#ed7953"
             ],
             [
              0.7777777777777778,
              "#fb9f3a"
             ],
             [
              0.8888888888888888,
              "#fdca26"
             ],
             [
              1,
              "#f0f921"
             ]
            ],
            "type": "heatmapgl"
           }
          ],
          "histogram": [
           {
            "marker": {
             "pattern": {
              "fillmode": "overlay",
              "size": 10,
              "solidity": 0.2
             }
            },
            "type": "histogram"
           }
          ],
          "histogram2d": [
           {
            "colorbar": {
             "outlinewidth": 0,
             "ticks": ""
            },
            "colorscale": [
             [
              0,
              "#0d0887"
             ],
             [
              0.1111111111111111,
              "#46039f"
             ],
             [
              0.2222222222222222,
              "#7201a8"
             ],
             [
              0.3333333333333333,
              "#9c179e"
             ],
             [
              0.4444444444444444,
              "#bd3786"
             ],
             [
              0.5555555555555556,
              "#d8576b"
             ],
             [
              0.6666666666666666,
              "#ed7953"
             ],
             [
              0.7777777777777778,
              "#fb9f3a"
             ],
             [
              0.8888888888888888,
              "#fdca26"
             ],
             [
              1,
              "#f0f921"
             ]
            ],
            "type": "histogram2d"
           }
          ],
          "histogram2dcontour": [
           {
            "colorbar": {
             "outlinewidth": 0,
             "ticks": ""
            },
            "colorscale": [
             [
              0,
              "#0d0887"
             ],
             [
              0.1111111111111111,
              "#46039f"
             ],
             [
              0.2222222222222222,
              "#7201a8"
             ],
             [
              0.3333333333333333,
              "#9c179e"
             ],
             [
              0.4444444444444444,
              "#bd3786"
             ],
             [
              0.5555555555555556,
              "#d8576b"
             ],
             [
              0.6666666666666666,
              "#ed7953"
             ],
             [
              0.7777777777777778,
              "#fb9f3a"
             ],
             [
              0.8888888888888888,
              "#fdca26"
             ],
             [
              1,
              "#f0f921"
             ]
            ],
            "type": "histogram2dcontour"
           }
          ],
          "mesh3d": [
           {
            "colorbar": {
             "outlinewidth": 0,
             "ticks": ""
            },
            "type": "mesh3d"
           }
          ],
          "parcoords": [
           {
            "line": {
             "colorbar": {
              "outlinewidth": 0,
              "ticks": ""
             }
            },
            "type": "parcoords"
           }
          ],
          "pie": [
           {
            "automargin": true,
            "type": "pie"
           }
          ],
          "scatter": [
           {
            "fillpattern": {
             "fillmode": "overlay",
             "size": 10,
             "solidity": 0.2
            },
            "type": "scatter"
           }
          ],
          "scatter3d": [
           {
            "line": {
             "colorbar": {
              "outlinewidth": 0,
              "ticks": ""
             }
            },
            "marker": {
             "colorbar": {
              "outlinewidth": 0,
              "ticks": ""
             }
            },
            "type": "scatter3d"
           }
          ],
          "scattercarpet": [
           {
            "marker": {
             "colorbar": {
              "outlinewidth": 0,
              "ticks": ""
             }
            },
            "type": "scattercarpet"
           }
          ],
          "scattergeo": [
           {
            "marker": {
             "colorbar": {
              "outlinewidth": 0,
              "ticks": ""
             }
            },
            "type": "scattergeo"
           }
          ],
          "scattergl": [
           {
            "marker": {
             "colorbar": {
              "outlinewidth": 0,
              "ticks": ""
             }
            },
            "type": "scattergl"
           }
          ],
          "scattermapbox": [
           {
            "marker": {
             "colorbar": {
              "outlinewidth": 0,
              "ticks": ""
             }
            },
            "type": "scattermapbox"
           }
          ],
          "scatterpolar": [
           {
            "marker": {
             "colorbar": {
              "outlinewidth": 0,
              "ticks": ""
             }
            },
            "type": "scatterpolar"
           }
          ],
          "scatterpolargl": [
           {
            "marker": {
             "colorbar": {
              "outlinewidth": 0,
              "ticks": ""
             }
            },
            "type": "scatterpolargl"
           }
          ],
          "scatterternary": [
           {
            "marker": {
             "colorbar": {
              "outlinewidth": 0,
              "ticks": ""
             }
            },
            "type": "scatterternary"
           }
          ],
          "surface": [
           {
            "colorbar": {
             "outlinewidth": 0,
             "ticks": ""
            },
            "colorscale": [
             [
              0,
              "#0d0887"
             ],
             [
              0.1111111111111111,
              "#46039f"
             ],
             [
              0.2222222222222222,
              "#7201a8"
             ],
             [
              0.3333333333333333,
              "#9c179e"
             ],
             [
              0.4444444444444444,
              "#bd3786"
             ],
             [
              0.5555555555555556,
              "#d8576b"
             ],
             [
              0.6666666666666666,
              "#ed7953"
             ],
             [
              0.7777777777777778,
              "#fb9f3a"
             ],
             [
              0.8888888888888888,
              "#fdca26"
             ],
             [
              1,
              "#f0f921"
             ]
            ],
            "type": "surface"
           }
          ],
          "table": [
           {
            "cells": {
             "fill": {
              "color": "#EBF0F8"
             },
             "line": {
              "color": "white"
             }
            },
            "header": {
             "fill": {
              "color": "#C8D4E3"
             },
             "line": {
              "color": "white"
             }
            },
            "type": "table"
           }
          ]
         },
         "layout": {
          "annotationdefaults": {
           "arrowcolor": "#2a3f5f",
           "arrowhead": 0,
           "arrowwidth": 1
          },
          "autotypenumbers": "strict",
          "coloraxis": {
           "colorbar": {
            "outlinewidth": 0,
            "ticks": ""
           }
          },
          "colorscale": {
           "diverging": [
            [
             0,
             "#8e0152"
            ],
            [
             0.1,
             "#c51b7d"
            ],
            [
             0.2,
             "#de77ae"
            ],
            [
             0.3,
             "#f1b6da"
            ],
            [
             0.4,
             "#fde0ef"
            ],
            [
             0.5,
             "#f7f7f7"
            ],
            [
             0.6,
             "#e6f5d0"
            ],
            [
             0.7,
             "#b8e186"
            ],
            [
             0.8,
             "#7fbc41"
            ],
            [
             0.9,
             "#4d9221"
            ],
            [
             1,
             "#276419"
            ]
           ],
           "sequential": [
            [
             0,
             "#0d0887"
            ],
            [
             0.1111111111111111,
             "#46039f"
            ],
            [
             0.2222222222222222,
             "#7201a8"
            ],
            [
             0.3333333333333333,
             "#9c179e"
            ],
            [
             0.4444444444444444,
             "#bd3786"
            ],
            [
             0.5555555555555556,
             "#d8576b"
            ],
            [
             0.6666666666666666,
             "#ed7953"
            ],
            [
             0.7777777777777778,
             "#fb9f3a"
            ],
            [
             0.8888888888888888,
             "#fdca26"
            ],
            [
             1,
             "#f0f921"
            ]
           ],
           "sequentialminus": [
            [
             0,
             "#0d0887"
            ],
            [
             0.1111111111111111,
             "#46039f"
            ],
            [
             0.2222222222222222,
             "#7201a8"
            ],
            [
             0.3333333333333333,
             "#9c179e"
            ],
            [
             0.4444444444444444,
             "#bd3786"
            ],
            [
             0.5555555555555556,
             "#d8576b"
            ],
            [
             0.6666666666666666,
             "#ed7953"
            ],
            [
             0.7777777777777778,
             "#fb9f3a"
            ],
            [
             0.8888888888888888,
             "#fdca26"
            ],
            [
             1,
             "#f0f921"
            ]
           ]
          },
          "colorway": [
           "#636efa",
           "#EF553B",
           "#00cc96",
           "#ab63fa",
           "#FFA15A",
           "#19d3f3",
           "#FF6692",
           "#B6E880",
           "#FF97FF",
           "#FECB52"
          ],
          "font": {
           "color": "#2a3f5f"
          },
          "geo": {
           "bgcolor": "white",
           "lakecolor": "white",
           "landcolor": "#E5ECF6",
           "showlakes": true,
           "showland": true,
           "subunitcolor": "white"
          },
          "hoverlabel": {
           "align": "left"
          },
          "hovermode": "closest",
          "mapbox": {
           "style": "light"
          },
          "paper_bgcolor": "white",
          "plot_bgcolor": "#E5ECF6",
          "polar": {
           "angularaxis": {
            "gridcolor": "white",
            "linecolor": "white",
            "ticks": ""
           },
           "bgcolor": "#E5ECF6",
           "radialaxis": {
            "gridcolor": "white",
            "linecolor": "white",
            "ticks": ""
           }
          },
          "scene": {
           "xaxis": {
            "backgroundcolor": "#E5ECF6",
            "gridcolor": "white",
            "gridwidth": 2,
            "linecolor": "white",
            "showbackground": true,
            "ticks": "",
            "zerolinecolor": "white"
           },
           "yaxis": {
            "backgroundcolor": "#E5ECF6",
            "gridcolor": "white",
            "gridwidth": 2,
            "linecolor": "white",
            "showbackground": true,
            "ticks": "",
            "zerolinecolor": "white"
           },
           "zaxis": {
            "backgroundcolor": "#E5ECF6",
            "gridcolor": "white",
            "gridwidth": 2,
            "linecolor": "white",
            "showbackground": true,
            "ticks": "",
            "zerolinecolor": "white"
           }
          },
          "shapedefaults": {
           "line": {
            "color": "#2a3f5f"
           }
          },
          "ternary": {
           "aaxis": {
            "gridcolor": "white",
            "linecolor": "white",
            "ticks": ""
           },
           "baxis": {
            "gridcolor": "white",
            "linecolor": "white",
            "ticks": ""
           },
           "bgcolor": "#E5ECF6",
           "caxis": {
            "gridcolor": "white",
            "linecolor": "white",
            "ticks": ""
           }
          },
          "title": {
           "x": 0.05
          },
          "xaxis": {
           "automargin": true,
           "gridcolor": "white",
           "linecolor": "white",
           "ticks": "",
           "title": {
            "standoff": 15
           },
           "zerolinecolor": "white",
           "zerolinewidth": 2
          },
          "yaxis": {
           "automargin": true,
           "gridcolor": "white",
           "linecolor": "white",
           "ticks": "",
           "title": {
            "standoff": 15
           },
           "zerolinecolor": "white",
           "zerolinewidth": 2
          }
         }
        },
        "xaxis": {
         "anchor": "y",
         "domain": [
          0,
          1
         ],
         "title": {
          "text": "recall_11"
         }
        },
        "yaxis": {
         "anchor": "x",
         "domain": [
          0,
          1
         ],
         "title": {
          "text": "precision_11"
         }
        }
       }
      }
     },
     "metadata": {},
     "output_type": "display_data"
    }
   ],
   "source": [
    "fig_c = px.line(records, x=\"recall_11\", y=\"precision_11\", color='Model')\n",
    "fig_c.show()"
   ]
  },
  {
   "cell_type": "code",
   "execution_count": 105,
   "metadata": {},
   "outputs": [
    {
     "data": {
      "application/vnd.plotly.v1+json": {
       "config": {
        "plotlyServerURL": "https://plot.ly"
       },
       "data": [
        {
         "hovertemplate": "Model=LETOR_A_C=0.7<br>recall_11=%{x}<br>precision_11=%{y}<extra></extra>",
         "legendgroup": "LETOR_A_C=0.7",
         "line": {
          "color": "#636efa",
          "dash": "solid"
         },
         "marker": {
          "symbol": "circle"
         },
         "mode": "lines",
         "name": "LETOR_A_C=0.7",
         "orientation": "v",
         "showlegend": true,
         "type": "scatter",
         "x": [
          0,
          0.1,
          0.2,
          0.3,
          0.4,
          0.5,
          0.6,
          0.7,
          0.8,
          0.9,
          1
         ],
         "xaxis": "x",
         "y": [
          0.361345832820639,
          0.3173552793748669,
          0.15796511423732826,
          0.06762329794991602,
          0.05765589111167633,
          0.048627504285032576,
          0.03817520212361637,
          0.02969865820502432,
          0.022571423414333058,
          0.016697459686322795,
          0.009173059009351713
         ],
         "yaxis": "y"
        },
        {
         "hovertemplate": "Model=LETOR_B_C=0.9<br>recall_11=%{x}<br>precision_11=%{y}<extra></extra>",
         "legendgroup": "LETOR_B_C=0.9",
         "line": {
          "color": "#EF553B",
          "dash": "solid"
         },
         "marker": {
          "symbol": "circle"
         },
         "mode": "lines",
         "name": "LETOR_B_C=0.9",
         "orientation": "v",
         "showlegend": true,
         "type": "scatter",
         "x": [
          0,
          0.1,
          0.2,
          0.3,
          0.4,
          0.5,
          0.6,
          0.7,
          0.8,
          0.9,
          1
         ],
         "xaxis": "x",
         "y": [
          0.3729308390022676,
          0.3156399365478608,
          0.15610406448101513,
          0.06744011407375226,
          0.056981214112057525,
          0.04739925569310632,
          0.03776795841510975,
          0.029927657337257368,
          0.022236759954656297,
          0.016569430592182785,
          0.009127167042048127
         ],
         "yaxis": "y"
        },
        {
         "hovertemplate": "Model=LETOR_C_C=0.3<br>recall_11=%{x}<br>precision_11=%{y}<extra></extra>",
         "legendgroup": "LETOR_C_C=0.3",
         "line": {
          "color": "#00cc96",
          "dash": "solid"
         },
         "marker": {
          "symbol": "circle"
         },
         "mode": "lines",
         "name": "LETOR_C_C=0.3",
         "orientation": "v",
         "showlegend": true,
         "type": "scatter",
         "x": [
          0,
          0.1,
          0.2,
          0.3,
          0.4,
          0.5,
          0.6,
          0.7,
          0.8,
          0.9,
          1
         ],
         "xaxis": "x",
         "y": [
          0.34599316578483236,
          0.27904717509206145,
          0.15027002711376058,
          0.06706883940562626,
          0.0538550633992503,
          0.0469621647722307,
          0.03796924846009296,
          0.031503619722700375,
          0.02433313215727058,
          0.017379441221765796,
          0.00922333202781487
         ],
         "yaxis": "y"
        }
       ],
       "layout": {
        "legend": {
         "title": {
          "text": "Model"
         },
         "tracegroupgap": 0
        },
        "margin": {
         "t": 60
        },
        "template": {
         "data": {
          "bar": [
           {
            "error_x": {
             "color": "#2a3f5f"
            },
            "error_y": {
             "color": "#2a3f5f"
            },
            "marker": {
             "line": {
              "color": "#E5ECF6",
              "width": 0.5
             },
             "pattern": {
              "fillmode": "overlay",
              "size": 10,
              "solidity": 0.2
             }
            },
            "type": "bar"
           }
          ],
          "barpolar": [
           {
            "marker": {
             "line": {
              "color": "#E5ECF6",
              "width": 0.5
             },
             "pattern": {
              "fillmode": "overlay",
              "size": 10,
              "solidity": 0.2
             }
            },
            "type": "barpolar"
           }
          ],
          "carpet": [
           {
            "aaxis": {
             "endlinecolor": "#2a3f5f",
             "gridcolor": "white",
             "linecolor": "white",
             "minorgridcolor": "white",
             "startlinecolor": "#2a3f5f"
            },
            "baxis": {
             "endlinecolor": "#2a3f5f",
             "gridcolor": "white",
             "linecolor": "white",
             "minorgridcolor": "white",
             "startlinecolor": "#2a3f5f"
            },
            "type": "carpet"
           }
          ],
          "choropleth": [
           {
            "colorbar": {
             "outlinewidth": 0,
             "ticks": ""
            },
            "type": "choropleth"
           }
          ],
          "contour": [
           {
            "colorbar": {
             "outlinewidth": 0,
             "ticks": ""
            },
            "colorscale": [
             [
              0,
              "#0d0887"
             ],
             [
              0.1111111111111111,
              "#46039f"
             ],
             [
              0.2222222222222222,
              "#7201a8"
             ],
             [
              0.3333333333333333,
              "#9c179e"
             ],
             [
              0.4444444444444444,
              "#bd3786"
             ],
             [
              0.5555555555555556,
              "#d8576b"
             ],
             [
              0.6666666666666666,
              "#ed7953"
             ],
             [
              0.7777777777777778,
              "#fb9f3a"
             ],
             [
              0.8888888888888888,
              "#fdca26"
             ],
             [
              1,
              "#f0f921"
             ]
            ],
            "type": "contour"
           }
          ],
          "contourcarpet": [
           {
            "colorbar": {
             "outlinewidth": 0,
             "ticks": ""
            },
            "type": "contourcarpet"
           }
          ],
          "heatmap": [
           {
            "colorbar": {
             "outlinewidth": 0,
             "ticks": ""
            },
            "colorscale": [
             [
              0,
              "#0d0887"
             ],
             [
              0.1111111111111111,
              "#46039f"
             ],
             [
              0.2222222222222222,
              "#7201a8"
             ],
             [
              0.3333333333333333,
              "#9c179e"
             ],
             [
              0.4444444444444444,
              "#bd3786"
             ],
             [
              0.5555555555555556,
              "#d8576b"
             ],
             [
              0.6666666666666666,
              "#ed7953"
             ],
             [
              0.7777777777777778,
              "#fb9f3a"
             ],
             [
              0.8888888888888888,
              "#fdca26"
             ],
             [
              1,
              "#f0f921"
             ]
            ],
            "type": "heatmap"
           }
          ],
          "heatmapgl": [
           {
            "colorbar": {
             "outlinewidth": 0,
             "ticks": ""
            },
            "colorscale": [
             [
              0,
              "#0d0887"
             ],
             [
              0.1111111111111111,
              "#46039f"
             ],
             [
              0.2222222222222222,
              "#7201a8"
             ],
             [
              0.3333333333333333,
              "#9c179e"
             ],
             [
              0.4444444444444444,
              "#bd3786"
             ],
             [
              0.5555555555555556,
              "#d8576b"
             ],
             [
              0.6666666666666666,
              "#ed7953"
             ],
             [
              0.7777777777777778,
              "#fb9f3a"
             ],
             [
              0.8888888888888888,
              "#fdca26"
             ],
             [
              1,
              "#f0f921"
             ]
            ],
            "type": "heatmapgl"
           }
          ],
          "histogram": [
           {
            "marker": {
             "pattern": {
              "fillmode": "overlay",
              "size": 10,
              "solidity": 0.2
             }
            },
            "type": "histogram"
           }
          ],
          "histogram2d": [
           {
            "colorbar": {
             "outlinewidth": 0,
             "ticks": ""
            },
            "colorscale": [
             [
              0,
              "#0d0887"
             ],
             [
              0.1111111111111111,
              "#46039f"
             ],
             [
              0.2222222222222222,
              "#7201a8"
             ],
             [
              0.3333333333333333,
              "#9c179e"
             ],
             [
              0.4444444444444444,
              "#bd3786"
             ],
             [
              0.5555555555555556,
              "#d8576b"
             ],
             [
              0.6666666666666666,
              "#ed7953"
             ],
             [
              0.7777777777777778,
              "#fb9f3a"
             ],
             [
              0.8888888888888888,
              "#fdca26"
             ],
             [
              1,
              "#f0f921"
             ]
            ],
            "type": "histogram2d"
           }
          ],
          "histogram2dcontour": [
           {
            "colorbar": {
             "outlinewidth": 0,
             "ticks": ""
            },
            "colorscale": [
             [
              0,
              "#0d0887"
             ],
             [
              0.1111111111111111,
              "#46039f"
             ],
             [
              0.2222222222222222,
              "#7201a8"
             ],
             [
              0.3333333333333333,
              "#9c179e"
             ],
             [
              0.4444444444444444,
              "#bd3786"
             ],
             [
              0.5555555555555556,
              "#d8576b"
             ],
             [
              0.6666666666666666,
              "#ed7953"
             ],
             [
              0.7777777777777778,
              "#fb9f3a"
             ],
             [
              0.8888888888888888,
              "#fdca26"
             ],
             [
              1,
              "#f0f921"
             ]
            ],
            "type": "histogram2dcontour"
           }
          ],
          "mesh3d": [
           {
            "colorbar": {
             "outlinewidth": 0,
             "ticks": ""
            },
            "type": "mesh3d"
           }
          ],
          "parcoords": [
           {
            "line": {
             "colorbar": {
              "outlinewidth": 0,
              "ticks": ""
             }
            },
            "type": "parcoords"
           }
          ],
          "pie": [
           {
            "automargin": true,
            "type": "pie"
           }
          ],
          "scatter": [
           {
            "fillpattern": {
             "fillmode": "overlay",
             "size": 10,
             "solidity": 0.2
            },
            "type": "scatter"
           }
          ],
          "scatter3d": [
           {
            "line": {
             "colorbar": {
              "outlinewidth": 0,
              "ticks": ""
             }
            },
            "marker": {
             "colorbar": {
              "outlinewidth": 0,
              "ticks": ""
             }
            },
            "type": "scatter3d"
           }
          ],
          "scattercarpet": [
           {
            "marker": {
             "colorbar": {
              "outlinewidth": 0,
              "ticks": ""
             }
            },
            "type": "scattercarpet"
           }
          ],
          "scattergeo": [
           {
            "marker": {
             "colorbar": {
              "outlinewidth": 0,
              "ticks": ""
             }
            },
            "type": "scattergeo"
           }
          ],
          "scattergl": [
           {
            "marker": {
             "colorbar": {
              "outlinewidth": 0,
              "ticks": ""
             }
            },
            "type": "scattergl"
           }
          ],
          "scattermapbox": [
           {
            "marker": {
             "colorbar": {
              "outlinewidth": 0,
              "ticks": ""
             }
            },
            "type": "scattermapbox"
           }
          ],
          "scatterpolar": [
           {
            "marker": {
             "colorbar": {
              "outlinewidth": 0,
              "ticks": ""
             }
            },
            "type": "scatterpolar"
           }
          ],
          "scatterpolargl": [
           {
            "marker": {
             "colorbar": {
              "outlinewidth": 0,
              "ticks": ""
             }
            },
            "type": "scatterpolargl"
           }
          ],
          "scatterternary": [
           {
            "marker": {
             "colorbar": {
              "outlinewidth": 0,
              "ticks": ""
             }
            },
            "type": "scatterternary"
           }
          ],
          "surface": [
           {
            "colorbar": {
             "outlinewidth": 0,
             "ticks": ""
            },
            "colorscale": [
             [
              0,
              "#0d0887"
             ],
             [
              0.1111111111111111,
              "#46039f"
             ],
             [
              0.2222222222222222,
              "#7201a8"
             ],
             [
              0.3333333333333333,
              "#9c179e"
             ],
             [
              0.4444444444444444,
              "#bd3786"
             ],
             [
              0.5555555555555556,
              "#d8576b"
             ],
             [
              0.6666666666666666,
              "#ed7953"
             ],
             [
              0.7777777777777778,
              "#fb9f3a"
             ],
             [
              0.8888888888888888,
              "#fdca26"
             ],
             [
              1,
              "#f0f921"
             ]
            ],
            "type": "surface"
           }
          ],
          "table": [
           {
            "cells": {
             "fill": {
              "color": "#EBF0F8"
             },
             "line": {
              "color": "white"
             }
            },
            "header": {
             "fill": {
              "color": "#C8D4E3"
             },
             "line": {
              "color": "white"
             }
            },
            "type": "table"
           }
          ]
         },
         "layout": {
          "annotationdefaults": {
           "arrowcolor": "#2a3f5f",
           "arrowhead": 0,
           "arrowwidth": 1
          },
          "autotypenumbers": "strict",
          "coloraxis": {
           "colorbar": {
            "outlinewidth": 0,
            "ticks": ""
           }
          },
          "colorscale": {
           "diverging": [
            [
             0,
             "#8e0152"
            ],
            [
             0.1,
             "#c51b7d"
            ],
            [
             0.2,
             "#de77ae"
            ],
            [
             0.3,
             "#f1b6da"
            ],
            [
             0.4,
             "#fde0ef"
            ],
            [
             0.5,
             "#f7f7f7"
            ],
            [
             0.6,
             "#e6f5d0"
            ],
            [
             0.7,
             "#b8e186"
            ],
            [
             0.8,
             "#7fbc41"
            ],
            [
             0.9,
             "#4d9221"
            ],
            [
             1,
             "#276419"
            ]
           ],
           "sequential": [
            [
             0,
             "#0d0887"
            ],
            [
             0.1111111111111111,
             "#46039f"
            ],
            [
             0.2222222222222222,
             "#7201a8"
            ],
            [
             0.3333333333333333,
             "#9c179e"
            ],
            [
             0.4444444444444444,
             "#bd3786"
            ],
            [
             0.5555555555555556,
             "#d8576b"
            ],
            [
             0.6666666666666666,
             "#ed7953"
            ],
            [
             0.7777777777777778,
             "#fb9f3a"
            ],
            [
             0.8888888888888888,
             "#fdca26"
            ],
            [
             1,
             "#f0f921"
            ]
           ],
           "sequentialminus": [
            [
             0,
             "#0d0887"
            ],
            [
             0.1111111111111111,
             "#46039f"
            ],
            [
             0.2222222222222222,
             "#7201a8"
            ],
            [
             0.3333333333333333,
             "#9c179e"
            ],
            [
             0.4444444444444444,
             "#bd3786"
            ],
            [
             0.5555555555555556,
             "#d8576b"
            ],
            [
             0.6666666666666666,
             "#ed7953"
            ],
            [
             0.7777777777777778,
             "#fb9f3a"
            ],
            [
             0.8888888888888888,
             "#fdca26"
            ],
            [
             1,
             "#f0f921"
            ]
           ]
          },
          "colorway": [
           "#636efa",
           "#EF553B",
           "#00cc96",
           "#ab63fa",
           "#FFA15A",
           "#19d3f3",
           "#FF6692",
           "#B6E880",
           "#FF97FF",
           "#FECB52"
          ],
          "font": {
           "color": "#2a3f5f"
          },
          "geo": {
           "bgcolor": "white",
           "lakecolor": "white",
           "landcolor": "#E5ECF6",
           "showlakes": true,
           "showland": true,
           "subunitcolor": "white"
          },
          "hoverlabel": {
           "align": "left"
          },
          "hovermode": "closest",
          "mapbox": {
           "style": "light"
          },
          "paper_bgcolor": "white",
          "plot_bgcolor": "#E5ECF6",
          "polar": {
           "angularaxis": {
            "gridcolor": "white",
            "linecolor": "white",
            "ticks": ""
           },
           "bgcolor": "#E5ECF6",
           "radialaxis": {
            "gridcolor": "white",
            "linecolor": "white",
            "ticks": ""
           }
          },
          "scene": {
           "xaxis": {
            "backgroundcolor": "#E5ECF6",
            "gridcolor": "white",
            "gridwidth": 2,
            "linecolor": "white",
            "showbackground": true,
            "ticks": "",
            "zerolinecolor": "white"
           },
           "yaxis": {
            "backgroundcolor": "#E5ECF6",
            "gridcolor": "white",
            "gridwidth": 2,
            "linecolor": "white",
            "showbackground": true,
            "ticks": "",
            "zerolinecolor": "white"
           },
           "zaxis": {
            "backgroundcolor": "#E5ECF6",
            "gridcolor": "white",
            "gridwidth": 2,
            "linecolor": "white",
            "showbackground": true,
            "ticks": "",
            "zerolinecolor": "white"
           }
          },
          "shapedefaults": {
           "line": {
            "color": "#2a3f5f"
           }
          },
          "ternary": {
           "aaxis": {
            "gridcolor": "white",
            "linecolor": "white",
            "ticks": ""
           },
           "baxis": {
            "gridcolor": "white",
            "linecolor": "white",
            "ticks": ""
           },
           "bgcolor": "#E5ECF6",
           "caxis": {
            "gridcolor": "white",
            "linecolor": "white",
            "ticks": ""
           }
          },
          "title": {
           "x": 0.05
          },
          "xaxis": {
           "automargin": true,
           "gridcolor": "white",
           "linecolor": "white",
           "ticks": "",
           "title": {
            "standoff": 15
           },
           "zerolinecolor": "white",
           "zerolinewidth": 2
          },
          "yaxis": {
           "automargin": true,
           "gridcolor": "white",
           "linecolor": "white",
           "ticks": "",
           "title": {
            "standoff": 15
           },
           "zerolinecolor": "white",
           "zerolinewidth": 2
          }
         }
        },
        "xaxis": {
         "anchor": "y",
         "domain": [
          0,
          1
         ],
         "title": {
          "text": "recall_11"
         }
        },
        "yaxis": {
         "anchor": "x",
         "domain": [
          0,
          1
         ],
         "title": {
          "text": "precision_11"
         }
        }
       }
      }
     },
     "metadata": {},
     "output_type": "display_data"
    }
   ],
   "source": [
    "fig = px.line(records_comparison, x=\"recall_11\", y=\"precision_11\", color='Model')\n",
    "fig.show()"
   ]
  },
  {
   "cell_type": "markdown",
   "metadata": {},
   "source": [
    "# VSM for different fields\n"
   ]
  },
  {
   "cell_type": "code",
   "execution_count": 137,
   "metadata": {},
   "outputs": [],
   "source": [
    "ngrams=[(1,1),(1,1),(1,1),(1,1)]\n",
    "fields=[docs_brief_title,docs_brief_summary,docs_detailed_description,docs_criteria]\n",
    "fields_string=[\"docs_brief_title\",\"docs_brief_summary\",\"docs_detailed_description\",\"docs_criteria\"]\n",
    "lamb=[0.10,0.25,0.25,0.15]\n",
    "records = []\n",
    "statistics = {}\n",
    "for y in range(len(fields)):\n",
    "    prec = np.zeros(11,)\n",
    "    test = np.zeros(5,)\n",
    "    myNLP = NLP(trials, cases_test, ngrams[y], fields[y], ids_brief_title)\n",
    "    \n",
    "    for x in myNLP.cases.items():\n",
    "        results,unordered_results = myNLP.test_vsm(x[1])\n",
    "        p10, recall, ndcg5, ap, mrr = myNLP.eval(results, x[0])\n",
    "        test = test + np.array([p10, ndcg5, mrr, ap, recall])\n",
    "        prec_11point, recal_11point, tot_relv_ret = myNLP.evalPR(results, x[0])\n",
    "        prec = prec + prec_11point\n",
    "        \n",
    "        \n",
    "        \n",
    "    prec = prec / len(cases_test.keys())\n",
    "    test = test / len(cases_test.keys())\n",
    "    for p, r in zip(prec, recal_11point):\n",
    "        records.append((fields_string[y]+\"_vsm\", p, r))\n",
    "\n",
    "    statistics[fields_string[y]] = test\n",
    "\n",
    "stats = pd.DataFrame.from_dict(statistics, orient=\"index\", columns=[\"p10\", \"ndcg5\", \"mrr\", \"ap\", \"recall\"])\n"
   ]
  },
  {
   "cell_type": "code",
   "execution_count": 138,
   "metadata": {},
   "outputs": [
    {
     "data": {
      "application/vnd.plotly.v1+json": {
       "config": {
        "plotlyServerURL": "https://plot.ly"
       },
       "data": [
        {
         "hovertemplate": "Model=docs_brief_title_vsm<br>recall_11=%{x}<br>precision_11=%{y}<extra></extra>",
         "legendgroup": "docs_brief_title_vsm",
         "line": {
          "color": "#636efa",
          "dash": "solid"
         },
         "marker": {
          "symbol": "circle"
         },
         "mode": "lines",
         "name": "docs_brief_title_vsm",
         "orientation": "v",
         "showlegend": true,
         "type": "scatter",
         "x": [
          0,
          0.1,
          0.2,
          0.3,
          0.4,
          0.5,
          0.6,
          0.7,
          0.8,
          0.9,
          1
         ],
         "xaxis": "x",
         "y": [
          0.08334130039051113,
          0.0707620596939643,
          0.041514767523929845,
          0.030280730460906888,
          0.02150267235549873,
          0.01747778547491598,
          0.015433082378169231,
          0.010328373976898366,
          0.005672695846039338,
          0.005532221212214333,
          0.005451711406591505
         ],
         "yaxis": "y"
        },
        {
         "hovertemplate": "Model=docs_brief_summary_vsm<br>recall_11=%{x}<br>precision_11=%{y}<extra></extra>",
         "legendgroup": "docs_brief_summary_vsm",
         "line": {
          "color": "#EF553B",
          "dash": "solid"
         },
         "marker": {
          "symbol": "circle"
         },
         "mode": "lines",
         "name": "docs_brief_summary_vsm",
         "orientation": "v",
         "showlegend": true,
         "type": "scatter",
         "x": [
          0,
          0.1,
          0.2,
          0.3,
          0.4,
          0.5,
          0.6,
          0.7,
          0.8,
          0.9,
          1
         ],
         "xaxis": "x",
         "y": [
          0.2406224103260409,
          0.17843418133110334,
          0.09410602865989877,
          0.07920895077467077,
          0.061342812695226755,
          0.03864967488572251,
          0.031709283088919155,
          0.026410617569971415,
          0.013668724632802836,
          0.012149323198547316,
          0.009556431416364785
         ],
         "yaxis": "y"
        },
        {
         "hovertemplate": "Model=docs_detailed_description_vsm<br>recall_11=%{x}<br>precision_11=%{y}<extra></extra>",
         "legendgroup": "docs_detailed_description_vsm",
         "line": {
          "color": "#00cc96",
          "dash": "solid"
         },
         "marker": {
          "symbol": "circle"
         },
         "mode": "lines",
         "name": "docs_detailed_description_vsm",
         "orientation": "v",
         "showlegend": true,
         "type": "scatter",
         "x": [
          0,
          0.1,
          0.2,
          0.3,
          0.4,
          0.5,
          0.6,
          0.7,
          0.8,
          0.9,
          1
         ],
         "xaxis": "x",
         "y": [
          0.36968858423490397,
          0.2644354573205753,
          0.09596070759062071,
          0.05876023656563525,
          0.04205471881190633,
          0.03172629874876213,
          0.02540398186342267,
          0.021532329631111517,
          0.016519368819744227,
          0.011332200211225782,
          0.0071417619372108965
         ],
         "yaxis": "y"
        },
        {
         "hovertemplate": "Model=docs_criteria_vsm<br>recall_11=%{x}<br>precision_11=%{y}<extra></extra>",
         "legendgroup": "docs_criteria_vsm",
         "line": {
          "color": "#ab63fa",
          "dash": "solid"
         },
         "marker": {
          "symbol": "circle"
         },
         "mode": "lines",
         "name": "docs_criteria_vsm",
         "orientation": "v",
         "showlegend": true,
         "type": "scatter",
         "x": [
          0,
          0.1,
          0.2,
          0.3,
          0.4,
          0.5,
          0.6,
          0.7,
          0.8,
          0.9,
          1
         ],
         "xaxis": "x",
         "y": [
          0.2583264145592521,
          0.2030760888651181,
          0.11632581367154272,
          0.09354456105822649,
          0.05257284214540123,
          0.02586686657124279,
          0.01878123179210069,
          0.009794748305038532,
          0.008156254079643972,
          0.007090813374342516,
          0.005569749783796918
         ],
         "yaxis": "y"
        }
       ],
       "layout": {
        "legend": {
         "title": {
          "text": "Model"
         },
         "tracegroupgap": 0
        },
        "margin": {
         "t": 60
        },
        "template": {
         "data": {
          "bar": [
           {
            "error_x": {
             "color": "#2a3f5f"
            },
            "error_y": {
             "color": "#2a3f5f"
            },
            "marker": {
             "line": {
              "color": "#E5ECF6",
              "width": 0.5
             },
             "pattern": {
              "fillmode": "overlay",
              "size": 10,
              "solidity": 0.2
             }
            },
            "type": "bar"
           }
          ],
          "barpolar": [
           {
            "marker": {
             "line": {
              "color": "#E5ECF6",
              "width": 0.5
             },
             "pattern": {
              "fillmode": "overlay",
              "size": 10,
              "solidity": 0.2
             }
            },
            "type": "barpolar"
           }
          ],
          "carpet": [
           {
            "aaxis": {
             "endlinecolor": "#2a3f5f",
             "gridcolor": "white",
             "linecolor": "white",
             "minorgridcolor": "white",
             "startlinecolor": "#2a3f5f"
            },
            "baxis": {
             "endlinecolor": "#2a3f5f",
             "gridcolor": "white",
             "linecolor": "white",
             "minorgridcolor": "white",
             "startlinecolor": "#2a3f5f"
            },
            "type": "carpet"
           }
          ],
          "choropleth": [
           {
            "colorbar": {
             "outlinewidth": 0,
             "ticks": ""
            },
            "type": "choropleth"
           }
          ],
          "contour": [
           {
            "colorbar": {
             "outlinewidth": 0,
             "ticks": ""
            },
            "colorscale": [
             [
              0,
              "#0d0887"
             ],
             [
              0.1111111111111111,
              "#46039f"
             ],
             [
              0.2222222222222222,
              "#7201a8"
             ],
             [
              0.3333333333333333,
              "#9c179e"
             ],
             [
              0.4444444444444444,
              "#bd3786"
             ],
             [
              0.5555555555555556,
              "#d8576b"
             ],
             [
              0.6666666666666666,
              "#ed7953"
             ],
             [
              0.7777777777777778,
              "#fb9f3a"
             ],
             [
              0.8888888888888888,
              "#fdca26"
             ],
             [
              1,
              "#f0f921"
             ]
            ],
            "type": "contour"
           }
          ],
          "contourcarpet": [
           {
            "colorbar": {
             "outlinewidth": 0,
             "ticks": ""
            },
            "type": "contourcarpet"
           }
          ],
          "heatmap": [
           {
            "colorbar": {
             "outlinewidth": 0,
             "ticks": ""
            },
            "colorscale": [
             [
              0,
              "#0d0887"
             ],
             [
              0.1111111111111111,
              "#46039f"
             ],
             [
              0.2222222222222222,
              "#7201a8"
             ],
             [
              0.3333333333333333,
              "#9c179e"
             ],
             [
              0.4444444444444444,
              "#bd3786"
             ],
             [
              0.5555555555555556,
              "#d8576b"
             ],
             [
              0.6666666666666666,
              "#ed7953"
             ],
             [
              0.7777777777777778,
              "#fb9f3a"
             ],
             [
              0.8888888888888888,
              "#fdca26"
             ],
             [
              1,
              "#f0f921"
             ]
            ],
            "type": "heatmap"
           }
          ],
          "heatmapgl": [
           {
            "colorbar": {
             "outlinewidth": 0,
             "ticks": ""
            },
            "colorscale": [
             [
              0,
              "#0d0887"
             ],
             [
              0.1111111111111111,
              "#46039f"
             ],
             [
              0.2222222222222222,
              "#7201a8"
             ],
             [
              0.3333333333333333,
              "#9c179e"
             ],
             [
              0.4444444444444444,
              "#bd3786"
             ],
             [
              0.5555555555555556,
              "#d8576b"
             ],
             [
              0.6666666666666666,
              "#ed7953"
             ],
             [
              0.7777777777777778,
              "#fb9f3a"
             ],
             [
              0.8888888888888888,
              "#fdca26"
             ],
             [
              1,
              "#f0f921"
             ]
            ],
            "type": "heatmapgl"
           }
          ],
          "histogram": [
           {
            "marker": {
             "pattern": {
              "fillmode": "overlay",
              "size": 10,
              "solidity": 0.2
             }
            },
            "type": "histogram"
           }
          ],
          "histogram2d": [
           {
            "colorbar": {
             "outlinewidth": 0,
             "ticks": ""
            },
            "colorscale": [
             [
              0,
              "#0d0887"
             ],
             [
              0.1111111111111111,
              "#46039f"
             ],
             [
              0.2222222222222222,
              "#7201a8"
             ],
             [
              0.3333333333333333,
              "#9c179e"
             ],
             [
              0.4444444444444444,
              "#bd3786"
             ],
             [
              0.5555555555555556,
              "#d8576b"
             ],
             [
              0.6666666666666666,
              "#ed7953"
             ],
             [
              0.7777777777777778,
              "#fb9f3a"
             ],
             [
              0.8888888888888888,
              "#fdca26"
             ],
             [
              1,
              "#f0f921"
             ]
            ],
            "type": "histogram2d"
           }
          ],
          "histogram2dcontour": [
           {
            "colorbar": {
             "outlinewidth": 0,
             "ticks": ""
            },
            "colorscale": [
             [
              0,
              "#0d0887"
             ],
             [
              0.1111111111111111,
              "#46039f"
             ],
             [
              0.2222222222222222,
              "#7201a8"
             ],
             [
              0.3333333333333333,
              "#9c179e"
             ],
             [
              0.4444444444444444,
              "#bd3786"
             ],
             [
              0.5555555555555556,
              "#d8576b"
             ],
             [
              0.6666666666666666,
              "#ed7953"
             ],
             [
              0.7777777777777778,
              "#fb9f3a"
             ],
             [
              0.8888888888888888,
              "#fdca26"
             ],
             [
              1,
              "#f0f921"
             ]
            ],
            "type": "histogram2dcontour"
           }
          ],
          "mesh3d": [
           {
            "colorbar": {
             "outlinewidth": 0,
             "ticks": ""
            },
            "type": "mesh3d"
           }
          ],
          "parcoords": [
           {
            "line": {
             "colorbar": {
              "outlinewidth": 0,
              "ticks": ""
             }
            },
            "type": "parcoords"
           }
          ],
          "pie": [
           {
            "automargin": true,
            "type": "pie"
           }
          ],
          "scatter": [
           {
            "fillpattern": {
             "fillmode": "overlay",
             "size": 10,
             "solidity": 0.2
            },
            "type": "scatter"
           }
          ],
          "scatter3d": [
           {
            "line": {
             "colorbar": {
              "outlinewidth": 0,
              "ticks": ""
             }
            },
            "marker": {
             "colorbar": {
              "outlinewidth": 0,
              "ticks": ""
             }
            },
            "type": "scatter3d"
           }
          ],
          "scattercarpet": [
           {
            "marker": {
             "colorbar": {
              "outlinewidth": 0,
              "ticks": ""
             }
            },
            "type": "scattercarpet"
           }
          ],
          "scattergeo": [
           {
            "marker": {
             "colorbar": {
              "outlinewidth": 0,
              "ticks": ""
             }
            },
            "type": "scattergeo"
           }
          ],
          "scattergl": [
           {
            "marker": {
             "colorbar": {
              "outlinewidth": 0,
              "ticks": ""
             }
            },
            "type": "scattergl"
           }
          ],
          "scattermapbox": [
           {
            "marker": {
             "colorbar": {
              "outlinewidth": 0,
              "ticks": ""
             }
            },
            "type": "scattermapbox"
           }
          ],
          "scatterpolar": [
           {
            "marker": {
             "colorbar": {
              "outlinewidth": 0,
              "ticks": ""
             }
            },
            "type": "scatterpolar"
           }
          ],
          "scatterpolargl": [
           {
            "marker": {
             "colorbar": {
              "outlinewidth": 0,
              "ticks": ""
             }
            },
            "type": "scatterpolargl"
           }
          ],
          "scatterternary": [
           {
            "marker": {
             "colorbar": {
              "outlinewidth": 0,
              "ticks": ""
             }
            },
            "type": "scatterternary"
           }
          ],
          "surface": [
           {
            "colorbar": {
             "outlinewidth": 0,
             "ticks": ""
            },
            "colorscale": [
             [
              0,
              "#0d0887"
             ],
             [
              0.1111111111111111,
              "#46039f"
             ],
             [
              0.2222222222222222,
              "#7201a8"
             ],
             [
              0.3333333333333333,
              "#9c179e"
             ],
             [
              0.4444444444444444,
              "#bd3786"
             ],
             [
              0.5555555555555556,
              "#d8576b"
             ],
             [
              0.6666666666666666,
              "#ed7953"
             ],
             [
              0.7777777777777778,
              "#fb9f3a"
             ],
             [
              0.8888888888888888,
              "#fdca26"
             ],
             [
              1,
              "#f0f921"
             ]
            ],
            "type": "surface"
           }
          ],
          "table": [
           {
            "cells": {
             "fill": {
              "color": "#EBF0F8"
             },
             "line": {
              "color": "white"
             }
            },
            "header": {
             "fill": {
              "color": "#C8D4E3"
             },
             "line": {
              "color": "white"
             }
            },
            "type": "table"
           }
          ]
         },
         "layout": {
          "annotationdefaults": {
           "arrowcolor": "#2a3f5f",
           "arrowhead": 0,
           "arrowwidth": 1
          },
          "autotypenumbers": "strict",
          "coloraxis": {
           "colorbar": {
            "outlinewidth": 0,
            "ticks": ""
           }
          },
          "colorscale": {
           "diverging": [
            [
             0,
             "#8e0152"
            ],
            [
             0.1,
             "#c51b7d"
            ],
            [
             0.2,
             "#de77ae"
            ],
            [
             0.3,
             "#f1b6da"
            ],
            [
             0.4,
             "#fde0ef"
            ],
            [
             0.5,
             "#f7f7f7"
            ],
            [
             0.6,
             "#e6f5d0"
            ],
            [
             0.7,
             "#b8e186"
            ],
            [
             0.8,
             "#7fbc41"
            ],
            [
             0.9,
             "#4d9221"
            ],
            [
             1,
             "#276419"
            ]
           ],
           "sequential": [
            [
             0,
             "#0d0887"
            ],
            [
             0.1111111111111111,
             "#46039f"
            ],
            [
             0.2222222222222222,
             "#7201a8"
            ],
            [
             0.3333333333333333,
             "#9c179e"
            ],
            [
             0.4444444444444444,
             "#bd3786"
            ],
            [
             0.5555555555555556,
             "#d8576b"
            ],
            [
             0.6666666666666666,
             "#ed7953"
            ],
            [
             0.7777777777777778,
             "#fb9f3a"
            ],
            [
             0.8888888888888888,
             "#fdca26"
            ],
            [
             1,
             "#f0f921"
            ]
           ],
           "sequentialminus": [
            [
             0,
             "#0d0887"
            ],
            [
             0.1111111111111111,
             "#46039f"
            ],
            [
             0.2222222222222222,
             "#7201a8"
            ],
            [
             0.3333333333333333,
             "#9c179e"
            ],
            [
             0.4444444444444444,
             "#bd3786"
            ],
            [
             0.5555555555555556,
             "#d8576b"
            ],
            [
             0.6666666666666666,
             "#ed7953"
            ],
            [
             0.7777777777777778,
             "#fb9f3a"
            ],
            [
             0.8888888888888888,
             "#fdca26"
            ],
            [
             1,
             "#f0f921"
            ]
           ]
          },
          "colorway": [
           "#636efa",
           "#EF553B",
           "#00cc96",
           "#ab63fa",
           "#FFA15A",
           "#19d3f3",
           "#FF6692",
           "#B6E880",
           "#FF97FF",
           "#FECB52"
          ],
          "font": {
           "color": "#2a3f5f"
          },
          "geo": {
           "bgcolor": "white",
           "lakecolor": "white",
           "landcolor": "#E5ECF6",
           "showlakes": true,
           "showland": true,
           "subunitcolor": "white"
          },
          "hoverlabel": {
           "align": "left"
          },
          "hovermode": "closest",
          "mapbox": {
           "style": "light"
          },
          "paper_bgcolor": "white",
          "plot_bgcolor": "#E5ECF6",
          "polar": {
           "angularaxis": {
            "gridcolor": "white",
            "linecolor": "white",
            "ticks": ""
           },
           "bgcolor": "#E5ECF6",
           "radialaxis": {
            "gridcolor": "white",
            "linecolor": "white",
            "ticks": ""
           }
          },
          "scene": {
           "xaxis": {
            "backgroundcolor": "#E5ECF6",
            "gridcolor": "white",
            "gridwidth": 2,
            "linecolor": "white",
            "showbackground": true,
            "ticks": "",
            "zerolinecolor": "white"
           },
           "yaxis": {
            "backgroundcolor": "#E5ECF6",
            "gridcolor": "white",
            "gridwidth": 2,
            "linecolor": "white",
            "showbackground": true,
            "ticks": "",
            "zerolinecolor": "white"
           },
           "zaxis": {
            "backgroundcolor": "#E5ECF6",
            "gridcolor": "white",
            "gridwidth": 2,
            "linecolor": "white",
            "showbackground": true,
            "ticks": "",
            "zerolinecolor": "white"
           }
          },
          "shapedefaults": {
           "line": {
            "color": "#2a3f5f"
           }
          },
          "ternary": {
           "aaxis": {
            "gridcolor": "white",
            "linecolor": "white",
            "ticks": ""
           },
           "baxis": {
            "gridcolor": "white",
            "linecolor": "white",
            "ticks": ""
           },
           "bgcolor": "#E5ECF6",
           "caxis": {
            "gridcolor": "white",
            "linecolor": "white",
            "ticks": ""
           }
          },
          "title": {
           "x": 0.05
          },
          "xaxis": {
           "automargin": true,
           "gridcolor": "white",
           "linecolor": "white",
           "ticks": "",
           "title": {
            "standoff": 15
           },
           "zerolinecolor": "white",
           "zerolinewidth": 2
          },
          "yaxis": {
           "automargin": true,
           "gridcolor": "white",
           "linecolor": "white",
           "ticks": "",
           "title": {
            "standoff": 15
           },
           "zerolinecolor": "white",
           "zerolinewidth": 2
          }
         }
        },
        "xaxis": {
         "anchor": "y",
         "domain": [
          0,
          1
         ],
         "title": {
          "text": "recall_11"
         }
        },
        "yaxis": {
         "anchor": "x",
         "domain": [
          0,
          1
         ],
         "title": {
          "text": "precision_11"
         }
        }
       }
      }
     },
     "metadata": {},
     "output_type": "display_data"
    }
   ],
   "source": [
    "stats\n",
    "records_basic=pd.DataFrame()\n",
    "records = pd.DataFrame.from_records(records, columns=[\"Model\", \"precision_11\", \"recall_11\"])\n",
    "fig = px.line(records, x=\"recall_11\", y=\"precision_11\", color='Model')\n",
    "fig.show()\n",
    "records_comparison=pd.concat([records_comparison,records])\n",
    "records_basic=pd.concat([records_basic,records])"
   ]
  },
  {
   "cell_type": "code",
   "execution_count": 131,
   "metadata": {},
   "outputs": [
    {
     "data": {
      "text/html": [
       "<div>\n",
       "<style scoped>\n",
       "    .dataframe tbody tr th:only-of-type {\n",
       "        vertical-align: middle;\n",
       "    }\n",
       "\n",
       "    .dataframe tbody tr th {\n",
       "        vertical-align: top;\n",
       "    }\n",
       "\n",
       "    .dataframe thead th {\n",
       "        text-align: right;\n",
       "    }\n",
       "</style>\n",
       "<table border=\"1\" class=\"dataframe\">\n",
       "  <thead>\n",
       "    <tr style=\"text-align: right;\">\n",
       "      <th></th>\n",
       "      <th>p10</th>\n",
       "      <th>ndcg5</th>\n",
       "      <th>mrr</th>\n",
       "      <th>ap</th>\n",
       "      <th>recall</th>\n",
       "    </tr>\n",
       "  </thead>\n",
       "  <tbody>\n",
       "    <tr>\n",
       "      <th>docs_brief_title</th>\n",
       "      <td>0.025000</td>\n",
       "      <td>0.019599</td>\n",
       "      <td>0.005148</td>\n",
       "      <td>0.022378</td>\n",
       "      <td>0.757259</td>\n",
       "    </tr>\n",
       "    <tr>\n",
       "      <th>docs_brief_summary</th>\n",
       "      <td>0.083333</td>\n",
       "      <td>0.118670</td>\n",
       "      <td>0.005148</td>\n",
       "      <td>0.056917</td>\n",
       "      <td>0.665127</td>\n",
       "    </tr>\n",
       "    <tr>\n",
       "      <th>docs_detailed_description</th>\n",
       "      <td>0.116667</td>\n",
       "      <td>0.140486</td>\n",
       "      <td>0.005148</td>\n",
       "      <td>0.063137</td>\n",
       "      <td>0.678178</td>\n",
       "    </tr>\n",
       "    <tr>\n",
       "      <th>docs_criteria</th>\n",
       "      <td>0.100000</td>\n",
       "      <td>0.115121</td>\n",
       "      <td>0.005148</td>\n",
       "      <td>0.057237</td>\n",
       "      <td>0.691091</td>\n",
       "    </tr>\n",
       "  </tbody>\n",
       "</table>\n",
       "</div>"
      ],
      "text/plain": [
       "                                p10     ndcg5       mrr        ap    recall\n",
       "docs_brief_title           0.025000  0.019599  0.005148  0.022378  0.757259\n",
       "docs_brief_summary         0.083333  0.118670  0.005148  0.056917  0.665127\n",
       "docs_detailed_description  0.116667  0.140486  0.005148  0.063137  0.678178\n",
       "docs_criteria              0.100000  0.115121  0.005148  0.057237  0.691091"
      ]
     },
     "execution_count": 131,
     "metadata": {},
     "output_type": "execute_result"
    }
   ],
   "source": [
    "stats"
   ]
  },
  {
   "cell_type": "markdown",
   "metadata": {},
   "source": [
    "# JMS for different fields"
   ]
  },
  {
   "cell_type": "code",
   "execution_count": 139,
   "metadata": {},
   "outputs": [],
   "source": [
    "fields_string=[\"docs_brief_title\",\"docs_brief_summary\",\"docs_detailed_description\",\"docs_criteria\"]\n",
    "fields=[docs_brief_title,docs_brief_summary,docs_detailed_description,docs_criteria]\n",
    "lamb=[0.10,0.25,0.25,0.15]\n",
    "records = []\n",
    "statistics = {}\n",
    "for y in range(len(fields)):\n",
    "    myNLP = NLP(trials, cases_test, (1,1), fields[y], ids_brief_title)\n",
    "    matrix_corpus,matrix_documents=myNLP.JMS()\n",
    "    prec = np.zeros(11,)\n",
    "    test = np.zeros(5,)\n",
    "    for x in myNLP.cases.items():\n",
    "        query=myNLP.query_formating(x[1])\n",
    "        results,unordered_results=myNLP.JSM_test(query,lamb[y],matrix_corpus,matrix_documents)\n",
    "        p10,recall,ndcg5,ap,mrr=myNLP.eval(results,x[0])\n",
    "        test = test + np.array([p10, ndcg5, mrr, ap, recall])\n",
    "        prec_11point, recal_11point, tot_relv_ret = myNLP.evalPR(results, x[0])\n",
    "        prec = prec + prec_11point\n",
    "    \n",
    "    prec = prec / len(cases_test.keys())\n",
    "    test = test / len(cases_test.keys())\n",
    "    for p, r in zip(prec, recal_11point):\n",
    "        records.append((fields_string[y]+\"_jms\", p, r))\n",
    "\n",
    "    statistics[fields_string[y]] = test\n",
    "stats = pd.DataFrame.from_dict(statistics, orient=\"index\", columns=[\"p10\", \"ndcg5\", \"mrr\", \"ap\", \"recall\"])\n"
   ]
  },
  {
   "cell_type": "code",
   "execution_count": 133,
   "metadata": {},
   "outputs": [
    {
     "data": {
      "text/html": [
       "<div>\n",
       "<style scoped>\n",
       "    .dataframe tbody tr th:only-of-type {\n",
       "        vertical-align: middle;\n",
       "    }\n",
       "\n",
       "    .dataframe tbody tr th {\n",
       "        vertical-align: top;\n",
       "    }\n",
       "\n",
       "    .dataframe thead th {\n",
       "        text-align: right;\n",
       "    }\n",
       "</style>\n",
       "<table border=\"1\" class=\"dataframe\">\n",
       "  <thead>\n",
       "    <tr style=\"text-align: right;\">\n",
       "      <th></th>\n",
       "      <th>p10</th>\n",
       "      <th>ndcg5</th>\n",
       "      <th>mrr</th>\n",
       "      <th>ap</th>\n",
       "      <th>recall</th>\n",
       "    </tr>\n",
       "  </thead>\n",
       "  <tbody>\n",
       "    <tr>\n",
       "      <th>docs_brief_title</th>\n",
       "      <td>0.033333</td>\n",
       "      <td>0.044670</td>\n",
       "      <td>0.005148</td>\n",
       "      <td>0.033093</td>\n",
       "      <td>0.752188</td>\n",
       "    </tr>\n",
       "    <tr>\n",
       "      <th>docs_brief_summary</th>\n",
       "      <td>0.050000</td>\n",
       "      <td>0.088075</td>\n",
       "      <td>0.005148</td>\n",
       "      <td>0.046976</td>\n",
       "      <td>0.684019</td>\n",
       "    </tr>\n",
       "    <tr>\n",
       "      <th>docs_detailed_description</th>\n",
       "      <td>0.091667</td>\n",
       "      <td>0.141038</td>\n",
       "      <td>0.005148</td>\n",
       "      <td>0.059305</td>\n",
       "      <td>0.732407</td>\n",
       "    </tr>\n",
       "    <tr>\n",
       "      <th>docs_criteria</th>\n",
       "      <td>0.116667</td>\n",
       "      <td>0.175942</td>\n",
       "      <td>0.005148</td>\n",
       "      <td>0.055480</td>\n",
       "      <td>0.697024</td>\n",
       "    </tr>\n",
       "  </tbody>\n",
       "</table>\n",
       "</div>"
      ],
      "text/plain": [
       "                                p10     ndcg5       mrr        ap    recall\n",
       "docs_brief_title           0.033333  0.044670  0.005148  0.033093  0.752188\n",
       "docs_brief_summary         0.050000  0.088075  0.005148  0.046976  0.684019\n",
       "docs_detailed_description  0.091667  0.141038  0.005148  0.059305  0.732407\n",
       "docs_criteria              0.116667  0.175942  0.005148  0.055480  0.697024"
      ]
     },
     "execution_count": 133,
     "metadata": {},
     "output_type": "execute_result"
    }
   ],
   "source": [
    "stats"
   ]
  },
  {
   "cell_type": "code",
   "execution_count": 140,
   "metadata": {},
   "outputs": [
    {
     "data": {
      "application/vnd.plotly.v1+json": {
       "config": {
        "plotlyServerURL": "https://plot.ly"
       },
       "data": [
        {
         "hovertemplate": "Model=docs_brief_title_jms<br>recall_11=%{x}<br>precision_11=%{y}<extra></extra>",
         "legendgroup": "docs_brief_title_jms",
         "line": {
          "color": "#636efa",
          "dash": "solid"
         },
         "marker": {
          "symbol": "circle"
         },
         "mode": "lines",
         "name": "docs_brief_title_jms",
         "orientation": "v",
         "showlegend": true,
         "type": "scatter",
         "x": [
          0,
          0.1,
          0.2,
          0.3,
          0.4,
          0.5,
          0.6,
          0.7,
          0.8,
          0.9,
          1
         ],
         "xaxis": "x",
         "y": [
          0.15235031520110917,
          0.14961417637552724,
          0.06550510302298061,
          0.03689715222642246,
          0.023992198626315905,
          0.01976631799959018,
          0.018166462067705693,
          0.01058373970390296,
          0.005794819046136431,
          0.00559635310408853,
          0.005410211489452162
         ],
         "yaxis": "y"
        },
        {
         "hovertemplate": "Model=docs_brief_summary_jms<br>recall_11=%{x}<br>precision_11=%{y}<extra></extra>",
         "legendgroup": "docs_brief_summary_jms",
         "line": {
          "color": "#EF553B",
          "dash": "solid"
         },
         "marker": {
          "symbol": "circle"
         },
         "mode": "lines",
         "name": "docs_brief_summary_jms",
         "orientation": "v",
         "showlegend": true,
         "type": "scatter",
         "x": [
          0,
          0.1,
          0.2,
          0.3,
          0.4,
          0.5,
          0.6,
          0.7,
          0.8,
          0.9,
          1
         ],
         "xaxis": "x",
         "y": [
          0.19912964146680623,
          0.15414258326168176,
          0.09251877791985041,
          0.060771351560673835,
          0.03703793479913212,
          0.028828728882094572,
          0.02424717411644717,
          0.02071748730895892,
          0.012778059316855805,
          0.00967294533310312,
          0.008866726311879944
         ],
         "yaxis": "y"
        },
        {
         "hovertemplate": "Model=docs_detailed_description_jms<br>recall_11=%{x}<br>precision_11=%{y}<extra></extra>",
         "legendgroup": "docs_detailed_description_jms",
         "line": {
          "color": "#00cc96",
          "dash": "solid"
         },
         "marker": {
          "symbol": "circle"
         },
         "mode": "lines",
         "name": "docs_detailed_description_jms",
         "orientation": "v",
         "showlegend": true,
         "type": "scatter",
         "x": [
          0,
          0.1,
          0.2,
          0.3,
          0.4,
          0.5,
          0.6,
          0.7,
          0.8,
          0.9,
          1
         ],
         "xaxis": "x",
         "y": [
          0.38464125283576617,
          0.23834007892276945,
          0.10363555690900679,
          0.053379930149234,
          0.04836472756111706,
          0.033521034957765324,
          0.02556467615973072,
          0.017930841200485808,
          0.013662221050548184,
          0.010266795096633018,
          0.007559001026210624
         ],
         "yaxis": "y"
        },
        {
         "hovertemplate": "Model=docs_criteria_jms<br>recall_11=%{x}<br>precision_11=%{y}<extra></extra>",
         "legendgroup": "docs_criteria_jms",
         "line": {
          "color": "#ab63fa",
          "dash": "solid"
         },
         "marker": {
          "symbol": "circle"
         },
         "mode": "lines",
         "name": "docs_criteria_jms",
         "orientation": "v",
         "showlegend": true,
         "type": "scatter",
         "x": [
          0,
          0.1,
          0.2,
          0.3,
          0.4,
          0.5,
          0.6,
          0.7,
          0.8,
          0.9,
          1
         ],
         "xaxis": "x",
         "y": [
          0.4677181017334469,
          0.22415033838241247,
          0.09255429349439814,
          0.05402138780931844,
          0.02989697755665392,
          0.018175521846666865,
          0.014210256397903643,
          0.01256191908224623,
          0.008915569249045227,
          0.00593278128864445,
          0.005782581157662839
         ],
         "yaxis": "y"
        }
       ],
       "layout": {
        "legend": {
         "title": {
          "text": "Model"
         },
         "tracegroupgap": 0
        },
        "margin": {
         "t": 60
        },
        "template": {
         "data": {
          "bar": [
           {
            "error_x": {
             "color": "#2a3f5f"
            },
            "error_y": {
             "color": "#2a3f5f"
            },
            "marker": {
             "line": {
              "color": "#E5ECF6",
              "width": 0.5
             },
             "pattern": {
              "fillmode": "overlay",
              "size": 10,
              "solidity": 0.2
             }
            },
            "type": "bar"
           }
          ],
          "barpolar": [
           {
            "marker": {
             "line": {
              "color": "#E5ECF6",
              "width": 0.5
             },
             "pattern": {
              "fillmode": "overlay",
              "size": 10,
              "solidity": 0.2
             }
            },
            "type": "barpolar"
           }
          ],
          "carpet": [
           {
            "aaxis": {
             "endlinecolor": "#2a3f5f",
             "gridcolor": "white",
             "linecolor": "white",
             "minorgridcolor": "white",
             "startlinecolor": "#2a3f5f"
            },
            "baxis": {
             "endlinecolor": "#2a3f5f",
             "gridcolor": "white",
             "linecolor": "white",
             "minorgridcolor": "white",
             "startlinecolor": "#2a3f5f"
            },
            "type": "carpet"
           }
          ],
          "choropleth": [
           {
            "colorbar": {
             "outlinewidth": 0,
             "ticks": ""
            },
            "type": "choropleth"
           }
          ],
          "contour": [
           {
            "colorbar": {
             "outlinewidth": 0,
             "ticks": ""
            },
            "colorscale": [
             [
              0,
              "#0d0887"
             ],
             [
              0.1111111111111111,
              "#46039f"
             ],
             [
              0.2222222222222222,
              "#7201a8"
             ],
             [
              0.3333333333333333,
              "#9c179e"
             ],
             [
              0.4444444444444444,
              "#bd3786"
             ],
             [
              0.5555555555555556,
              "#d8576b"
             ],
             [
              0.6666666666666666,
              "#ed7953"
             ],
             [
              0.7777777777777778,
              "#fb9f3a"
             ],
             [
              0.8888888888888888,
              "#fdca26"
             ],
             [
              1,
              "#f0f921"
             ]
            ],
            "type": "contour"
           }
          ],
          "contourcarpet": [
           {
            "colorbar": {
             "outlinewidth": 0,
             "ticks": ""
            },
            "type": "contourcarpet"
           }
          ],
          "heatmap": [
           {
            "colorbar": {
             "outlinewidth": 0,
             "ticks": ""
            },
            "colorscale": [
             [
              0,
              "#0d0887"
             ],
             [
              0.1111111111111111,
              "#46039f"
             ],
             [
              0.2222222222222222,
              "#7201a8"
             ],
             [
              0.3333333333333333,
              "#9c179e"
             ],
             [
              0.4444444444444444,
              "#bd3786"
             ],
             [
              0.5555555555555556,
              "#d8576b"
             ],
             [
              0.6666666666666666,
              "#ed7953"
             ],
             [
              0.7777777777777778,
              "#fb9f3a"
             ],
             [
              0.8888888888888888,
              "#fdca26"
             ],
             [
              1,
              "#f0f921"
             ]
            ],
            "type": "heatmap"
           }
          ],
          "heatmapgl": [
           {
            "colorbar": {
             "outlinewidth": 0,
             "ticks": ""
            },
            "colorscale": [
             [
              0,
              "#0d0887"
             ],
             [
              0.1111111111111111,
              "#46039f"
             ],
             [
              0.2222222222222222,
              "#7201a8"
             ],
             [
              0.3333333333333333,
              "#9c179e"
             ],
             [
              0.4444444444444444,
              "#bd3786"
             ],
             [
              0.5555555555555556,
              "#d8576b"
             ],
             [
              0.6666666666666666,
              "#ed7953"
             ],
             [
              0.7777777777777778,
              "#fb9f3a"
             ],
             [
              0.8888888888888888,
              "#fdca26"
             ],
             [
              1,
              "#f0f921"
             ]
            ],
            "type": "heatmapgl"
           }
          ],
          "histogram": [
           {
            "marker": {
             "pattern": {
              "fillmode": "overlay",
              "size": 10,
              "solidity": 0.2
             }
            },
            "type": "histogram"
           }
          ],
          "histogram2d": [
           {
            "colorbar": {
             "outlinewidth": 0,
             "ticks": ""
            },
            "colorscale": [
             [
              0,
              "#0d0887"
             ],
             [
              0.1111111111111111,
              "#46039f"
             ],
             [
              0.2222222222222222,
              "#7201a8"
             ],
             [
              0.3333333333333333,
              "#9c179e"
             ],
             [
              0.4444444444444444,
              "#bd3786"
             ],
             [
              0.5555555555555556,
              "#d8576b"
             ],
             [
              0.6666666666666666,
              "#ed7953"
             ],
             [
              0.7777777777777778,
              "#fb9f3a"
             ],
             [
              0.8888888888888888,
              "#fdca26"
             ],
             [
              1,
              "#f0f921"
             ]
            ],
            "type": "histogram2d"
           }
          ],
          "histogram2dcontour": [
           {
            "colorbar": {
             "outlinewidth": 0,
             "ticks": ""
            },
            "colorscale": [
             [
              0,
              "#0d0887"
             ],
             [
              0.1111111111111111,
              "#46039f"
             ],
             [
              0.2222222222222222,
              "#7201a8"
             ],
             [
              0.3333333333333333,
              "#9c179e"
             ],
             [
              0.4444444444444444,
              "#bd3786"
             ],
             [
              0.5555555555555556,
              "#d8576b"
             ],
             [
              0.6666666666666666,
              "#ed7953"
             ],
             [
              0.7777777777777778,
              "#fb9f3a"
             ],
             [
              0.8888888888888888,
              "#fdca26"
             ],
             [
              1,
              "#f0f921"
             ]
            ],
            "type": "histogram2dcontour"
           }
          ],
          "mesh3d": [
           {
            "colorbar": {
             "outlinewidth": 0,
             "ticks": ""
            },
            "type": "mesh3d"
           }
          ],
          "parcoords": [
           {
            "line": {
             "colorbar": {
              "outlinewidth": 0,
              "ticks": ""
             }
            },
            "type": "parcoords"
           }
          ],
          "pie": [
           {
            "automargin": true,
            "type": "pie"
           }
          ],
          "scatter": [
           {
            "fillpattern": {
             "fillmode": "overlay",
             "size": 10,
             "solidity": 0.2
            },
            "type": "scatter"
           }
          ],
          "scatter3d": [
           {
            "line": {
             "colorbar": {
              "outlinewidth": 0,
              "ticks": ""
             }
            },
            "marker": {
             "colorbar": {
              "outlinewidth": 0,
              "ticks": ""
             }
            },
            "type": "scatter3d"
           }
          ],
          "scattercarpet": [
           {
            "marker": {
             "colorbar": {
              "outlinewidth": 0,
              "ticks": ""
             }
            },
            "type": "scattercarpet"
           }
          ],
          "scattergeo": [
           {
            "marker": {
             "colorbar": {
              "outlinewidth": 0,
              "ticks": ""
             }
            },
            "type": "scattergeo"
           }
          ],
          "scattergl": [
           {
            "marker": {
             "colorbar": {
              "outlinewidth": 0,
              "ticks": ""
             }
            },
            "type": "scattergl"
           }
          ],
          "scattermapbox": [
           {
            "marker": {
             "colorbar": {
              "outlinewidth": 0,
              "ticks": ""
             }
            },
            "type": "scattermapbox"
           }
          ],
          "scatterpolar": [
           {
            "marker": {
             "colorbar": {
              "outlinewidth": 0,
              "ticks": ""
             }
            },
            "type": "scatterpolar"
           }
          ],
          "scatterpolargl": [
           {
            "marker": {
             "colorbar": {
              "outlinewidth": 0,
              "ticks": ""
             }
            },
            "type": "scatterpolargl"
           }
          ],
          "scatterternary": [
           {
            "marker": {
             "colorbar": {
              "outlinewidth": 0,
              "ticks": ""
             }
            },
            "type": "scatterternary"
           }
          ],
          "surface": [
           {
            "colorbar": {
             "outlinewidth": 0,
             "ticks": ""
            },
            "colorscale": [
             [
              0,
              "#0d0887"
             ],
             [
              0.1111111111111111,
              "#46039f"
             ],
             [
              0.2222222222222222,
              "#7201a8"
             ],
             [
              0.3333333333333333,
              "#9c179e"
             ],
             [
              0.4444444444444444,
              "#bd3786"
             ],
             [
              0.5555555555555556,
              "#d8576b"
             ],
             [
              0.6666666666666666,
              "#ed7953"
             ],
             [
              0.7777777777777778,
              "#fb9f3a"
             ],
             [
              0.8888888888888888,
              "#fdca26"
             ],
             [
              1,
              "#f0f921"
             ]
            ],
            "type": "surface"
           }
          ],
          "table": [
           {
            "cells": {
             "fill": {
              "color": "#EBF0F8"
             },
             "line": {
              "color": "white"
             }
            },
            "header": {
             "fill": {
              "color": "#C8D4E3"
             },
             "line": {
              "color": "white"
             }
            },
            "type": "table"
           }
          ]
         },
         "layout": {
          "annotationdefaults": {
           "arrowcolor": "#2a3f5f",
           "arrowhead": 0,
           "arrowwidth": 1
          },
          "autotypenumbers": "strict",
          "coloraxis": {
           "colorbar": {
            "outlinewidth": 0,
            "ticks": ""
           }
          },
          "colorscale": {
           "diverging": [
            [
             0,
             "#8e0152"
            ],
            [
             0.1,
             "#c51b7d"
            ],
            [
             0.2,
             "#de77ae"
            ],
            [
             0.3,
             "#f1b6da"
            ],
            [
             0.4,
             "#fde0ef"
            ],
            [
             0.5,
             "#f7f7f7"
            ],
            [
             0.6,
             "#e6f5d0"
            ],
            [
             0.7,
             "#b8e186"
            ],
            [
             0.8,
             "#7fbc41"
            ],
            [
             0.9,
             "#4d9221"
            ],
            [
             1,
             "#276419"
            ]
           ],
           "sequential": [
            [
             0,
             "#0d0887"
            ],
            [
             0.1111111111111111,
             "#46039f"
            ],
            [
             0.2222222222222222,
             "#7201a8"
            ],
            [
             0.3333333333333333,
             "#9c179e"
            ],
            [
             0.4444444444444444,
             "#bd3786"
            ],
            [
             0.5555555555555556,
             "#d8576b"
            ],
            [
             0.6666666666666666,
             "#ed7953"
            ],
            [
             0.7777777777777778,
             "#fb9f3a"
            ],
            [
             0.8888888888888888,
             "#fdca26"
            ],
            [
             1,
             "#f0f921"
            ]
           ],
           "sequentialminus": [
            [
             0,
             "#0d0887"
            ],
            [
             0.1111111111111111,
             "#46039f"
            ],
            [
             0.2222222222222222,
             "#7201a8"
            ],
            [
             0.3333333333333333,
             "#9c179e"
            ],
            [
             0.4444444444444444,
             "#bd3786"
            ],
            [
             0.5555555555555556,
             "#d8576b"
            ],
            [
             0.6666666666666666,
             "#ed7953"
            ],
            [
             0.7777777777777778,
             "#fb9f3a"
            ],
            [
             0.8888888888888888,
             "#fdca26"
            ],
            [
             1,
             "#f0f921"
            ]
           ]
          },
          "colorway": [
           "#636efa",
           "#EF553B",
           "#00cc96",
           "#ab63fa",
           "#FFA15A",
           "#19d3f3",
           "#FF6692",
           "#B6E880",
           "#FF97FF",
           "#FECB52"
          ],
          "font": {
           "color": "#2a3f5f"
          },
          "geo": {
           "bgcolor": "white",
           "lakecolor": "white",
           "landcolor": "#E5ECF6",
           "showlakes": true,
           "showland": true,
           "subunitcolor": "white"
          },
          "hoverlabel": {
           "align": "left"
          },
          "hovermode": "closest",
          "mapbox": {
           "style": "light"
          },
          "paper_bgcolor": "white",
          "plot_bgcolor": "#E5ECF6",
          "polar": {
           "angularaxis": {
            "gridcolor": "white",
            "linecolor": "white",
            "ticks": ""
           },
           "bgcolor": "#E5ECF6",
           "radialaxis": {
            "gridcolor": "white",
            "linecolor": "white",
            "ticks": ""
           }
          },
          "scene": {
           "xaxis": {
            "backgroundcolor": "#E5ECF6",
            "gridcolor": "white",
            "gridwidth": 2,
            "linecolor": "white",
            "showbackground": true,
            "ticks": "",
            "zerolinecolor": "white"
           },
           "yaxis": {
            "backgroundcolor": "#E5ECF6",
            "gridcolor": "white",
            "gridwidth": 2,
            "linecolor": "white",
            "showbackground": true,
            "ticks": "",
            "zerolinecolor": "white"
           },
           "zaxis": {
            "backgroundcolor": "#E5ECF6",
            "gridcolor": "white",
            "gridwidth": 2,
            "linecolor": "white",
            "showbackground": true,
            "ticks": "",
            "zerolinecolor": "white"
           }
          },
          "shapedefaults": {
           "line": {
            "color": "#2a3f5f"
           }
          },
          "ternary": {
           "aaxis": {
            "gridcolor": "white",
            "linecolor": "white",
            "ticks": ""
           },
           "baxis": {
            "gridcolor": "white",
            "linecolor": "white",
            "ticks": ""
           },
           "bgcolor": "#E5ECF6",
           "caxis": {
            "gridcolor": "white",
            "linecolor": "white",
            "ticks": ""
           }
          },
          "title": {
           "x": 0.05
          },
          "xaxis": {
           "automargin": true,
           "gridcolor": "white",
           "linecolor": "white",
           "ticks": "",
           "title": {
            "standoff": 15
           },
           "zerolinecolor": "white",
           "zerolinewidth": 2
          },
          "yaxis": {
           "automargin": true,
           "gridcolor": "white",
           "linecolor": "white",
           "ticks": "",
           "title": {
            "standoff": 15
           },
           "zerolinecolor": "white",
           "zerolinewidth": 2
          }
         }
        },
        "xaxis": {
         "anchor": "y",
         "domain": [
          0,
          1
         ],
         "title": {
          "text": "recall_11"
         }
        },
        "yaxis": {
         "anchor": "x",
         "domain": [
          0,
          1
         ],
         "title": {
          "text": "precision_11"
         }
        }
       }
      }
     },
     "metadata": {},
     "output_type": "display_data"
    }
   ],
   "source": [
    "stats\n",
    "records = pd.DataFrame.from_records(records, columns=[\"Model\", \"precision_11\", \"recall_11\"])\n",
    "\n",
    "fig = px.line(records, x=\"recall_11\", y=\"precision_11\", color='Model')\n",
    "fig.show()\n",
    "records_comparison=pd.concat([records_comparison,records])\n",
    "records_basic=pd.concat([records_basic,records])"
   ]
  },
  {
   "cell_type": "code",
   "execution_count": 141,
   "metadata": {},
   "outputs": [
    {
     "data": {
      "application/vnd.plotly.v1+json": {
       "config": {
        "plotlyServerURL": "https://plot.ly"
       },
       "data": [
        {
         "hovertemplate": "Model=LETOR_A_C=0.7<br>recall_11=%{x}<br>precision_11=%{y}<extra></extra>",
         "legendgroup": "LETOR_A_C=0.7",
         "line": {
          "color": "#636efa",
          "dash": "solid"
         },
         "marker": {
          "symbol": "circle"
         },
         "mode": "lines",
         "name": "LETOR_A_C=0.7",
         "orientation": "v",
         "showlegend": true,
         "type": "scatter",
         "x": [
          0,
          0.1,
          0.2,
          0.3,
          0.4,
          0.5,
          0.6,
          0.7,
          0.8,
          0.9,
          1
         ],
         "xaxis": "x",
         "y": [
          0.361345832820639,
          0.3173552793748669,
          0.15796511423732826,
          0.06762329794991602,
          0.05765589111167633,
          0.048627504285032576,
          0.03817520212361637,
          0.02969865820502432,
          0.022571423414333058,
          0.016697459686322795,
          0.009173059009351713
         ],
         "yaxis": "y"
        },
        {
         "hovertemplate": "Model=LETOR_B_C=0.9<br>recall_11=%{x}<br>precision_11=%{y}<extra></extra>",
         "legendgroup": "LETOR_B_C=0.9",
         "line": {
          "color": "#EF553B",
          "dash": "solid"
         },
         "marker": {
          "symbol": "circle"
         },
         "mode": "lines",
         "name": "LETOR_B_C=0.9",
         "orientation": "v",
         "showlegend": true,
         "type": "scatter",
         "x": [
          0,
          0.1,
          0.2,
          0.3,
          0.4,
          0.5,
          0.6,
          0.7,
          0.8,
          0.9,
          1
         ],
         "xaxis": "x",
         "y": [
          0.3729308390022676,
          0.3156399365478608,
          0.15610406448101513,
          0.06744011407375226,
          0.056981214112057525,
          0.04739925569310632,
          0.03776795841510975,
          0.029927657337257368,
          0.022236759954656297,
          0.016569430592182785,
          0.009127167042048127
         ],
         "yaxis": "y"
        },
        {
         "hovertemplate": "Model=LETOR_C_C=0.3<br>recall_11=%{x}<br>precision_11=%{y}<extra></extra>",
         "legendgroup": "LETOR_C_C=0.3",
         "line": {
          "color": "#00cc96",
          "dash": "solid"
         },
         "marker": {
          "symbol": "circle"
         },
         "mode": "lines",
         "name": "LETOR_C_C=0.3",
         "orientation": "v",
         "showlegend": true,
         "type": "scatter",
         "x": [
          0,
          0.1,
          0.2,
          0.3,
          0.4,
          0.5,
          0.6,
          0.7,
          0.8,
          0.9,
          1
         ],
         "xaxis": "x",
         "y": [
          0.34599316578483236,
          0.27904717509206145,
          0.15027002711376058,
          0.06706883940562626,
          0.0538550633992503,
          0.0469621647722307,
          0.03796924846009296,
          0.031503619722700375,
          0.02433313215727058,
          0.017379441221765796,
          0.00922333202781487
         ],
         "yaxis": "y"
        },
        {
         "hovertemplate": "Model=docs_brief_title_vsm<br>recall_11=%{x}<br>precision_11=%{y}<extra></extra>",
         "legendgroup": "docs_brief_title_vsm",
         "line": {
          "color": "#ab63fa",
          "dash": "solid"
         },
         "marker": {
          "symbol": "circle"
         },
         "mode": "lines",
         "name": "docs_brief_title_vsm",
         "orientation": "v",
         "showlegend": true,
         "type": "scatter",
         "x": [
          0,
          0.1,
          0.2,
          0.3,
          0.4,
          0.5,
          0.6,
          0.7,
          0.8,
          0.9,
          1
         ],
         "xaxis": "x",
         "y": [
          0.08334130039051113,
          0.0707620596939643,
          0.041514767523929845,
          0.030280730460906888,
          0.02150267235549873,
          0.01747778547491598,
          0.015433082378169231,
          0.010328373976898366,
          0.005672695846039338,
          0.005532221212214333,
          0.005451711406591505
         ],
         "yaxis": "y"
        },
        {
         "hovertemplate": "Model=docs_brief_summary_vsm<br>recall_11=%{x}<br>precision_11=%{y}<extra></extra>",
         "legendgroup": "docs_brief_summary_vsm",
         "line": {
          "color": "#FFA15A",
          "dash": "solid"
         },
         "marker": {
          "symbol": "circle"
         },
         "mode": "lines",
         "name": "docs_brief_summary_vsm",
         "orientation": "v",
         "showlegend": true,
         "type": "scatter",
         "x": [
          0,
          0.1,
          0.2,
          0.3,
          0.4,
          0.5,
          0.6,
          0.7,
          0.8,
          0.9,
          1
         ],
         "xaxis": "x",
         "y": [
          0.2406224103260409,
          0.17843418133110334,
          0.09410602865989877,
          0.07920895077467077,
          0.061342812695226755,
          0.03864967488572251,
          0.031709283088919155,
          0.026410617569971415,
          0.013668724632802836,
          0.012149323198547316,
          0.009556431416364785
         ],
         "yaxis": "y"
        },
        {
         "hovertemplate": "Model=docs_detailed_description_vsm<br>recall_11=%{x}<br>precision_11=%{y}<extra></extra>",
         "legendgroup": "docs_detailed_description_vsm",
         "line": {
          "color": "#19d3f3",
          "dash": "solid"
         },
         "marker": {
          "symbol": "circle"
         },
         "mode": "lines",
         "name": "docs_detailed_description_vsm",
         "orientation": "v",
         "showlegend": true,
         "type": "scatter",
         "x": [
          0,
          0.1,
          0.2,
          0.3,
          0.4,
          0.5,
          0.6,
          0.7,
          0.8,
          0.9,
          1
         ],
         "xaxis": "x",
         "y": [
          0.36968858423490397,
          0.2644354573205753,
          0.09596070759062071,
          0.05876023656563525,
          0.04205471881190633,
          0.03172629874876213,
          0.02540398186342267,
          0.021532329631111517,
          0.016519368819744227,
          0.011332200211225782,
          0.0071417619372108965
         ],
         "yaxis": "y"
        },
        {
         "hovertemplate": "Model=docs_criteria_vsm<br>recall_11=%{x}<br>precision_11=%{y}<extra></extra>",
         "legendgroup": "docs_criteria_vsm",
         "line": {
          "color": "#FF6692",
          "dash": "solid"
         },
         "marker": {
          "symbol": "circle"
         },
         "mode": "lines",
         "name": "docs_criteria_vsm",
         "orientation": "v",
         "showlegend": true,
         "type": "scatter",
         "x": [
          0,
          0.1,
          0.2,
          0.3,
          0.4,
          0.5,
          0.6,
          0.7,
          0.8,
          0.9,
          1
         ],
         "xaxis": "x",
         "y": [
          0.2583264145592521,
          0.2030760888651181,
          0.11632581367154272,
          0.09354456105822649,
          0.05257284214540123,
          0.02586686657124279,
          0.01878123179210069,
          0.009794748305038532,
          0.008156254079643972,
          0.007090813374342516,
          0.005569749783796918
         ],
         "yaxis": "y"
        },
        {
         "hovertemplate": "Model=docs_brief_title_jms<br>recall_11=%{x}<br>precision_11=%{y}<extra></extra>",
         "legendgroup": "docs_brief_title_jms",
         "line": {
          "color": "#B6E880",
          "dash": "solid"
         },
         "marker": {
          "symbol": "circle"
         },
         "mode": "lines",
         "name": "docs_brief_title_jms",
         "orientation": "v",
         "showlegend": true,
         "type": "scatter",
         "x": [
          0,
          0.1,
          0.2,
          0.3,
          0.4,
          0.5,
          0.6,
          0.7,
          0.8,
          0.9,
          1
         ],
         "xaxis": "x",
         "y": [
          0.15235031520110917,
          0.14961417637552724,
          0.06550510302298061,
          0.03689715222642246,
          0.023992198626315905,
          0.01976631799959018,
          0.018166462067705693,
          0.01058373970390296,
          0.005794819046136431,
          0.00559635310408853,
          0.005410211489452162
         ],
         "yaxis": "y"
        },
        {
         "hovertemplate": "Model=docs_brief_summary_jms<br>recall_11=%{x}<br>precision_11=%{y}<extra></extra>",
         "legendgroup": "docs_brief_summary_jms",
         "line": {
          "color": "#FF97FF",
          "dash": "solid"
         },
         "marker": {
          "symbol": "circle"
         },
         "mode": "lines",
         "name": "docs_brief_summary_jms",
         "orientation": "v",
         "showlegend": true,
         "type": "scatter",
         "x": [
          0,
          0.1,
          0.2,
          0.3,
          0.4,
          0.5,
          0.6,
          0.7,
          0.8,
          0.9,
          1
         ],
         "xaxis": "x",
         "y": [
          0.19912964146680623,
          0.15414258326168176,
          0.09251877791985041,
          0.060771351560673835,
          0.03703793479913212,
          0.028828728882094572,
          0.02424717411644717,
          0.02071748730895892,
          0.012778059316855805,
          0.00967294533310312,
          0.008866726311879944
         ],
         "yaxis": "y"
        },
        {
         "hovertemplate": "Model=docs_detailed_description_jms<br>recall_11=%{x}<br>precision_11=%{y}<extra></extra>",
         "legendgroup": "docs_detailed_description_jms",
         "line": {
          "color": "#FECB52",
          "dash": "solid"
         },
         "marker": {
          "symbol": "circle"
         },
         "mode": "lines",
         "name": "docs_detailed_description_jms",
         "orientation": "v",
         "showlegend": true,
         "type": "scatter",
         "x": [
          0,
          0.1,
          0.2,
          0.3,
          0.4,
          0.5,
          0.6,
          0.7,
          0.8,
          0.9,
          1
         ],
         "xaxis": "x",
         "y": [
          0.38464125283576617,
          0.23834007892276945,
          0.10363555690900679,
          0.053379930149234,
          0.04836472756111706,
          0.033521034957765324,
          0.02556467615973072,
          0.017930841200485808,
          0.013662221050548184,
          0.010266795096633018,
          0.007559001026210624
         ],
         "yaxis": "y"
        },
        {
         "hovertemplate": "Model=docs_criteria_jms<br>recall_11=%{x}<br>precision_11=%{y}<extra></extra>",
         "legendgroup": "docs_criteria_jms",
         "line": {
          "color": "#636efa",
          "dash": "solid"
         },
         "marker": {
          "symbol": "circle"
         },
         "mode": "lines",
         "name": "docs_criteria_jms",
         "orientation": "v",
         "showlegend": true,
         "type": "scatter",
         "x": [
          0,
          0.1,
          0.2,
          0.3,
          0.4,
          0.5,
          0.6,
          0.7,
          0.8,
          0.9,
          1
         ],
         "xaxis": "x",
         "y": [
          0.4677181017334469,
          0.22415033838241247,
          0.09255429349439814,
          0.05402138780931844,
          0.02989697755665392,
          0.018175521846666865,
          0.014210256397903643,
          0.01256191908224623,
          0.008915569249045227,
          0.00593278128864445,
          0.005782581157662839
         ],
         "yaxis": "y"
        }
       ],
       "layout": {
        "legend": {
         "title": {
          "text": "Model"
         },
         "tracegroupgap": 0
        },
        "margin": {
         "t": 60
        },
        "template": {
         "data": {
          "bar": [
           {
            "error_x": {
             "color": "#2a3f5f"
            },
            "error_y": {
             "color": "#2a3f5f"
            },
            "marker": {
             "line": {
              "color": "#E5ECF6",
              "width": 0.5
             },
             "pattern": {
              "fillmode": "overlay",
              "size": 10,
              "solidity": 0.2
             }
            },
            "type": "bar"
           }
          ],
          "barpolar": [
           {
            "marker": {
             "line": {
              "color": "#E5ECF6",
              "width": 0.5
             },
             "pattern": {
              "fillmode": "overlay",
              "size": 10,
              "solidity": 0.2
             }
            },
            "type": "barpolar"
           }
          ],
          "carpet": [
           {
            "aaxis": {
             "endlinecolor": "#2a3f5f",
             "gridcolor": "white",
             "linecolor": "white",
             "minorgridcolor": "white",
             "startlinecolor": "#2a3f5f"
            },
            "baxis": {
             "endlinecolor": "#2a3f5f",
             "gridcolor": "white",
             "linecolor": "white",
             "minorgridcolor": "white",
             "startlinecolor": "#2a3f5f"
            },
            "type": "carpet"
           }
          ],
          "choropleth": [
           {
            "colorbar": {
             "outlinewidth": 0,
             "ticks": ""
            },
            "type": "choropleth"
           }
          ],
          "contour": [
           {
            "colorbar": {
             "outlinewidth": 0,
             "ticks": ""
            },
            "colorscale": [
             [
              0,
              "#0d0887"
             ],
             [
              0.1111111111111111,
              "#46039f"
             ],
             [
              0.2222222222222222,
              "#7201a8"
             ],
             [
              0.3333333333333333,
              "#9c179e"
             ],
             [
              0.4444444444444444,
              "#bd3786"
             ],
             [
              0.5555555555555556,
              "#d8576b"
             ],
             [
              0.6666666666666666,
              "#ed7953"
             ],
             [
              0.7777777777777778,
              "#fb9f3a"
             ],
             [
              0.8888888888888888,
              "#fdca26"
             ],
             [
              1,
              "#f0f921"
             ]
            ],
            "type": "contour"
           }
          ],
          "contourcarpet": [
           {
            "colorbar": {
             "outlinewidth": 0,
             "ticks": ""
            },
            "type": "contourcarpet"
           }
          ],
          "heatmap": [
           {
            "colorbar": {
             "outlinewidth": 0,
             "ticks": ""
            },
            "colorscale": [
             [
              0,
              "#0d0887"
             ],
             [
              0.1111111111111111,
              "#46039f"
             ],
             [
              0.2222222222222222,
              "#7201a8"
             ],
             [
              0.3333333333333333,
              "#9c179e"
             ],
             [
              0.4444444444444444,
              "#bd3786"
             ],
             [
              0.5555555555555556,
              "#d8576b"
             ],
             [
              0.6666666666666666,
              "#ed7953"
             ],
             [
              0.7777777777777778,
              "#fb9f3a"
             ],
             [
              0.8888888888888888,
              "#fdca26"
             ],
             [
              1,
              "#f0f921"
             ]
            ],
            "type": "heatmap"
           }
          ],
          "heatmapgl": [
           {
            "colorbar": {
             "outlinewidth": 0,
             "ticks": ""
            },
            "colorscale": [
             [
              0,
              "#0d0887"
             ],
             [
              0.1111111111111111,
              "#46039f"
             ],
             [
              0.2222222222222222,
              "#7201a8"
             ],
             [
              0.3333333333333333,
              "#9c179e"
             ],
             [
              0.4444444444444444,
              "#bd3786"
             ],
             [
              0.5555555555555556,
              "#d8576b"
             ],
             [
              0.6666666666666666,
              "#ed7953"
             ],
             [
              0.7777777777777778,
              "#fb9f3a"
             ],
             [
              0.8888888888888888,
              "#fdca26"
             ],
             [
              1,
              "#f0f921"
             ]
            ],
            "type": "heatmapgl"
           }
          ],
          "histogram": [
           {
            "marker": {
             "pattern": {
              "fillmode": "overlay",
              "size": 10,
              "solidity": 0.2
             }
            },
            "type": "histogram"
           }
          ],
          "histogram2d": [
           {
            "colorbar": {
             "outlinewidth": 0,
             "ticks": ""
            },
            "colorscale": [
             [
              0,
              "#0d0887"
             ],
             [
              0.1111111111111111,
              "#46039f"
             ],
             [
              0.2222222222222222,
              "#7201a8"
             ],
             [
              0.3333333333333333,
              "#9c179e"
             ],
             [
              0.4444444444444444,
              "#bd3786"
             ],
             [
              0.5555555555555556,
              "#d8576b"
             ],
             [
              0.6666666666666666,
              "#ed7953"
             ],
             [
              0.7777777777777778,
              "#fb9f3a"
             ],
             [
              0.8888888888888888,
              "#fdca26"
             ],
             [
              1,
              "#f0f921"
             ]
            ],
            "type": "histogram2d"
           }
          ],
          "histogram2dcontour": [
           {
            "colorbar": {
             "outlinewidth": 0,
             "ticks": ""
            },
            "colorscale": [
             [
              0,
              "#0d0887"
             ],
             [
              0.1111111111111111,
              "#46039f"
             ],
             [
              0.2222222222222222,
              "#7201a8"
             ],
             [
              0.3333333333333333,
              "#9c179e"
             ],
             [
              0.4444444444444444,
              "#bd3786"
             ],
             [
              0.5555555555555556,
              "#d8576b"
             ],
             [
              0.6666666666666666,
              "#ed7953"
             ],
             [
              0.7777777777777778,
              "#fb9f3a"
             ],
             [
              0.8888888888888888,
              "#fdca26"
             ],
             [
              1,
              "#f0f921"
             ]
            ],
            "type": "histogram2dcontour"
           }
          ],
          "mesh3d": [
           {
            "colorbar": {
             "outlinewidth": 0,
             "ticks": ""
            },
            "type": "mesh3d"
           }
          ],
          "parcoords": [
           {
            "line": {
             "colorbar": {
              "outlinewidth": 0,
              "ticks": ""
             }
            },
            "type": "parcoords"
           }
          ],
          "pie": [
           {
            "automargin": true,
            "type": "pie"
           }
          ],
          "scatter": [
           {
            "fillpattern": {
             "fillmode": "overlay",
             "size": 10,
             "solidity": 0.2
            },
            "type": "scatter"
           }
          ],
          "scatter3d": [
           {
            "line": {
             "colorbar": {
              "outlinewidth": 0,
              "ticks": ""
             }
            },
            "marker": {
             "colorbar": {
              "outlinewidth": 0,
              "ticks": ""
             }
            },
            "type": "scatter3d"
           }
          ],
          "scattercarpet": [
           {
            "marker": {
             "colorbar": {
              "outlinewidth": 0,
              "ticks": ""
             }
            },
            "type": "scattercarpet"
           }
          ],
          "scattergeo": [
           {
            "marker": {
             "colorbar": {
              "outlinewidth": 0,
              "ticks": ""
             }
            },
            "type": "scattergeo"
           }
          ],
          "scattergl": [
           {
            "marker": {
             "colorbar": {
              "outlinewidth": 0,
              "ticks": ""
             }
            },
            "type": "scattergl"
           }
          ],
          "scattermapbox": [
           {
            "marker": {
             "colorbar": {
              "outlinewidth": 0,
              "ticks": ""
             }
            },
            "type": "scattermapbox"
           }
          ],
          "scatterpolar": [
           {
            "marker": {
             "colorbar": {
              "outlinewidth": 0,
              "ticks": ""
             }
            },
            "type": "scatterpolar"
           }
          ],
          "scatterpolargl": [
           {
            "marker": {
             "colorbar": {
              "outlinewidth": 0,
              "ticks": ""
             }
            },
            "type": "scatterpolargl"
           }
          ],
          "scatterternary": [
           {
            "marker": {
             "colorbar": {
              "outlinewidth": 0,
              "ticks": ""
             }
            },
            "type": "scatterternary"
           }
          ],
          "surface": [
           {
            "colorbar": {
             "outlinewidth": 0,
             "ticks": ""
            },
            "colorscale": [
             [
              0,
              "#0d0887"
             ],
             [
              0.1111111111111111,
              "#46039f"
             ],
             [
              0.2222222222222222,
              "#7201a8"
             ],
             [
              0.3333333333333333,
              "#9c179e"
             ],
             [
              0.4444444444444444,
              "#bd3786"
             ],
             [
              0.5555555555555556,
              "#d8576b"
             ],
             [
              0.6666666666666666,
              "#ed7953"
             ],
             [
              0.7777777777777778,
              "#fb9f3a"
             ],
             [
              0.8888888888888888,
              "#fdca26"
             ],
             [
              1,
              "#f0f921"
             ]
            ],
            "type": "surface"
           }
          ],
          "table": [
           {
            "cells": {
             "fill": {
              "color": "#EBF0F8"
             },
             "line": {
              "color": "white"
             }
            },
            "header": {
             "fill": {
              "color": "#C8D4E3"
             },
             "line": {
              "color": "white"
             }
            },
            "type": "table"
           }
          ]
         },
         "layout": {
          "annotationdefaults": {
           "arrowcolor": "#2a3f5f",
           "arrowhead": 0,
           "arrowwidth": 1
          },
          "autotypenumbers": "strict",
          "coloraxis": {
           "colorbar": {
            "outlinewidth": 0,
            "ticks": ""
           }
          },
          "colorscale": {
           "diverging": [
            [
             0,
             "#8e0152"
            ],
            [
             0.1,
             "#c51b7d"
            ],
            [
             0.2,
             "#de77ae"
            ],
            [
             0.3,
             "#f1b6da"
            ],
            [
             0.4,
             "#fde0ef"
            ],
            [
             0.5,
             "#f7f7f7"
            ],
            [
             0.6,
             "#e6f5d0"
            ],
            [
             0.7,
             "#b8e186"
            ],
            [
             0.8,
             "#7fbc41"
            ],
            [
             0.9,
             "#4d9221"
            ],
            [
             1,
             "#276419"
            ]
           ],
           "sequential": [
            [
             0,
             "#0d0887"
            ],
            [
             0.1111111111111111,
             "#46039f"
            ],
            [
             0.2222222222222222,
             "#7201a8"
            ],
            [
             0.3333333333333333,
             "#9c179e"
            ],
            [
             0.4444444444444444,
             "#bd3786"
            ],
            [
             0.5555555555555556,
             "#d8576b"
            ],
            [
             0.6666666666666666,
             "#ed7953"
            ],
            [
             0.7777777777777778,
             "#fb9f3a"
            ],
            [
             0.8888888888888888,
             "#fdca26"
            ],
            [
             1,
             "#f0f921"
            ]
           ],
           "sequentialminus": [
            [
             0,
             "#0d0887"
            ],
            [
             0.1111111111111111,
             "#46039f"
            ],
            [
             0.2222222222222222,
             "#7201a8"
            ],
            [
             0.3333333333333333,
             "#9c179e"
            ],
            [
             0.4444444444444444,
             "#bd3786"
            ],
            [
             0.5555555555555556,
             "#d8576b"
            ],
            [
             0.6666666666666666,
             "#ed7953"
            ],
            [
             0.7777777777777778,
             "#fb9f3a"
            ],
            [
             0.8888888888888888,
             "#fdca26"
            ],
            [
             1,
             "#f0f921"
            ]
           ]
          },
          "colorway": [
           "#636efa",
           "#EF553B",
           "#00cc96",
           "#ab63fa",
           "#FFA15A",
           "#19d3f3",
           "#FF6692",
           "#B6E880",
           "#FF97FF",
           "#FECB52"
          ],
          "font": {
           "color": "#2a3f5f"
          },
          "geo": {
           "bgcolor": "white",
           "lakecolor": "white",
           "landcolor": "#E5ECF6",
           "showlakes": true,
           "showland": true,
           "subunitcolor": "white"
          },
          "hoverlabel": {
           "align": "left"
          },
          "hovermode": "closest",
          "mapbox": {
           "style": "light"
          },
          "paper_bgcolor": "white",
          "plot_bgcolor": "#E5ECF6",
          "polar": {
           "angularaxis": {
            "gridcolor": "white",
            "linecolor": "white",
            "ticks": ""
           },
           "bgcolor": "#E5ECF6",
           "radialaxis": {
            "gridcolor": "white",
            "linecolor": "white",
            "ticks": ""
           }
          },
          "scene": {
           "xaxis": {
            "backgroundcolor": "#E5ECF6",
            "gridcolor": "white",
            "gridwidth": 2,
            "linecolor": "white",
            "showbackground": true,
            "ticks": "",
            "zerolinecolor": "white"
           },
           "yaxis": {
            "backgroundcolor": "#E5ECF6",
            "gridcolor": "white",
            "gridwidth": 2,
            "linecolor": "white",
            "showbackground": true,
            "ticks": "",
            "zerolinecolor": "white"
           },
           "zaxis": {
            "backgroundcolor": "#E5ECF6",
            "gridcolor": "white",
            "gridwidth": 2,
            "linecolor": "white",
            "showbackground": true,
            "ticks": "",
            "zerolinecolor": "white"
           }
          },
          "shapedefaults": {
           "line": {
            "color": "#2a3f5f"
           }
          },
          "ternary": {
           "aaxis": {
            "gridcolor": "white",
            "linecolor": "white",
            "ticks": ""
           },
           "baxis": {
            "gridcolor": "white",
            "linecolor": "white",
            "ticks": ""
           },
           "bgcolor": "#E5ECF6",
           "caxis": {
            "gridcolor": "white",
            "linecolor": "white",
            "ticks": ""
           }
          },
          "title": {
           "x": 0.05
          },
          "xaxis": {
           "automargin": true,
           "gridcolor": "white",
           "linecolor": "white",
           "ticks": "",
           "title": {
            "standoff": 15
           },
           "zerolinecolor": "white",
           "zerolinewidth": 2
          },
          "yaxis": {
           "automargin": true,
           "gridcolor": "white",
           "linecolor": "white",
           "ticks": "",
           "title": {
            "standoff": 15
           },
           "zerolinecolor": "white",
           "zerolinewidth": 2
          }
         }
        },
        "xaxis": {
         "anchor": "y",
         "domain": [
          0,
          1
         ],
         "title": {
          "text": "recall_11"
         }
        },
        "yaxis": {
         "anchor": "x",
         "domain": [
          0,
          1
         ],
         "title": {
          "text": "precision_11"
         }
        }
       }
      }
     },
     "metadata": {},
     "output_type": "display_data"
    }
   ],
   "source": [
    "fig = px.line(records_comparison, x=\"recall_11\", y=\"precision_11\", color='Model')\n",
    "fig.show()"
   ]
  },
  {
   "cell_type": "code",
   "execution_count": 122,
   "metadata": {},
   "outputs": [
    {
     "data": {
      "application/vnd.plotly.v1+json": {
       "config": {
        "plotlyServerURL": "https://plot.ly"
       },
       "data": [
        {
         "hovertemplate": "Model=docs_brief_title_vsm<br>recall_11=%{x}<br>precision_11=%{y}<extra></extra>",
         "legendgroup": "docs_brief_title_vsm",
         "line": {
          "color": "#636efa",
          "dash": "solid"
         },
         "marker": {
          "symbol": "circle"
         },
         "mode": "lines",
         "name": "docs_brief_title_vsm",
         "orientation": "v",
         "showlegend": true,
         "type": "scatter",
         "x": [
          0,
          0.1,
          0.2,
          0.3,
          0.4,
          0.5,
          0.6,
          0.7,
          0.8,
          0.9,
          1
         ],
         "xaxis": "x",
         "y": [
          0.08334130039051113,
          0.0707620596939643,
          0.041514767523929845,
          0.030280730460906888,
          0.02150267235549873,
          0.01747778547491598,
          0.015433082378169231,
          0.010328373976898366,
          0.005672695846039338,
          0.005532221212214333,
          0.005451711406591505
         ],
         "yaxis": "y"
        },
        {
         "hovertemplate": "Model=docs_brief_summary_vsm<br>recall_11=%{x}<br>precision_11=%{y}<extra></extra>",
         "legendgroup": "docs_brief_summary_vsm",
         "line": {
          "color": "#EF553B",
          "dash": "solid"
         },
         "marker": {
          "symbol": "circle"
         },
         "mode": "lines",
         "name": "docs_brief_summary_vsm",
         "orientation": "v",
         "showlegend": true,
         "type": "scatter",
         "x": [
          0,
          0.1,
          0.2,
          0.3,
          0.4,
          0.5,
          0.6,
          0.7,
          0.8,
          0.9,
          1
         ],
         "xaxis": "x",
         "y": [
          0.2406224103260409,
          0.17843418133110334,
          0.09410602865989877,
          0.07920895077467077,
          0.061342812695226755,
          0.03864967488572251,
          0.031709283088919155,
          0.026410617569971415,
          0.013668724632802836,
          0.012149323198547316,
          0.009556431416364785
         ],
         "yaxis": "y"
        },
        {
         "hovertemplate": "Model=docs_detailed_description_vsm<br>recall_11=%{x}<br>precision_11=%{y}<extra></extra>",
         "legendgroup": "docs_detailed_description_vsm",
         "line": {
          "color": "#00cc96",
          "dash": "solid"
         },
         "marker": {
          "symbol": "circle"
         },
         "mode": "lines",
         "name": "docs_detailed_description_vsm",
         "orientation": "v",
         "showlegend": true,
         "type": "scatter",
         "x": [
          0,
          0.1,
          0.2,
          0.3,
          0.4,
          0.5,
          0.6,
          0.7,
          0.8,
          0.9,
          1
         ],
         "xaxis": "x",
         "y": [
          0.36968858423490397,
          0.2644354573205753,
          0.09596070759062071,
          0.05876023656563525,
          0.04205471881190633,
          0.03172629874876213,
          0.02540398186342267,
          0.021532329631111517,
          0.016519368819744227,
          0.011332200211225782,
          0.0071417619372108965
         ],
         "yaxis": "y"
        },
        {
         "hovertemplate": "Model=docs_criteria_vsm<br>recall_11=%{x}<br>precision_11=%{y}<extra></extra>",
         "legendgroup": "docs_criteria_vsm",
         "line": {
          "color": "#ab63fa",
          "dash": "solid"
         },
         "marker": {
          "symbol": "circle"
         },
         "mode": "lines",
         "name": "docs_criteria_vsm",
         "orientation": "v",
         "showlegend": true,
         "type": "scatter",
         "x": [
          0,
          0.1,
          0.2,
          0.3,
          0.4,
          0.5,
          0.6,
          0.7,
          0.8,
          0.9,
          1
         ],
         "xaxis": "x",
         "y": [
          0.2583264145592521,
          0.2030760888651181,
          0.11632581367154272,
          0.09354456105822649,
          0.05257284214540123,
          0.02586686657124279,
          0.01878123179210069,
          0.009794748305038532,
          0.008156254079643972,
          0.007090813374342516,
          0.005569749783796918
         ],
         "yaxis": "y"
        },
        {
         "hovertemplate": "Model=docs_brief_title_jms<br>recall_11=%{x}<br>precision_11=%{y}<extra></extra>",
         "legendgroup": "docs_brief_title_jms",
         "line": {
          "color": "#FFA15A",
          "dash": "solid"
         },
         "marker": {
          "symbol": "circle"
         },
         "mode": "lines",
         "name": "docs_brief_title_jms",
         "orientation": "v",
         "showlegend": true,
         "type": "scatter",
         "x": [
          0,
          0.1,
          0.2,
          0.3,
          0.4,
          0.5,
          0.6,
          0.7,
          0.8,
          0.9,
          1
         ],
         "xaxis": "x",
         "y": [
          0.15235031520110917,
          0.14961417637552724,
          0.06550510302298061,
          0.03689715222642246,
          0.023992198626315905,
          0.01976631799959018,
          0.018166462067705693,
          0.01058373970390296,
          0.005794819046136431,
          0.00559635310408853,
          0.005410211489452162
         ],
         "yaxis": "y"
        },
        {
         "hovertemplate": "Model=docs_brief_summary_jms<br>recall_11=%{x}<br>precision_11=%{y}<extra></extra>",
         "legendgroup": "docs_brief_summary_jms",
         "line": {
          "color": "#19d3f3",
          "dash": "solid"
         },
         "marker": {
          "symbol": "circle"
         },
         "mode": "lines",
         "name": "docs_brief_summary_jms",
         "orientation": "v",
         "showlegend": true,
         "type": "scatter",
         "x": [
          0,
          0.1,
          0.2,
          0.3,
          0.4,
          0.5,
          0.6,
          0.7,
          0.8,
          0.9,
          1
         ],
         "xaxis": "x",
         "y": [
          0.19912964146680623,
          0.15414258326168176,
          0.09251877791985041,
          0.060771351560673835,
          0.03703793479913212,
          0.028828728882094572,
          0.02424717411644717,
          0.02071748730895892,
          0.012778059316855805,
          0.00967294533310312,
          0.008866726311879944
         ],
         "yaxis": "y"
        },
        {
         "hovertemplate": "Model=docs_detailed_description_jms<br>recall_11=%{x}<br>precision_11=%{y}<extra></extra>",
         "legendgroup": "docs_detailed_description_jms",
         "line": {
          "color": "#FF6692",
          "dash": "solid"
         },
         "marker": {
          "symbol": "circle"
         },
         "mode": "lines",
         "name": "docs_detailed_description_jms",
         "orientation": "v",
         "showlegend": true,
         "type": "scatter",
         "x": [
          0,
          0.1,
          0.2,
          0.3,
          0.4,
          0.5,
          0.6,
          0.7,
          0.8,
          0.9,
          1
         ],
         "xaxis": "x",
         "y": [
          0.38464125283576617,
          0.23834007892276945,
          0.10363555690900679,
          0.053379930149234,
          0.04836472756111706,
          0.033521034957765324,
          0.02556467615973072,
          0.017930841200485808,
          0.013662221050548184,
          0.010266795096633018,
          0.007559001026210624
         ],
         "yaxis": "y"
        },
        {
         "hovertemplate": "Model=docs_criteria_jms<br>recall_11=%{x}<br>precision_11=%{y}<extra></extra>",
         "legendgroup": "docs_criteria_jms",
         "line": {
          "color": "#B6E880",
          "dash": "solid"
         },
         "marker": {
          "symbol": "circle"
         },
         "mode": "lines",
         "name": "docs_criteria_jms",
         "orientation": "v",
         "showlegend": true,
         "type": "scatter",
         "x": [
          0,
          0.1,
          0.2,
          0.3,
          0.4,
          0.5,
          0.6,
          0.7,
          0.8,
          0.9,
          1
         ],
         "xaxis": "x",
         "y": [
          0.4677181017334469,
          0.22415033838241247,
          0.09255429349439814,
          0.05402138780931844,
          0.02989697755665392,
          0.018175521846666865,
          0.014210256397903643,
          0.01256191908224623,
          0.008915569249045227,
          0.00593278128864445,
          0.005782581157662839
         ],
         "yaxis": "y"
        }
       ],
       "layout": {
        "legend": {
         "title": {
          "text": "Model"
         },
         "tracegroupgap": 0
        },
        "margin": {
         "t": 60
        },
        "template": {
         "data": {
          "bar": [
           {
            "error_x": {
             "color": "#2a3f5f"
            },
            "error_y": {
             "color": "#2a3f5f"
            },
            "marker": {
             "line": {
              "color": "#E5ECF6",
              "width": 0.5
             },
             "pattern": {
              "fillmode": "overlay",
              "size": 10,
              "solidity": 0.2
             }
            },
            "type": "bar"
           }
          ],
          "barpolar": [
           {
            "marker": {
             "line": {
              "color": "#E5ECF6",
              "width": 0.5
             },
             "pattern": {
              "fillmode": "overlay",
              "size": 10,
              "solidity": 0.2
             }
            },
            "type": "barpolar"
           }
          ],
          "carpet": [
           {
            "aaxis": {
             "endlinecolor": "#2a3f5f",
             "gridcolor": "white",
             "linecolor": "white",
             "minorgridcolor": "white",
             "startlinecolor": "#2a3f5f"
            },
            "baxis": {
             "endlinecolor": "#2a3f5f",
             "gridcolor": "white",
             "linecolor": "white",
             "minorgridcolor": "white",
             "startlinecolor": "#2a3f5f"
            },
            "type": "carpet"
           }
          ],
          "choropleth": [
           {
            "colorbar": {
             "outlinewidth": 0,
             "ticks": ""
            },
            "type": "choropleth"
           }
          ],
          "contour": [
           {
            "colorbar": {
             "outlinewidth": 0,
             "ticks": ""
            },
            "colorscale": [
             [
              0,
              "#0d0887"
             ],
             [
              0.1111111111111111,
              "#46039f"
             ],
             [
              0.2222222222222222,
              "#7201a8"
             ],
             [
              0.3333333333333333,
              "#9c179e"
             ],
             [
              0.4444444444444444,
              "#bd3786"
             ],
             [
              0.5555555555555556,
              "#d8576b"
             ],
             [
              0.6666666666666666,
              "#ed7953"
             ],
             [
              0.7777777777777778,
              "#fb9f3a"
             ],
             [
              0.8888888888888888,
              "#fdca26"
             ],
             [
              1,
              "#f0f921"
             ]
            ],
            "type": "contour"
           }
          ],
          "contourcarpet": [
           {
            "colorbar": {
             "outlinewidth": 0,
             "ticks": ""
            },
            "type": "contourcarpet"
           }
          ],
          "heatmap": [
           {
            "colorbar": {
             "outlinewidth": 0,
             "ticks": ""
            },
            "colorscale": [
             [
              0,
              "#0d0887"
             ],
             [
              0.1111111111111111,
              "#46039f"
             ],
             [
              0.2222222222222222,
              "#7201a8"
             ],
             [
              0.3333333333333333,
              "#9c179e"
             ],
             [
              0.4444444444444444,
              "#bd3786"
             ],
             [
              0.5555555555555556,
              "#d8576b"
             ],
             [
              0.6666666666666666,
              "#ed7953"
             ],
             [
              0.7777777777777778,
              "#fb9f3a"
             ],
             [
              0.8888888888888888,
              "#fdca26"
             ],
             [
              1,
              "#f0f921"
             ]
            ],
            "type": "heatmap"
           }
          ],
          "heatmapgl": [
           {
            "colorbar": {
             "outlinewidth": 0,
             "ticks": ""
            },
            "colorscale": [
             [
              0,
              "#0d0887"
             ],
             [
              0.1111111111111111,
              "#46039f"
             ],
             [
              0.2222222222222222,
              "#7201a8"
             ],
             [
              0.3333333333333333,
              "#9c179e"
             ],
             [
              0.4444444444444444,
              "#bd3786"
             ],
             [
              0.5555555555555556,
              "#d8576b"
             ],
             [
              0.6666666666666666,
              "#ed7953"
             ],
             [
              0.7777777777777778,
              "#fb9f3a"
             ],
             [
              0.8888888888888888,
              "#fdca26"
             ],
             [
              1,
              "#f0f921"
             ]
            ],
            "type": "heatmapgl"
           }
          ],
          "histogram": [
           {
            "marker": {
             "pattern": {
              "fillmode": "overlay",
              "size": 10,
              "solidity": 0.2
             }
            },
            "type": "histogram"
           }
          ],
          "histogram2d": [
           {
            "colorbar": {
             "outlinewidth": 0,
             "ticks": ""
            },
            "colorscale": [
             [
              0,
              "#0d0887"
             ],
             [
              0.1111111111111111,
              "#46039f"
             ],
             [
              0.2222222222222222,
              "#7201a8"
             ],
             [
              0.3333333333333333,
              "#9c179e"
             ],
             [
              0.4444444444444444,
              "#bd3786"
             ],
             [
              0.5555555555555556,
              "#d8576b"
             ],
             [
              0.6666666666666666,
              "#ed7953"
             ],
             [
              0.7777777777777778,
              "#fb9f3a"
             ],
             [
              0.8888888888888888,
              "#fdca26"
             ],
             [
              1,
              "#f0f921"
             ]
            ],
            "type": "histogram2d"
           }
          ],
          "histogram2dcontour": [
           {
            "colorbar": {
             "outlinewidth": 0,
             "ticks": ""
            },
            "colorscale": [
             [
              0,
              "#0d0887"
             ],
             [
              0.1111111111111111,
              "#46039f"
             ],
             [
              0.2222222222222222,
              "#7201a8"
             ],
             [
              0.3333333333333333,
              "#9c179e"
             ],
             [
              0.4444444444444444,
              "#bd3786"
             ],
             [
              0.5555555555555556,
              "#d8576b"
             ],
             [
              0.6666666666666666,
              "#ed7953"
             ],
             [
              0.7777777777777778,
              "#fb9f3a"
             ],
             [
              0.8888888888888888,
              "#fdca26"
             ],
             [
              1,
              "#f0f921"
             ]
            ],
            "type": "histogram2dcontour"
           }
          ],
          "mesh3d": [
           {
            "colorbar": {
             "outlinewidth": 0,
             "ticks": ""
            },
            "type": "mesh3d"
           }
          ],
          "parcoords": [
           {
            "line": {
             "colorbar": {
              "outlinewidth": 0,
              "ticks": ""
             }
            },
            "type": "parcoords"
           }
          ],
          "pie": [
           {
            "automargin": true,
            "type": "pie"
           }
          ],
          "scatter": [
           {
            "fillpattern": {
             "fillmode": "overlay",
             "size": 10,
             "solidity": 0.2
            },
            "type": "scatter"
           }
          ],
          "scatter3d": [
           {
            "line": {
             "colorbar": {
              "outlinewidth": 0,
              "ticks": ""
             }
            },
            "marker": {
             "colorbar": {
              "outlinewidth": 0,
              "ticks": ""
             }
            },
            "type": "scatter3d"
           }
          ],
          "scattercarpet": [
           {
            "marker": {
             "colorbar": {
              "outlinewidth": 0,
              "ticks": ""
             }
            },
            "type": "scattercarpet"
           }
          ],
          "scattergeo": [
           {
            "marker": {
             "colorbar": {
              "outlinewidth": 0,
              "ticks": ""
             }
            },
            "type": "scattergeo"
           }
          ],
          "scattergl": [
           {
            "marker": {
             "colorbar": {
              "outlinewidth": 0,
              "ticks": ""
             }
            },
            "type": "scattergl"
           }
          ],
          "scattermapbox": [
           {
            "marker": {
             "colorbar": {
              "outlinewidth": 0,
              "ticks": ""
             }
            },
            "type": "scattermapbox"
           }
          ],
          "scatterpolar": [
           {
            "marker": {
             "colorbar": {
              "outlinewidth": 0,
              "ticks": ""
             }
            },
            "type": "scatterpolar"
           }
          ],
          "scatterpolargl": [
           {
            "marker": {
             "colorbar": {
              "outlinewidth": 0,
              "ticks": ""
             }
            },
            "type": "scatterpolargl"
           }
          ],
          "scatterternary": [
           {
            "marker": {
             "colorbar": {
              "outlinewidth": 0,
              "ticks": ""
             }
            },
            "type": "scatterternary"
           }
          ],
          "surface": [
           {
            "colorbar": {
             "outlinewidth": 0,
             "ticks": ""
            },
            "colorscale": [
             [
              0,
              "#0d0887"
             ],
             [
              0.1111111111111111,
              "#46039f"
             ],
             [
              0.2222222222222222,
              "#7201a8"
             ],
             [
              0.3333333333333333,
              "#9c179e"
             ],
             [
              0.4444444444444444,
              "#bd3786"
             ],
             [
              0.5555555555555556,
              "#d8576b"
             ],
             [
              0.6666666666666666,
              "#ed7953"
             ],
             [
              0.7777777777777778,
              "#fb9f3a"
             ],
             [
              0.8888888888888888,
              "#fdca26"
             ],
             [
              1,
              "#f0f921"
             ]
            ],
            "type": "surface"
           }
          ],
          "table": [
           {
            "cells": {
             "fill": {
              "color": "#EBF0F8"
             },
             "line": {
              "color": "white"
             }
            },
            "header": {
             "fill": {
              "color": "#C8D4E3"
             },
             "line": {
              "color": "white"
             }
            },
            "type": "table"
           }
          ]
         },
         "layout": {
          "annotationdefaults": {
           "arrowcolor": "#2a3f5f",
           "arrowhead": 0,
           "arrowwidth": 1
          },
          "autotypenumbers": "strict",
          "coloraxis": {
           "colorbar": {
            "outlinewidth": 0,
            "ticks": ""
           }
          },
          "colorscale": {
           "diverging": [
            [
             0,
             "#8e0152"
            ],
            [
             0.1,
             "#c51b7d"
            ],
            [
             0.2,
             "#de77ae"
            ],
            [
             0.3,
             "#f1b6da"
            ],
            [
             0.4,
             "#fde0ef"
            ],
            [
             0.5,
             "#f7f7f7"
            ],
            [
             0.6,
             "#e6f5d0"
            ],
            [
             0.7,
             "#b8e186"
            ],
            [
             0.8,
             "#7fbc41"
            ],
            [
             0.9,
             "#4d9221"
            ],
            [
             1,
             "#276419"
            ]
           ],
           "sequential": [
            [
             0,
             "#0d0887"
            ],
            [
             0.1111111111111111,
             "#46039f"
            ],
            [
             0.2222222222222222,
             "#7201a8"
            ],
            [
             0.3333333333333333,
             "#9c179e"
            ],
            [
             0.4444444444444444,
             "#bd3786"
            ],
            [
             0.5555555555555556,
             "#d8576b"
            ],
            [
             0.6666666666666666,
             "#ed7953"
            ],
            [
             0.7777777777777778,
             "#fb9f3a"
            ],
            [
             0.8888888888888888,
             "#fdca26"
            ],
            [
             1,
             "#f0f921"
            ]
           ],
           "sequentialminus": [
            [
             0,
             "#0d0887"
            ],
            [
             0.1111111111111111,
             "#46039f"
            ],
            [
             0.2222222222222222,
             "#7201a8"
            ],
            [
             0.3333333333333333,
             "#9c179e"
            ],
            [
             0.4444444444444444,
             "#bd3786"
            ],
            [
             0.5555555555555556,
             "#d8576b"
            ],
            [
             0.6666666666666666,
             "#ed7953"
            ],
            [
             0.7777777777777778,
             "#fb9f3a"
            ],
            [
             0.8888888888888888,
             "#fdca26"
            ],
            [
             1,
             "#f0f921"
            ]
           ]
          },
          "colorway": [
           "#636efa",
           "#EF553B",
           "#00cc96",
           "#ab63fa",
           "#FFA15A",
           "#19d3f3",
           "#FF6692",
           "#B6E880",
           "#FF97FF",
           "#FECB52"
          ],
          "font": {
           "color": "#2a3f5f"
          },
          "geo": {
           "bgcolor": "white",
           "lakecolor": "white",
           "landcolor": "#E5ECF6",
           "showlakes": true,
           "showland": true,
           "subunitcolor": "white"
          },
          "hoverlabel": {
           "align": "left"
          },
          "hovermode": "closest",
          "mapbox": {
           "style": "light"
          },
          "paper_bgcolor": "white",
          "plot_bgcolor": "#E5ECF6",
          "polar": {
           "angularaxis": {
            "gridcolor": "white",
            "linecolor": "white",
            "ticks": ""
           },
           "bgcolor": "#E5ECF6",
           "radialaxis": {
            "gridcolor": "white",
            "linecolor": "white",
            "ticks": ""
           }
          },
          "scene": {
           "xaxis": {
            "backgroundcolor": "#E5ECF6",
            "gridcolor": "white",
            "gridwidth": 2,
            "linecolor": "white",
            "showbackground": true,
            "ticks": "",
            "zerolinecolor": "white"
           },
           "yaxis": {
            "backgroundcolor": "#E5ECF6",
            "gridcolor": "white",
            "gridwidth": 2,
            "linecolor": "white",
            "showbackground": true,
            "ticks": "",
            "zerolinecolor": "white"
           },
           "zaxis": {
            "backgroundcolor": "#E5ECF6",
            "gridcolor": "white",
            "gridwidth": 2,
            "linecolor": "white",
            "showbackground": true,
            "ticks": "",
            "zerolinecolor": "white"
           }
          },
          "shapedefaults": {
           "line": {
            "color": "#2a3f5f"
           }
          },
          "ternary": {
           "aaxis": {
            "gridcolor": "white",
            "linecolor": "white",
            "ticks": ""
           },
           "baxis": {
            "gridcolor": "white",
            "linecolor": "white",
            "ticks": ""
           },
           "bgcolor": "#E5ECF6",
           "caxis": {
            "gridcolor": "white",
            "linecolor": "white",
            "ticks": ""
           }
          },
          "title": {
           "x": 0.05
          },
          "xaxis": {
           "automargin": true,
           "gridcolor": "white",
           "linecolor": "white",
           "ticks": "",
           "title": {
            "standoff": 15
           },
           "zerolinecolor": "white",
           "zerolinewidth": 2
          },
          "yaxis": {
           "automargin": true,
           "gridcolor": "white",
           "linecolor": "white",
           "ticks": "",
           "title": {
            "standoff": 15
           },
           "zerolinecolor": "white",
           "zerolinewidth": 2
          }
         }
        },
        "xaxis": {
         "anchor": "y",
         "domain": [
          0,
          1
         ],
         "title": {
          "text": "recall_11"
         }
        },
        "yaxis": {
         "anchor": "x",
         "domain": [
          0,
          1
         ],
         "title": {
          "text": "precision_11"
         }
        }
       }
      }
     },
     "metadata": {},
     "output_type": "display_data"
    }
   ],
   "source": [
    "fig = px.line(records_basic, x=\"recall_11\", y=\"precision_11\", color='Model')\n",
    "fig.show()"
   ]
  }
 ],
 "metadata": {
  "kernelspec": {
   "display_name": "myenv",
   "language": "python",
   "name": "python3"
  },
  "language_info": {
   "codemirror_mode": {
    "name": "ipython",
    "version": 3
   },
   "file_extension": ".py",
   "mimetype": "text/x-python",
   "name": "python",
   "nbconvert_exporter": "python",
   "pygments_lexer": "ipython3",
   "version": "3.9.13 (main, Aug 25 2022, 18:29:29) \n[Clang 12.0.0 ]"
  },
  "orig_nbformat": 4,
  "vscode": {
   "interpreter": {
    "hash": "3f43bbfdbd25395a25ed823d9b4da9f0e87492724872f8769e910b96ff65c3c0"
   }
  }
 },
 "nbformat": 4,
 "nbformat_minor": 2
}
